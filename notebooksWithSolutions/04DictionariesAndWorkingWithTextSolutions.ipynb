{
 "cells": [
  {
   "cell_type": "markdown",
   "metadata": {},
   "source": [
    "# More Types of Expressions\n",
    "\n",
    "In this notebook we will spend some time manipulating and analyzing text documents. Before we do that, let's introduce a few more types of expressions that might be useful."
   ]
  },
  {
   "cell_type": "markdown",
   "metadata": {},
   "source": [
    "## Dictionaries\n",
    "\n",
    "Python dictionaries are similar to lists. List entries are indexed by their place in the list, but dictionary entries are indexed by keys. That is, Python dictionaries\n",
    "associate *values* to *keys*. Let's start with an example."
   ]
  },
  {
   "cell_type": "code",
   "execution_count": 1,
   "metadata": {},
   "outputs": [
    {
     "data": {
      "text/plain": [
       "{'cat': 17, 'dog': -15, 'turtle': 0}"
      ]
     },
     "execution_count": 1,
     "metadata": {},
     "output_type": "execute_result"
    }
   ],
   "source": [
    "d = {'cat': 17, 'dog': -15, 'turtle': 0}\n",
    "# The keys are 'cat', 'dog', 'turtle'\n",
    "# Their respective values are 17, -15, 0\n",
    "d"
   ]
  },
  {
   "cell_type": "markdown",
   "metadata": {},
   "source": [
    "You can look-up values associated to a given key.\n",
    "\n"
   ]
  },
  {
   "cell_type": "code",
   "execution_count": 2,
   "metadata": {},
   "outputs": [
    {
     "data": {
      "text/plain": [
       "-15"
      ]
     },
     "execution_count": 2,
     "metadata": {},
     "output_type": "execute_result"
    }
   ],
   "source": [
    "d['dog']"
   ]
  },
  {
   "cell_type": "markdown",
   "metadata": {},
   "source": [
    "What happens if you try to access a missing key?\n",
    "\n"
   ]
  },
  {
   "cell_type": "code",
   "execution_count": 3,
   "metadata": {},
   "outputs": [
    {
     "ename": "KeyError",
     "evalue": "'purple'",
     "output_type": "error",
     "traceback": [
      "\u001b[0;31m---------------------------------------------------------------------------\u001b[0m",
      "\u001b[0;31mKeyError\u001b[0m                                  Traceback (most recent call last)",
      "\u001b[0;32m<ipython-input-3-e5ea44c15859>\u001b[0m in \u001b[0;36m<module>\u001b[0;34m\u001b[0m\n\u001b[1;32m      1\u001b[0m \u001b[0md\u001b[0m \u001b[0;34m=\u001b[0m \u001b[0;34m{\u001b[0m\u001b[0;34m'cat'\u001b[0m\u001b[0;34m:\u001b[0m \u001b[0;36m17\u001b[0m\u001b[0;34m,\u001b[0m \u001b[0;34m'dog'\u001b[0m\u001b[0;34m:\u001b[0m \u001b[0;34m-\u001b[0m\u001b[0;36m15\u001b[0m\u001b[0;34m,\u001b[0m \u001b[0;34m'turtle'\u001b[0m\u001b[0;34m:\u001b[0m \u001b[0;36m0\u001b[0m\u001b[0;34m}\u001b[0m\u001b[0;34m\u001b[0m\u001b[0;34m\u001b[0m\u001b[0m\n\u001b[0;32m----> 2\u001b[0;31m \u001b[0mprint\u001b[0m\u001b[0;34m(\u001b[0m\u001b[0md\u001b[0m\u001b[0;34m[\u001b[0m\u001b[0;34m'purple'\u001b[0m\u001b[0;34m]\u001b[0m\u001b[0;34m)\u001b[0m\u001b[0;34m\u001b[0m\u001b[0;34m\u001b[0m\u001b[0m\n\u001b[0m",
      "\u001b[0;31mKeyError\u001b[0m: 'purple'"
     ]
    }
   ],
   "source": [
    "d = {'cat': 17, 'dog': -15, 'turtle': 0}\n",
    "print(d['purple'])"
   ]
  },
  {
   "cell_type": "markdown",
   "metadata": {},
   "source": [
    "Contrast that with the result of using `get`.\n",
    "\n"
   ]
  },
  {
   "cell_type": "code",
   "execution_count": 4,
   "metadata": {},
   "outputs": [
    {
     "name": "stdout",
     "output_type": "stream",
     "text": [
      "17\n",
      "None\n"
     ]
    }
   ],
   "source": [
    "d = {'cat': 17, 'dog': -15, 'turtle': 0}\n",
    "print(d.get('cat'))\n",
    "print(d.get('purple'))"
   ]
  },
  {
   "cell_type": "markdown",
   "metadata": {},
   "source": [
    "Values can be reassigned."
   ]
  },
  {
   "cell_type": "code",
   "execution_count": 5,
   "metadata": {},
   "outputs": [
    {
     "name": "stdout",
     "output_type": "stream",
     "text": [
      "17\n",
      "{'cat': 1000, 'dog': -15, 'turtle': 0, 'fish': 100}\n"
     ]
    }
   ],
   "source": [
    "d = {'cat': 17, 'dog': -15, 'turtle': 0, 'fish': 100}\n",
    "print(d['cat'])\n",
    "d['cat'] = 1000\n",
    "print(d)"
   ]
  },
  {
   "cell_type": "markdown",
   "metadata": {},
   "source": [
    "Keys, along with associated values, can be removed."
   ]
  },
  {
   "cell_type": "code",
   "execution_count": 6,
   "metadata": {},
   "outputs": [
    {
     "data": {
      "text/plain": [
       "{'cat': 1000, 'dog': -15, 'turtle': 0}"
      ]
     },
     "execution_count": 6,
     "metadata": {},
     "output_type": "execute_result"
    }
   ],
   "source": [
    "del(d['fish'])\n",
    "d"
   ]
  },
  {
   "cell_type": "markdown",
   "metadata": {},
   "source": [
    "They can also be added."
   ]
  },
  {
   "cell_type": "code",
   "execution_count": 7,
   "metadata": {},
   "outputs": [
    {
     "data": {
      "text/plain": [
       "{'cat': 1000, 'dog': -15, 'turtle': 0, 'ferret': 900}"
      ]
     },
     "execution_count": 7,
     "metadata": {},
     "output_type": "execute_result"
    }
   ],
   "source": [
    "d['ferret']=900\n",
    "d"
   ]
  },
  {
   "cell_type": "markdown",
   "metadata": {},
   "source": [
    "### Creating Dictionaries\n",
    "\n",
    "There are several methods for creating dictionaries. Let's look at a few of them by example.\n",
    "\n",
    "In this first example, notice that the keys and the values are strings. Keys/values can be of virtually any Python expression type."
   ]
  },
  {
   "cell_type": "code",
   "execution_count": 8,
   "metadata": {},
   "outputs": [
    {
     "data": {
      "text/plain": [
       "{'apple': 'red', 'carrot': 'orange', 'lemon': 'yellow'}"
      ]
     },
     "execution_count": 8,
     "metadata": {},
     "output_type": "execute_result"
    }
   ],
   "source": [
    "food_colors = {} # Start with an 'empty dictionary'\n",
    "food_colors['apple'] = 'red' # Add keys and their values\n",
    "food_colors['carrot'] = 'orange'\n",
    "food_colors['lemon'] = 'yellow'\n",
    "\n",
    "food_colors"
   ]
  },
  {
   "cell_type": "markdown",
   "metadata": {},
   "source": [
    "We can iterate over keys in a dictionary."
   ]
  },
  {
   "cell_type": "code",
   "execution_count": 9,
   "metadata": {},
   "outputs": [
    {
     "name": "stdout",
     "output_type": "stream",
     "text": [
      "The color of apple is red\n",
      "The color of carrot is orange\n",
      "The color of lemon is yellow\n"
     ]
    }
   ],
   "source": [
    "for key in food_colors:\n",
    "    print('The color of '+key+' is '+food_colors[key])    "
   ]
  },
  {
   "cell_type": "markdown",
   "metadata": {},
   "source": [
    "Here is another example of creating a dictionary. Note that the types of keys/values can be mixed."
   ]
  },
  {
   "cell_type": "code",
   "execution_count": 10,
   "metadata": {},
   "outputs": [
    {
     "data": {
      "text/plain": [
       "{'cat': 'apple', 100: 'dog', 'a': 9}"
      ]
     },
     "execution_count": 10,
     "metadata": {},
     "output_type": "execute_result"
    }
   ],
   "source": [
    "L = [['cat','apple'],[100,'dog'],['a',9]] # Create a list of pairs\n",
    "\n",
    "d = dict(L)\n",
    "# The dict function uses the first entry in each pair of L as a key and the second as \n",
    "# the associated value.\n",
    "d"
   ]
  },
  {
   "cell_type": "markdown",
   "metadata": {},
   "source": [
    "Just like list comphrehension, there is dictionary comprehension."
   ]
  },
  {
   "cell_type": "code",
   "execution_count": 11,
   "metadata": {},
   "outputs": [
    {
     "data": {
      "text/plain": [
       "{'apple': 5, 'mango': 5, 'banana': 6, 'cherry': 6}"
      ]
     },
     "execution_count": 11,
     "metadata": {},
     "output_type": "execute_result"
    }
   ],
   "source": [
    "fruits = ['apple', 'mango', 'banana','cherry']\n",
    "\n",
    "word_lengths = {f:len(f) for f in fruits}\n",
    "\n",
    "word_lengths"
   ]
  },
  {
   "cell_type": "markdown",
   "metadata": {},
   "source": [
    "### Exercise\n",
    "\n",
    "Experiment with dictionary creation to determine what types of objects are allowed as keys in a list and what types of objects are allowed as values. \n",
    "\n",
    "In particular:\n",
    "\n",
    "1) Find one expression type which can't be used as a key.\n",
    "\n",
    "2) Determine whether that object type can be used as a value.\n",
    "\n",
    "3) Can keys be repeated? Can values be repeated?"
   ]
  },
  {
   "cell_type": "code",
   "execution_count": 5,
   "metadata": {
    "scrolled": true
   },
   "outputs": [
    {
     "ename": "TypeError",
     "evalue": "unhashable type: 'list'",
     "output_type": "error",
     "traceback": [
      "\u001b[0;31m---------------------------------------------------------------------------\u001b[0m",
      "\u001b[0;31mTypeError\u001b[0m                                 Traceback (most recent call last)",
      "\u001b[0;32m<ipython-input-5-d3617ef3fab0>\u001b[0m in \u001b[0;36m<module>\u001b[0;34m\u001b[0m\n\u001b[0;32m----> 1\u001b[0;31m \u001b[0md\u001b[0m \u001b[0;34m=\u001b[0m \u001b[0;34m{\u001b[0m\u001b[0;34m[\u001b[0m\u001b[0;36m1\u001b[0m\u001b[0;34m,\u001b[0m\u001b[0;36m2\u001b[0m\u001b[0;34m,\u001b[0m\u001b[0;36m3\u001b[0m\u001b[0;34m]\u001b[0m\u001b[0;34m:\u001b[0m\u001b[0;36m1\u001b[0m\u001b[0;34m}\u001b[0m\u001b[0;34m\u001b[0m\u001b[0;34m\u001b[0m\u001b[0m\n\u001b[0m",
      "\u001b[0;31mTypeError\u001b[0m: unhashable type: 'list'"
     ]
    }
   ],
   "source": [
    "d = {[1,2,3]:1}"
   ]
  },
  {
   "cell_type": "code",
   "execution_count": 6,
   "metadata": {},
   "outputs": [],
   "source": [
    "d = {1:[1,2,3]}"
   ]
  },
  {
   "cell_type": "markdown",
   "metadata": {},
   "source": [
    "### Exercise\n",
    "\n",
    "Use a dictionary to make a \"menu\" containing five foods and their prices. Use your dictionary (and probably something like a `for` loop) to print out a readable menu."
   ]
  },
  {
   "cell_type": "code",
   "execution_count": 7,
   "metadata": {},
   "outputs": [
    {
     "name": "stdout",
     "output_type": "stream",
     "text": [
      "hamburger 5\n",
      "fries 3\n",
      "soda 2\n",
      "pasta 6\n",
      "pizza 10\n"
     ]
    }
   ],
   "source": [
    "menu = {'hamburger':5, 'fries':3, 'soda':2, 'pasta':6, 'pizza':10}\n",
    "for item in menu:\n",
    "    print(item, menu[item])"
   ]
  },
  {
   "cell_type": "markdown",
   "metadata": {},
   "source": [
    "### Some Other Dictionary Methods\n",
    "\n",
    "Here are a few other things you can do with dictionaries which might prove useful (by no means an exhaustive list!). Let's define a list to test things on, then determine the purpose of each operation below."
   ]
  },
  {
   "cell_type": "code",
   "execution_count": 12,
   "metadata": {},
   "outputs": [],
   "source": [
    "animal_noises = {'cat':'meow','dog':'woof','cow':'moo'}"
   ]
  },
  {
   "cell_type": "code",
   "execution_count": 13,
   "metadata": {},
   "outputs": [
    {
     "data": {
      "text/plain": [
       "['cat', 'dog', 'cow']"
      ]
     },
     "execution_count": 13,
     "metadata": {},
     "output_type": "execute_result"
    }
   ],
   "source": [
    "list(animal_noises.keys())\n",
    "# What happens if we don't plug this into the list function?"
   ]
  },
  {
   "cell_type": "code",
   "execution_count": 14,
   "metadata": {},
   "outputs": [
    {
     "data": {
      "text/plain": [
       "['meow', 'woof', 'moo']"
      ]
     },
     "execution_count": 14,
     "metadata": {},
     "output_type": "execute_result"
    }
   ],
   "source": [
    "list(animal_noises.values())"
   ]
  },
  {
   "cell_type": "code",
   "execution_count": 15,
   "metadata": {},
   "outputs": [
    {
     "data": {
      "text/plain": [
       "[('cat', 'meow'), ('dog', 'woof'), ('cow', 'moo')]"
      ]
     },
     "execution_count": 15,
     "metadata": {},
     "output_type": "execute_result"
    }
   ],
   "source": [
    "list(animal_noises.items())\n",
    "\n",
    "# The output is a list. What is the type of each element in the list?"
   ]
  },
  {
   "cell_type": "markdown",
   "metadata": {},
   "source": [
    "We met `get` earlier, but there is more to `get`.  For instance, there\n",
    "is a facility for including default values instead of `None`.\n",
    "\n"
   ]
  },
  {
   "cell_type": "code",
   "execution_count": 16,
   "metadata": {},
   "outputs": [
    {
     "name": "stdout",
     "output_type": "stream",
     "text": [
      "meow\n",
      "No such animal\n"
     ]
    }
   ],
   "source": [
    "default = 'No such animal'\n",
    "print(animal_noises.get('cat',default))\n",
    "print(animal_noises.get('purple',default))"
   ]
  },
  {
   "cell_type": "markdown",
   "metadata": {},
   "source": [
    "There is also `pop`.\n",
    "\n"
   ]
  },
  {
   "cell_type": "code",
   "execution_count": 17,
   "metadata": {},
   "outputs": [
    {
     "name": "stdout",
     "output_type": "stream",
     "text": [
      "{'cat': 'meow', 'dog': 'woof', 'cow': 'moo'}\n",
      "meow\n",
      "{'dog': 'woof', 'cow': 'moo'}\n"
     ]
    }
   ],
   "source": [
    "print(animal_noises)\n",
    "print(animal_noises.pop('cat'))\n",
    "print(animal_noises)"
   ]
  },
  {
   "cell_type": "markdown",
   "metadata": {},
   "source": [
    "What if we want to combine two dictionaries?"
   ]
  },
  {
   "cell_type": "code",
   "execution_count": 18,
   "metadata": {},
   "outputs": [],
   "source": [
    "animal_noises2 = {'bird':'squawk','fly':'buzz'} # Define another dictionary for testing."
   ]
  },
  {
   "cell_type": "code",
   "execution_count": 19,
   "metadata": {},
   "outputs": [
    {
     "ename": "TypeError",
     "evalue": "unsupported operand type(s) for +: 'dict' and 'dict'",
     "output_type": "error",
     "traceback": [
      "\u001b[0;31m---------------------------------------------------------------------------\u001b[0m",
      "\u001b[0;31mTypeError\u001b[0m                                 Traceback (most recent call last)",
      "\u001b[0;32m<ipython-input-19-9c18376cfde9>\u001b[0m in \u001b[0;36m<module>\u001b[0;34m\u001b[0m\n\u001b[0;32m----> 1\u001b[0;31m \u001b[0manimal_noises\u001b[0m \u001b[0;34m+\u001b[0m \u001b[0manimal_noises2\u001b[0m\u001b[0;34m\u001b[0m\u001b[0;34m\u001b[0m\u001b[0m\n\u001b[0m",
      "\u001b[0;31mTypeError\u001b[0m: unsupported operand type(s) for +: 'dict' and 'dict'"
     ]
    }
   ],
   "source": [
    "animal_noises + animal_noises2"
   ]
  },
  {
   "cell_type": "code",
   "execution_count": 20,
   "metadata": {},
   "outputs": [
    {
     "name": "stdout",
     "output_type": "stream",
     "text": [
      "{'dog': 'woof', 'cow': 'moo'} {'bird': 'squawk', 'fly': 'buzz'}\n",
      "{'dog': 'woof', 'cow': 'moo', 'bird': 'squawk', 'fly': 'buzz'}\n"
     ]
    }
   ],
   "source": [
    "print(animal_noises,animal_noises2)\n",
    "animal_noises.update(animal_noises2)\n",
    "print(animal_noises)"
   ]
  },
  {
   "cell_type": "markdown",
   "metadata": {},
   "source": [
    "What happens if we combine dictionaries with some repeated keys?"
   ]
  },
  {
   "cell_type": "code",
   "execution_count": 21,
   "metadata": {},
   "outputs": [],
   "source": [
    "# Experiment to figure it out!\n"
   ]
  },
  {
   "cell_type": "markdown",
   "metadata": {},
   "source": [
    "## Sets\n",
    "\n",
    "Sets are similar to lists, except they are unordered and can't contain duplicate entries (just like mathematical sets!). Standard set operations like intersection, union, etc. can be performed on set objects."
   ]
  },
  {
   "cell_type": "code",
   "execution_count": 2,
   "metadata": {},
   "outputs": [
    {
     "name": "stdout",
     "output_type": "stream",
     "text": [
      "['cat', 'dog', 'cat', 'cow', 'cow']\n",
      "{'cat', 'dog', 'cow'}\n"
     ]
    }
   ],
   "source": [
    "animals = ['cat','dog','cat','cow','cow']\n",
    "animal_set = set(animals)\n",
    "\n",
    "print(animals)\n",
    "print(animal_set)"
   ]
  },
  {
   "cell_type": "code",
   "execution_count": 3,
   "metadata": {},
   "outputs": [
    {
     "name": "stdout",
     "output_type": "stream",
     "text": [
      "{'dog', 'ferret', 'cow', 'goat'}\n",
      "{'dog', 'cow'}\n"
     ]
    }
   ],
   "source": [
    "animal_set2 = set(['ferret','goat','cow','dog'])\n",
    "\n",
    "S = animal_set.intersection(animal_set2)\n",
    "\n",
    "print(animal_set2)\n",
    "print(S)"
   ]
  },
  {
   "cell_type": "markdown",
   "metadata": {},
   "source": [
    "### Exercise\n",
    "\n",
    "Try to guess the syntax to take the union of `animal_set` and `animal_set2`."
   ]
  },
  {
   "cell_type": "code",
   "execution_count": 4,
   "metadata": {},
   "outputs": [
    {
     "data": {
      "text/plain": [
       "{'cat', 'cow', 'dog', 'ferret', 'goat'}"
      ]
     },
     "execution_count": 4,
     "metadata": {},
     "output_type": "execute_result"
    }
   ],
   "source": [
    "animal_set.union(animal_set2)"
   ]
  },
  {
   "cell_type": "markdown",
   "metadata": {},
   "source": [
    "# Analysis of Movie Synopses\n",
    "\n",
    "Now we will apply our Python skills to analyze a dataset of movie synopses from Wikipedia. We will use data that I borrowed from https://github.com/brandomr/document_cluster. It includes a list of 100 movie titles, together with their synopses from Wikipedia. "
   ]
  },
  {
   "cell_type": "markdown",
   "metadata": {},
   "source": [
    "## Importing and Cleaning the Data\n",
    "\n",
    "The first step is to load the data. As usual, we have to clean the data (although these datasets were chosen because they are already pretty clean!)"
   ]
  },
  {
   "cell_type": "code",
   "execution_count": 12,
   "metadata": {
    "scrolled": true
   },
   "outputs": [
    {
     "name": "stdout",
     "output_type": "stream",
     "text": [
      "The Godfather\n",
      "The Shawshank Redemption\n",
      "Schindler's List\n",
      "Raging Bull\n",
      "Casablanca\n",
      "One Flew Over the Cuckoo's Nest\n",
      "Gone with the Wind\n",
      "Citizen Kane\n",
      "The Wizard of Oz\n",
      "Titanic\n",
      "Lawrence of Arabia\n",
      "The Godfather: Part II\n",
      "Psycho\n",
      "Sunset Blvd.\n",
      "Vertigo\n",
      "On the Waterfront\n",
      "Forrest Gump\n",
      "The Sound of Music\n",
      "West Side Story\n",
      "Star Wars\n",
      "E.T. the Extra-Terrestrial\n",
      "2001: A Space Odyssey\n",
      "The Silence of the Lambs\n",
      "Chinatown\n",
      "The Bridge on the River Kwai\n",
      "Singin' in the Rain\n",
      "It's a Wonderful Life\n",
      "Some Like It Hot\n",
      "12 Angry Men\n",
      "Dr. Strangelove or: How I Learned to Stop Worrying and Love the Bomb\n",
      "Amadeus\n",
      "Apocalypse Now\n",
      "Gandhi\n",
      "The Lord of the Rings: The Return of the King\n",
      "Gladiator\n",
      "From Here to Eternity\n",
      "Saving Private Ryan\n",
      "Unforgiven\n",
      "Raiders of the Lost Ark\n",
      "Rocky\n",
      "A Streetcar Named Desire\n",
      "The Philadelphia Story\n",
      "To Kill a Mockingbird\n",
      "An American in Paris\n",
      "The Best Years of Our Lives\n",
      "My Fair Lady\n",
      "Ben-Hur\n",
      "Doctor Zhivago\n",
      "Patton\n",
      "Jaws\n",
      "Braveheart\n",
      "The Good, the Bad and the Ugly\n",
      "Butch Cassidy and the Sundance Kid\n",
      "The Treasure of the Sierra Madre\n",
      "The Apartment\n",
      "Platoon\n",
      "High Noon\n",
      "Dances with Wolves\n",
      "The Pianist\n",
      "Goodfellas\n",
      "The Exorcist\n",
      "The Deer Hunter\n",
      "All Quiet on the Western Front\n",
      "The French Connection\n",
      "City Lights\n",
      "The King's Speech\n",
      "It Happened One Night\n",
      "A Place in the Sun\n",
      "Midnight Cowboy\n",
      "Mr. Smith Goes to Washington\n",
      "Rain Man\n",
      "Annie Hall\n",
      "Out of Africa\n",
      "Good Will Hunting\n",
      "Terms of Endearment\n",
      "Tootsie\n",
      "Fargo\n",
      "Giant\n",
      "The Grapes of Wrath\n",
      "Shane\n",
      "The Green Mile\n",
      "Close Encounters of the Third Kind\n",
      "Network\n",
      "Nashville\n",
      "The Graduate\n",
      "American Graffiti\n",
      "Pulp Fiction\n",
      "The African Queen\n",
      "Stagecoach\n",
      "Mutiny on the Bounty\n",
      "The Maltese Falcon\n",
      "A Clockwork Orange\n",
      "Taxi Driver\n",
      "Wuthering Heights\n",
      "Double Indemnity\n",
      "Rebel Without a Cause\n",
      "Rear Window\n",
      "The Third Man\n",
      "North by Northwest\n",
      "Yankee Doodle Dandy\n",
      "\n"
     ]
    },
    {
     "data": {
      "text/plain": [
       "1738"
      ]
     },
     "execution_count": 12,
     "metadata": {},
     "output_type": "execute_result"
    }
   ],
   "source": [
    "#Upload the raw data for the movie titles\n",
    "f = open('../data/title_list.txt')\n",
    "titles_raw_data = f.read()  \n",
    "f.close()\n",
    "print(titles_raw_data)\n",
    "len(titles_raw_data)"
   ]
  },
  {
   "cell_type": "markdown",
   "metadata": {},
   "source": [
    "The titles data is one long string. It looks like we should split over new lines."
   ]
  },
  {
   "cell_type": "code",
   "execution_count": 13,
   "metadata": {},
   "outputs": [
    {
     "data": {
      "text/plain": [
       "101"
      ]
     },
     "execution_count": 13,
     "metadata": {},
     "output_type": "execute_result"
    }
   ],
   "source": [
    "titles = titles_raw_data.split('\\n')\n",
    "len(titles)"
   ]
  },
  {
   "cell_type": "markdown",
   "metadata": {},
   "source": [
    "There are only 100 movie titles. The last line is blank, hence the 101 length. Let's slice off the last entry."
   ]
  },
  {
   "cell_type": "code",
   "execution_count": 14,
   "metadata": {},
   "outputs": [
    {
     "data": {
      "text/plain": [
       "100"
      ]
     },
     "execution_count": 14,
     "metadata": {},
     "output_type": "execute_result"
    }
   ],
   "source": [
    "titles = titles[:-1]\n",
    "len(titles)"
   ]
  },
  {
   "cell_type": "markdown",
   "metadata": {},
   "source": [
    "Finally we load the synopses."
   ]
  },
  {
   "cell_type": "code",
   "execution_count": 15,
   "metadata": {},
   "outputs": [
    {
     "name": "stdout",
     "output_type": "stream",
     "text": [
      "984976\n"
     ]
    }
   ],
   "source": [
    "f = open('../data/synopses_list_wiki.txt')\n",
    "synopses_raw_data = f.read()  \n",
    "f.close()\n",
    "print(len(synopses_raw_data))"
   ]
  },
  {
   "cell_type": "markdown",
   "metadata": {},
   "source": [
    "Once again, the data is loaded as a single long string. Let's take a look at it to see how we should split it up."
   ]
  },
  {
   "cell_type": "code",
   "execution_count": 16,
   "metadata": {},
   "outputs": [
    {
     "data": {
      "text/plain": [
       "' Plot  [edit]  [  [  edit  edit  ]  ]  \\n  On the day of his only daughter\\'s wedding, Vito Corleone hears requests in his role as the Godfather, the Don of a New York crime family. Vito\\'s youngest son, Michael, in a Marine Corps uniform, introduces his girlfriend, Kay Adams, to his family at the sprawling reception. Vito\\'s godson Johnny Fontane, a popular singer, pleads for help in securing a coveted movie role, so Vito dispatches his consigliere, Tom Hagen, to Los Angeles to influence the abrasive studio head, Jack Woltz. Woltz is unmoved until the morning he wakes up in bed with the severed head of his prized stallion.  On the day of his only daughter\\'s wedding,   Vito Corleone  Vito Corleone   hears requests in his role as the Godfather, the   Don  Don   of a New York crime family. Vito\\'s youngest son,   Michael  Michael  , in a   Marine Corps  Marine Corps   uniform, introduces his girlfriend,   Kay Adams  Kay Adams  , to his family at the sprawling reception. Vito\\'s godson   Johnny Fontane  Johnny Fontane  , a popular singer, pleads for help in securing a coveted movie role, so Vito dispatches his   consigliere  consigliere  ,   Tom Hagen  Tom Hagen  , to Los Angeles to influence the abrasive studio head,   Jack Woltz  Jack Woltz  . Woltz is unmoved until the morning he wakes up in bed with the severed head of his prized   stallion  stallion  .  \\n  Shortly before Christmas 1945, drug baron Virgil \"The Turk\" Sollozzo, backed by the Corleones\\' rivals, the Tattaglias, asks Vito for investment in the emerging drug trade and protection through his political connections. Vito disapproves of drug dealers, so he sends his enforcer, Luca Brasi, to spy on them. The family then receives two fish wrapped in Brasi\\'s vest, imparting that he \"sleeps with the fishes\". An assassination attempt by Sollozzo\\'s men lands Vito in the hospital, so his eldest son, Sonny, takes command. Sollozzo kidnaps Hagen to pressure Sonny to accept his deal. Michael thwarts a second assassination attempt on his father at the hospital; his jaw is broken by Police Captain McCluskey, who is also Sollozzo\\'s bodyguard. Sonny retaliates for the attacks on his father by having Tattaglia\\'s son killed. Michael comes up with a plan to hit Sollozzo and McCluskey: on the pretext of settling the dispute, Michael accepts their offer to meet in a Bronx restaurant and, retrieving a planted handgun, murders them.  Shortly before Christmas 1945, drug baron   Virgil \"The Turk\" Sollozzo  Virgil \"The Turk\" Sollozzo  , backed by the Corleones\\' rivals, the Tattaglias, asks Vito for investment in the emerging drug trade and protection through his political connections. Vito disapproves of drug dealers, so he sends his enforcer,   Luca Brasi  Luca Brasi  , to spy on them. The family then receives two fish wrapped in Brasi\\'s vest, imparting that he \"sleeps with the fishes\". An assassination attempt by Sollozzo\\'s men lands Vito in the hospital, so his eldest son,   Sonny  Sonny  , takes command. Sollozzo kidnaps Hagen to pressure Sonny to accept his deal. Michael thwarts a second assassination attempt on his father at the hospital; his jaw is broken by Police Captain McCluskey, who is also Sollozzo\\'s bodyguard. Sonny retaliates for the attacks on his father by having Tattaglia\\'s son killed. Michael comes up with a plan to hit Sollozzo and McCluskey: on the pretext of settling the dispute, Michael accepts their offer to meet in a Bronx restaurant and, retrieving a planted handgun, murders them.  \\n  Despite a clampdown from the authorities, the Five Families erupt in open warfare and the brothers fear for their safety. Michael takes refuge in Sicily, and Fredo Corleone is sheltered by associate Moe Greene in Las Vegas. Sonny attacks his brother-in-law Carlo on the street for abusing his sister Connie and threatens to kill him if he abuses her again. When it happens again, Sonny speeds for her home but assassins ambush him at a highway toll booth and riddle him with submachine gun fire. Michael\\'s time abroad has led to marriage to Apollonia Vitelli. Their euphoria is shattered when a car bomb intended for him takes her life.  Despite a clampdown from the authorities, the   Five Families  Five Families   erupt in open warfare and the brothers fear for their safety. Michael takes refuge in Sicily, and   Fredo Corleone  Fredo Corleone   is sheltered by associate   Moe Greene  Moe Greene   in   Las Vegas  Las Vegas  . Sonny attacks his brother-in-law   Carlo  Carlo   on the street for abusing his sister Connie and threatens to kill him if he abuses her again. When it happens again, Sonny speeds for her home but assassins ambush him at a highway toll booth and riddle him with submachine gun fire. Michael\\'s time abroad has led to marriage to Apollonia Vitelli. Their euphoria is shattered when a car bomb intended for him takes her life.  \\n  Devastated by Sonny\\'s death, Vito decides to end the feuds. Realising that the Tattaglias were under orders of the now dominant Don Emilio Barzini, he promises, before the heads of the Five Families, to withdraw his opposition to their heroin business and forgo revenge for his son\\'s murder. His safety guaranteed, Michael returns home to a father saddened by his involvement in the family business and marries Kay the next year.  Devastated by Sonny\\'s death, Vito decides to end the feuds. Realising that the Tattaglias were under orders of the now dominant Don   Emilio Barzini  Emilio Barzini  , he promises, before the heads of the Five Families, to withdraw his opposition to their heroin business and forgo revenge for his son\\'s murder. His safety guaranteed, Michael returns home to a father saddened by his involvement in the family business and marries Kay the next year.  \\n  With his father at the end of his career and his surviving brother too weak, Michael takes the reins of the family, promising Kay that he will make the business legitimate within five years. To that end, he insists Hagen relocate to Las Vegas and relinquish his role to Vito because Tom is not a \"wartime consigliere\"; the older man agrees Tom should \"have no part in what will happen\" in the coming battles with rival families. When Michael travels to Las Vegas to buy out Greene\\'s stake in the family\\'s casinos, Greene derides the Corleones as a fading power. To add injury to insult, Michael sees Fredo falling under Greene\\'s sway.  With his father at the end of his career and his surviving brother too weak, Michael takes the reins of the family, promising Kay that he will make the business legitimate within five years. To that end, he insists Hagen relocate to Las Vegas and relinquish his role to Vito because Tom is not a \"wartime consigliere\"; the older man agrees Tom should \"have no part in what will happen\" in the coming battles with rival families. When Michael travels to Las Vegas to buy out Greene\\'s stake in the family\\'s casinos, Greene derides the Corleones as a fading power. To add injury to insult, Michael sees Fredo falling under Greene\\'s sway.  \\n  Vito collapses and dies in his garden while playing with Michael\\'s son, Anthony. At the funeral, Salvatore Tessio arranges a meeting between Michael and Don Barzini, signalling his treachery as Vito had warned. The meeting is set for the same day as the christening of Connie\\'s son, to whom Michael will stand as godfather. As the christening proceeds, Corleone assassins, acting on Michael\\'s orders, murder the other New York dons and Moe Greene. Tessio is told that Michael is aware of his betrayal and taken off to his death. After Carlo is questioned by Michael on his involvement in setting up Sonny\\'s murder and confesses he was contacted by Barzini, Peter Clemenza kills him with a wire garrote. Michael is confronted by Connie, who accuses him of having her husband killed. He denies killing Carlo when questioned by Kay, an answer she accepts. As Kay watches warily, Michael receives his capos, who address him as the new Don Corleone.  Vito collapses and dies in his garden while playing with Michael\\'s son,   Anthony  Anthony  . At the funeral,   Salvatore Tessio  Salvatore Tessio   arranges a meeting between Michael and Don Barzini, signalling his treachery as Vito had warned. The meeting is set for the same day as the christening of Connie\\'s son, to whom Michael will stand as godfather. As the christening proceeds, Corleone assassins, acting on Michael\\'s orders, murder the other New York dons and Moe Greene. Tessio is told that Michael is aware of his betrayal and taken off to his death. After Carlo is questioned by Michael on his involvement in setting up Sonny\\'s murder and confesses he was contacted by Barzini,   Peter Clemenza  Peter Clemenza   kills him with a wire   garrote  garrote  . Michael is confronted by Connie, who accuses him of having her husband killed. He denies killing Carlo when questioned by Kay, an answer she accepts. As Kay watches warily, Michael receives his   capos  capos  , who address him as the new Don Corleone.  \\n \\n BREAKS HERE Plot  [edit]  [  [  edit  edit  ]  ]  \\n  In 1947, banker Andy Dufresne is convicted of murdering his wife and her lover and sentenced to two consecutive life sentences at the fictional Shawshank State Penitentiary in the state of Maine. Andy befriends contraband smuggler Ellis \"Red\" Redding, an inmate serving a life sentence. Red procures a rock hammer and later a large poster of Rita Hayworth for Andy. Working in the prison laundry, Andy is regularly assaulted by the \"bull queer\" gang \"the Sisters\" and their leader, Bogs.  In 1947, banker Andy Dufresne is convicted of murdering his wife and her lover and sentenced to two consecutive life sentences at the fictional Shawshank State Penitentiary in the state of Maine. Andy befriends   contraband  contraband   smuggler Ellis \"Red\" Redding, an inmate serving a life sentence. Red procures a   rock hammer  rock hammer   and later a large poster of   Rita Hayworth  Rita Hayworth   for Andy. Working in the prison laundry, Andy is regularly assaulted by the \"  bull queer  bull queer  \" gang \"the Sisters\" and their leader, Bogs.  \\n  In 1949, Andy overhears the brutal captain of the guards, Byron Hadley, complaining about being taxed on an inheritance and offers to help him legally shelter the money. After a vicious assault by the Sisters nearly kills Andy, Hadley beats Bogs severely. Bogs is sent to another prison and Andy is never attacked again. Warden Samuel Norton meets with Andy and reassigns him to the prison library to assist elderly inmate Brooks Hatlen. Andy\\'s new job is a pretext for him to begin managing financial matters for the prison employees. As time passes, the warden begins using Andy to handle matters for a variety of people including guards from other prisons and the warden himself. Andy begins writing weekly letters to the state government for funds to improve the decaying library.  In 1949, Andy overhears the brutal captain of the guards, Byron Hadley, complaining about being taxed on an inheritance and offers to help him legally shelter the money. After a vicious assault by the Sisters nearly kills Andy, Hadley beats Bogs severely. Bogs is sent to another prison and Andy is never attacked again. Warden Samuel Norton meets with Andy and reassigns him to the prison library to assist elderly inmate Brooks Hatlen. Andy\\'s new job is a pretext for him to begin managing financial matters for the prison employees. As time passes, the warden begins using Andy to handle matters for a variety of people including guards from other prisons and the warden himself. Andy begins writing weekly letters to the state government for funds to improve the decaying library.  \\n  In 1954, Brooks is paroled, but cannot adjust to the outside world after fifty years in prison and hangs himself. Andy receives a library donation that includes a recording of The Marriage of Figaro. He plays an excerpt over the public address system, resulting in his receiving solitary confinement. After his release from solitary Andy explains that hope is what gets him through his time, a concept that Red dismisses. In 1963, Norton begins exploiting prison labor for public works, profiting by undercutting skilled labor costs and receiving kickbacks. He has Andy launder the money using the alias Randall Stephens.  In 1954, Brooks is   paroled  paroled  , but cannot adjust to the outside world after fifty years in prison and   hangs himself  hangs himself  . Andy receives a library donation that includes a recording of   The Marriage of Figaro  The Marriage of Figaro  The Marriage of Figaro  . He plays   an excerpt  an excerpt   over the public address system, resulting in his receiving   solitary confinement  solitary confinement  . After his release from solitary Andy explains that hope is what gets him through his time, a concept that Red dismisses. In 1963, Norton begins exploiting prison labor for public works, profiting by undercutting skilled labor costs and receiving   kickbacks  kickbacks  . He has Andy   launder  launder   the money using the alias Randall Stephens.  \\n  In 1965, Tommy Williams is incarcerated for burglary. He joins Andy\\'s and Red\\'s circle of friends, and Andy helps him pass his G.E.D. exam. In 1966, Tommy reveals to Red and Andy that an inmate at another prison claimed responsibility for the murders Andy was convicted of, implying Andy\\'s innocence. Andy approaches Warden Norton with this information, but the warden refuses to listen and sends Andy back to solitary when he mentions the money laundering. Norton then has Captain Hadley murder Tommy under the guise of an escape attempt. Andy refuses to continue the money laundering, but relents after Norton threatens to burn the library, remove Andy\\'s protection from the guards, and move him out of his cell into worse conditions. Andy is released from solitary confinement and tells Red of his dream of living in Zihuatanejo, a Mexican coastal town. Red feels Andy is being unrealistic, but promises Andy that if he is ever released he will visit a specific hayfield near Buxton, Maine and retrieve a package Andy buried there. Red becomes worried about Andy\\'s state of mind, especially when he learns Andy asked another inmate to supply him with six feet of rope.  In 1965, Tommy Williams is incarcerated for   burglary  burglary  . He joins Andy\\'s and Red\\'s circle of friends, and Andy helps him pass his   G.E.D.  G.E.D.   exam. In 1966, Tommy reveals to Red and Andy that an inmate at another prison claimed responsibility for the murders Andy was convicted of, implying Andy\\'s innocence. Andy approaches Warden Norton with this information, but the warden refuses to listen and sends Andy back to solitary when he mentions the money laundering. Norton then has Captain Hadley murder Tommy under the guise of an escape attempt. Andy refuses to continue the money laundering, but relents after Norton threatens to burn the library, remove Andy\\'s protection from the guards, and move him out of his cell into worse conditions. Andy is released from solitary confinement and tells Red of his dream of living in   Zihuatanejo  Zihuatanejo  , a Mexican coastal town. Red feels Andy is being unrealistic, but promises Andy that if he is ever released he will visit a specific hayfield near   Buxton, Maine  Buxton, Maine   and retrieve a package Andy buried there. Red becomes worried about Andy\\'s state of mind, especially when he learns Andy asked another inmate to supply him with six feet of rope.  \\n  The next day at roll call the guards find Andy\\'s cell empty. An irate Warden Norton throws a rock at the poster of Raquel Welch hanging on the wall, and the rock tears through the poster. Removing the poster, the warden discovers a tunnel that Andy dug with his rock hammer over the previous two decades. The previous night, Andy escaped through the tunnel and used the prison\\'s sewage pipe to reach freedom. Andy escapes with Norton\\'s suit, shoes, and the ledger containing details of the money laundering. While guards search for him the following morning, Andy poses as Randall Stephens and visits several banks to withdraw the laundered money. Finally, he mails the ledger and evidence of the corruption and murders at Shawshank to a local newspaper. The police arrive at Shawshank and take Hadley into custody, while Norton commits suicide to avoid arrest.  The next day at   roll call  roll call   the guards find Andy\\'s cell empty. An irate Warden Norton throws a rock at the poster of   Raquel Welch  Raquel Welch   hanging on the wall, and the rock tears through the poster. Removing the poster, the warden discovers a tunnel that Andy dug with his rock hammer over the previous two decades. The previous night, Andy escaped through the tunnel and used the prison\\'s sewage pipe to reach freedom. Andy escapes with Norton\\'s suit, shoes, and the ledger containing details of the money laundering. While guards search for him the following morning, Andy poses as Randall Stephens and visits several banks to withdraw the laundered money. Finally, he mails the ledger and evidence of the corruption and murders at Shawshank to a local newspaper. The police arrive at Shawshank and take Hadley into custody, while Norton commits suicide to avoid arrest.  \\n  After serving 40 years, Red is finally paroled. He struggles to adapt to life outside prison and fears he never will. Remembering his promise to Andy, he visits Buxton and finds a cache containing money and a letter asking him to come to Zihuatanejo. Red violates his parole and travels to Fort Hancock, Texas to cross the border to Mexico, admitting he finally feels hope. On a beach in Zihuatanejo he finds Andy, and the two friends are happily reunited.  After serving 40 years, Red is finally paroled. He struggles to adapt to life outside prison and fears he never will. Remembering his promise to Andy, he visits Buxton and finds a cache containing money and a letter asking him to come to Zihuatanejo. Red violates his parole and travels to   Fort Hancock, Texas  Fort Hancock, Texas   to cross the border to Mexico, admitting he finally feels hope. On a beach in Zihuatanejo he finds Andy, and the two friends are happily reunited.  \\n \\n BREAKS HERE Plot  [edit]  [  [  edit  edit  ]  ]  \\n  In 1939, the Germans move Polish Jews into the Kraków Ghetto as World War II begins. Oskar Schindler, an ethnic German, arrives in the city hoping to make his fortune. A member of the Nazi Party, Schindler lavishes bribes on Wehrmacht (German armed forces) and SS officials and acquires a factory to produce enamelware. To help him run the business, Schindler enlists the aid of Itzhak Stern, a local Jewish official who has contacts with black marketeers and the Jewish business community. Stern helps Schindler arrange loans to finance the factory. Schindler maintains friendly relations with the Nazis and enjoys wealth and status as \"Herr Direktor\", and Stern handles administration. Schindler hires Jewish workers because they cost less, while Stern ensures that as many people as possible are deemed essential to the German war effort, which saves them from being transported to concentration camps or killed.  In 1939, the Germans move   Polish Jews  Polish Jews   into the   Kraków Ghetto  Kraków Ghetto   as   World War II  World War II   begins.   Oskar Schindler  Oskar Schindler  , an   ethnic German  ethnic German  , arrives in the city hoping to make his fortune. A member of the   Nazi Party  Nazi Party  , Schindler lavishes bribes on   Wehrmacht  Wehrmacht   (German armed forces) and   SS  SS   officials and acquires a factory to produce   enamelware  enamelware  . To help him run the business, Schindler enlists the aid of   Itzhak Stern  Itzhak Stern  , a local Jewish official who has contacts with   black marketeers  black marketeers   and the Jewish business community. Stern helps Schindler arrange loans to finance the factory. Schindler maintains friendly relations with the Nazis and enjoys wealth and status as \"Herr Direktor\", and Stern handles administration. Schindler hires Jewish workers because they cost less, while Stern ensures that as many people as possible are deemed essential to the German war effort, which saves them from being transported to concentration camps or killed.  \\n  SS-Untersturmführer (second lieutenant) Amon Goeth arrives in Kraków to oversee construction of Płaszów concentration camp. When the camp is completed, he orders the ghetto liquidated. Many people are shot and killed in the process of emptying the ghetto. Schindler witnesses the massacre and is profoundly affected. He particularly notices a tiny girl in a red coat – one of the few splashes of color in the black-and-white film – as she hides from the Nazis. When he later sees the red coat on a wagon loaded with bodies being taken away to be burned, he knows the girl is dead. Schindler is careful to maintain his friendship with Goeth and, through bribery and lavish gifts, continues to enjoy SS support. Goeth brutally mistreats his maid and randomly shoots people from the balcony of his villa, and the prisoners are in constant daily fear for their lives. As time passes, Schindler\\'s focus shifts from making money to trying to save as many lives as possible. He bribes Goeth into allowing him to build a sub-camp for his workers so that he can better protect them.  SS-  Untersturmführer  Untersturmführer  Untersturmführer   (second lieutenant)   Amon Goeth  Amon Goeth   arrives in Kraków to oversee construction of   Płaszów concentration camp  Płaszów concentration camp  . When the camp is completed, he orders the ghetto liquidated. Many people are shot and killed in the process of emptying the ghetto. Schindler witnesses the massacre and is profoundly affected. He particularly notices a tiny girl in a red coat – one of the few splashes of color in the black-and-white film – as she hides from the Nazis. When he later sees the red coat on a wagon loaded with bodies being taken away to be burned, he knows the girl is dead. Schindler is careful to maintain his friendship with Goeth and, through bribery and lavish gifts, continues to enjoy SS support. Goeth brutally mistreats his maid and randomly shoots people from the balcony of his villa, and the prisoners are in constant daily fear for their lives. As time passes, Schindler\\'s focus shifts from making money to trying to save as many lives as possible. He bribes Goeth into allowing him to build a sub-camp for his workers so that he can better protect them.  \\n  As the Germans begin to lose the war, Goeth is ordered to ship the remaining Jews at Płaszów to Auschwitz concentration camp. Schindler asks Goeth to allow him to move his workers to a new munitions factory he plans to build in his home town of Zwittau-Brinnlitz. Goeth agrees, but charges a huge bribe. Schindler and Stern create \"Schindler\\'s List\" – a list of people to be transferred to Brinnlitz and thus saved from transport to Auschwitz.  As the Germans begin to lose the war, Goeth is ordered to ship the remaining Jews at Płaszów to   Auschwitz concentration camp  Auschwitz concentration camp  . Schindler asks Goeth to allow him to move his workers to a new munitions factory he plans to build in his home town of   Zwittau-Brinnlitz  Zwittau-Brinnlitz  . Goeth agrees, but charges a huge bribe. Schindler and Stern create \"Schindler\\'s List\" – a list of people to be transferred to Brinnlitz and thus saved from transport to Auschwitz.  \\n  As the train carrying women and children is accidentally redirected to Auschwitz-Birkenau, Schindler bribes the commandant of Auschwitz with a bag of diamonds to win their release. At the new factory, Schindler forbids the SS guards to enter the production rooms and encourages the Jews to observe Shabbat (the Jewish Sabbath). To keep his workers alive, he spends much of his fortune bribing Nazi officials and buying shell casings from other companies; his factory does not produce any usable armaments during its seven months of operation. Schindler runs out of money in 1945, just as Germany surrenders, ending the war in Europe.  As the train carrying women and children is accidentally redirected to Auschwitz-Birkenau, Schindler bribes the commandant of Auschwitz with a bag of diamonds to win their release. At the new factory, Schindler forbids the SS guards to enter the production rooms and encourages the Jews to observe   Shabbat  Shabbat   (the Jewish Sabbath). To keep his workers alive, he spends much of his fortune bribing Nazi officials and buying shell casings from other companies; his factory does not produce any usable armaments during its seven months of operation. Schindler runs out of money in 1945, just as Germany surrenders, ending the war in Europe.  \\n  As a Nazi Party member and war profiteer, Schindler must flee the advancing Red Army to avoid capture. The SS guards have been ordered to kill the Jews, but Schindler persuades them not to so they can \"return to their families as men, not murderers\". He bids farewell to his workers and prepares to head west, hoping to surrender to the Americans. The workers give Schindler a signed statement attesting to his role saving Jewish lives, together with a ring engraved with a Talmudic quotation: \"Whoever saves one life saves the world entire.\" Schindler is touched but is also deeply ashamed, as he feels he should have done even more. As the Schindlerjuden (Schindler Jews) wake up the next morning, a Soviet soldier announces that they have been liberated. The Jews leave the factory and walk to a nearby town.  As a Nazi Party member and war profiteer, Schindler must flee the advancing   Red Army  Red Army   to avoid capture. The SS guards have been ordered to kill the Jews, but Schindler persuades them not to so they can \"return to their families as men, not murderers\". He bids farewell to his workers and prepares to head west, hoping to surrender to the Americans. The workers give Schindler a signed statement attesting to his role saving Jewish lives, together with a ring engraved with a   Talmudic  Talmudic   quotation: \"Whoever saves one life saves the world entire.\" Schindler is touched but is also deeply ashamed, as he feels he should have done even more. As the   Schindlerjuden  Schindlerjuden  Schindlerjuden   (Schindler Jews) wake up the next morning, a Soviet soldier announces that they have been liberated. The Jews leave the factory and walk to a nearby town.  \\n  After some scenes depicting Goeth\\'s execution and a summary of Schindler\\'s later life events after the war, the black-and-white frame changes to a color shot of actual Schindlerjuden at Schindler\\'s grave in Jerusalem. Accompanied by the actors who portrayed them, the Schindlerjuden place stones on the grave. In the final scene, Neeson places a pair of roses on the grave.  After some scenes depicting Goeth\\'s execution and a summary of Schindler\\'s later life events after the war, the black-and-white frame changes to a color shot of actual   Schindlerjuden  Schindlerjuden   at Schindler\\'s grave in   Jerusalem  Jerusalem  . Accompanied by the actors who portrayed them, the   Schindlerjuden  Schindlerjuden   place stones on the grave. In the final scene, Neeson places a pair of roses on the grave.  \\n \\n BREAKS HERE Plot  [edit]  [  [  edit  edit  ]  ]  \\n  In a brief scene in 1964, an aging, overweight Italian American, Jake LaMotta (Robert De Niro), practices a comedy routine. The rest of the film then occurs in flashback. In 1941, LaMotta is in a major boxing match against Jimmy Reeves, where he received his first loss. Jake\\'s brother Joey LaMotta (Joe Pesci) discusses a potential shot for the middleweight title with one of his Mafia connections, Salvy Batts (Frank Vincent). Some time thereafter, Jake spots a 15-year-old girl named Vickie (Cathy Moriarty) at an open-air swimming pool in his Bronx neighborhood. He eventually pursues a relationship with her, even though he is already married. In 1943, Jake defeats Sugar Ray Robinson, and has a rematch three weeks later. Despite the fact that Jake dominates Robinson during the bout, the judges surprisingly rule in favor of Robinson and Joey feels Robinson won only because he was enlisting into the US Army the following week. By 1947, Jake marries Vickie.  In a brief scene in 1964, an aging, overweight   Italian American  Italian American  ,   Jake LaMotta  Jake LaMotta   (  Robert De Niro  Robert De Niro  ), practices a comedy routine. The rest of the film then occurs in   flashback  flashback  . In 1941, LaMotta is in a major boxing match against Jimmy Reeves, where he received his first loss. Jake\\'s brother   Joey LaMotta  Joey LaMotta   (  Joe Pesci  Joe Pesci  ) discusses a potential shot for the middleweight title with one of his   Mafia  Mafia   connections, Salvy Batts (  Frank Vincent  Frank Vincent  ). Some time thereafter, Jake spots a 15-year-old girl named Vickie (  Cathy Moriarty  Cathy Moriarty  ) at an open-air swimming pool in his   Bronx  Bronx   neighborhood. He eventually pursues a relationship with her, even though he is already married. In 1943, Jake defeats   Sugar Ray Robinson  Sugar Ray Robinson  , and has a rematch three weeks later. Despite the fact that Jake dominates Robinson during the bout, the judges surprisingly rule in favor of Robinson and Joey feels Robinson won only because he was enlisting into the   US Army  US Army   the following week. By 1947, Jake marries Vickie.  \\n  Jake constantly worries about Vickie having feelings for other men, particularly when she makes an off-hand comment about Tony Janiro, Jake\\'s opponent in his next fight. His jealousy is evident when he brutally defeats Janiro in front of the local Mob boss, Tommy Como (Nicholas Colasanto), and Vickie. As Joey discusses the victory with journalists at the Copacabana, he is distracted by seeing Vickie approach a table with Salvy and his crew. Joey speaks with Vickie, who says she is giving up on his brother. Blaming Salvy, Joey viciously attacks him in a fight that spills outside of the club. Como later orders them to apologize, and has Joey tell Jake that if he wants a chance at the championship title, which Como controls, he will have to take a dive first. In a match against Billy Fox, after briefly pummeling his opponent, Jake does not even bother to put up a fight. He is suspended shortly thereafter from the board on suspicion of throwing the fight, though he realizes the error of his judgment when it is too late. He is eventually reinstated, and in 1949, wins the middleweight championship title against Marcel Cerdan.  Jake constantly worries about Vickie having feelings for other men, particularly when she makes an off-hand comment about   Tony Janiro  Tony Janiro  , Jake\\'s opponent in his next fight. His jealousy is evident when he brutally defeats Janiro in front of the local   Mob boss  Mob boss  , Tommy Como (  Nicholas Colasanto  Nicholas Colasanto  ), and Vickie. As Joey discusses the victory with journalists at the   Copacabana  Copacabana  , he is distracted by seeing Vickie approach a table with Salvy and his crew. Joey speaks with Vickie, who says she is giving up on his brother. Blaming Salvy, Joey viciously attacks him in a fight that spills outside of the club. Como later orders them to apologize, and has Joey tell Jake that if he wants a chance at the championship title, which Como controls, he will have to take a dive first. In a match against   Billy Fox  Billy Fox  , after briefly pummeling his opponent, Jake does not even bother to put up a fight. He is suspended shortly thereafter from the board on suspicion of throwing the fight, though he realizes the error of his judgment when it is too late. He is eventually reinstated, and in 1949, wins the middleweight championship title against   Marcel Cerdan  Marcel Cerdan  .  \\n  A year later, Jake asks Joey if he fought with Salvy at the Copacabana because of Vickie. Jake then asks if Joey had an affair with her; Joey refuses to answer, insults Jake, and leaves. Jake directly asks Vickie about the affair, and when she hides from him in the bathroom, he breaks down the door, prompting her to sarcastically state that she had sex with the entire neighborhood (including his brother, Salvy, and Tommy Como). Jake angrily walks to Joey\\'s house, with Vickie following him, and assaults Joey in front of his wife and children. After defending his championship belt in a grueling fifteen round bout against Laurent Dauthuille in 1950,[2] he makes a call to his brother after the fight, but when Joey assumes Salvy is on the other end and starts insulting and cursing at him, Jake says nothing and hangs up. Estranged from Joey, Jake\\'s career begins to decline slowly and he eventually loses his title to Sugar Ray Robinson in their final encounter in 1951.[3]  A year later, Jake asks Joey if he fought with Salvy at the Copacabana because of Vickie. Jake then asks if Joey had an affair with her; Joey refuses to answer, insults Jake, and leaves. Jake directly asks Vickie about the affair, and when she hides from him in the bathroom, he breaks down the door, prompting her to sarcastically state that she had sex with the entire neighborhood (including his brother, Salvy, and Tommy Como). Jake angrily walks to Joey\\'s house, with Vickie following him, and assaults Joey in front of his wife and children. After defending his championship belt in a grueling fifteen round bout against   Laurent Dauthuille  Laurent Dauthuille   in 1950,  [2]  [2]  [  [  2  ]  ]   he makes a call to his brother after the fight, but when Joey assumes Salvy is on the other end and starts insulting and cursing at him, Jake says nothing and hangs up. Estranged from Joey, Jake\\'s career begins to decline slowly and he eventually loses his title to Sugar Ray Robinson in their final encounter in 1951.  [3]  [3]  [  [  3  ]  ]  \\n  By 1956, Jake and his family have moved to Miami. After he stays out all night at his new nightclub there, Vickie tells him she wants a divorce (which she has been planning since his retirement) as well as full custody of their kids. She also threatens to call the cops if he comes anywhere near them. He is later arrested for introducing under-age girls to men in his club. He tries and fails to bribe his way out of his criminal case using the jewels from his championship belt instead of selling the belt itself. In 1957 he goes to jail where he pounds the walls, sorrowfully questioning his misfortune and crying in despair. Upon returning to New York City in 1958, he happens upon his estranged brother Joey, who forgives him but is elusive. Returning to the opening scene in 1964, Jake refers to the \"I coulda been a contender\" scene from the 1954 film On the Waterfront starring Marlon Brando, complaining that his brother should have been there for him but is also keen enough to give himself some slack. After a stagehand informs him that the auditorium where he is about to perform is crowded, Jake starts to chant \"I\\'m the boss\" while shadowboxing.  By 1956, Jake and his family have moved to   Miami  Miami  . After he stays out all night at his new nightclub there, Vickie tells him she wants a divorce (which she has been planning since his retirement) as well as full custody of their kids. She also threatens to call the cops if he comes anywhere near them. He is later arrested for introducing under-age girls to men in his club. He tries and fails to bribe his way out of his criminal case using the jewels from his championship belt instead of selling the belt itself. In 1957 he goes to jail where he pounds the walls, sorrowfully questioning his misfortune and crying in despair. Upon returning to   New York City  New York City   in 1958, he happens upon his estranged brother Joey, who forgives him but is elusive. Returning to the opening scene in 1964, Jake refers to the \"I coulda been a contender\" scene from the 1954 film   On the Waterfront  On the Waterfront  On the Waterfront   starring   Marlon Brando  Marlon Brando  , complaining that his brother should have been there for him but is also keen enough to give himself some slack. After a stagehand informs him that the auditorium where he is about to perform is crowded, Jake starts to chant \"I\\'m the boss\" while   shadowboxing  shadowboxing  .  \\n  The film cuts to black with the following Biblical quote filling the screen:  The film cuts to black with the following Biblical quote filling the screen:  \\n  \\n\\nSo, for the second time, [the Pharisees] summoned the man who had been blind and said:\\n\"Speak the truth before God. We know this fellow is a sinner.\"\\n\"Whether or not he is a sinner, I do not know,\" the man replied.\\n\"All I know is this: Once I was blind and now I can see.\"\\nJohn IX. 24–26, The New English Bible\\n\\n  \\n  \\nSo, for the second time, [the Pharisees] summoned the man who had been blind and said:\\n\"Speak the truth before God. We know this fellow is a sinner.\"\\n\"Whether or not he is a sinner, I do not know,\" the man replied.\\n\"All I know is this: Once I was blind and now I can see.\"\\nJohn IX. 24–26, The New English Bible\\n  \\n  So, for the second time, [the Pharisees] summoned the man who had been blind and said:\\n\"Speak the truth before God. We know this fellow is a sinner.\"\\n\"Whether or not he is a sinner, I do not know,\" the man replied.\\n\"All I know is this: Once I was blind and now I can see.\"\\nJohn IX. 24–26, The New English Bible  So, for the second time, [the   Pharisees  Pharisees  ] summoned the man who had been blind and said:    \\n\"Speak the truth before God. We know this fellow is a sinner.\"    \\n\"Whether or not he is a sinner, I do not know,\" the man replied.    \\n\"All I know is this: Once I was blind and now I can see.\"    \\n  John IX. 24–26, The New English Bible  John IX. 24–26, The New English Bible  \\n  \\n  \\n  The film subsequently ends with an on-screen dedication to Scorsese\\'s New York University film professor, Haig P. Manoogian:  The film subsequently ends with an on-screen dedication to Scorsese\\'s   New York University  New York University   film professor,   Haig P. Manoogian  Haig P. Manoogian  :  \\n  \\nRemembering Haig P. Manoogian, teacher. May 23, 1916—May 26, 1980. With Love and resolution, Marty.\\n  \\n  Remembering Haig P. Manoogian, teacher. May 23, 1916—May 26, 1980. With Love and resolution, Marty.  Remembering Haig P. Manoogian, teacher. May 23, 1916—May 26, 1980. With Love and resolution, Marty.  \\n  \\n \\n BREAKS HERE Plot  [edit]  [  [  edit  edit  ]  ]  \\n  It is early December 1941. American expatriate Rick Blaine is the proprietor of an upscale nightclub and gambling den in Casablanca. \"Rick\\'s Café Américain\" attracts a varied clientele: Vichy French, Italian, and German officials; refugees desperate to reach the still neutral United States; and those who prey on them. Although Rick professes to be neutral in all matters, it is later revealed he ran guns to Ethiopia during its war with Italy and fought on the Loyalist side against the fascist Nationalists in the Spanish Civil War.  It is early December 1941. American   expatriate  expatriate   Rick Blaine is the proprietor of an upscale nightclub and gambling den in   Casablanca  Casablanca  . \"Rick\\'s Café Américain\" attracts a varied clientele:   Vichy French  Vichy French  , Italian, and German officials;   refugees  refugees   desperate to reach the still neutral United States; and those who prey on them. Although Rick professes to be neutral in all matters, it is later revealed he   ran guns  ran guns   to   Ethiopia  Ethiopia   during   its war with Italy  its war with Italy   and fought on the   Loyalist  Loyalist   side against the   fascist  fascist     Nationalists  Nationalists   in the   Spanish Civil War  Spanish Civil War  .  \\n  \\n\\n\\n\\nFrom left to right: Henreid, Bergman, Rains and Bogart\\n\\n  \\n  \\n\\n\\nFrom left to right: Henreid, Bergman, Rains and Bogart\\n      \\n  \\n\\nFrom left to right: Henreid, Bergman, Rains and Bogart  \\n      \\nFrom left to right: Henreid, Bergman, Rains and Bogart  \\n  \\n  \\n  Petty crook Ugarte shows up and boasts to Rick of \"letters of transit\" obtained by murdering two German couriers. The papers allow the bearer to travel freely around German-controlled Europe and to neutral Portugal, and are thus almost priceless to the refugees stranded in Casablanca. Ugarte plans to sell them at the club later that night. Before he can, he is arrested by the local police under the command of Vichy Captain Louis Renault, an unabashedly corrupt official. Ugarte dies in custody without revealing that he had entrusted the letters to Rick.  Petty crook Ugarte shows up and boasts to Rick of \"letters of transit\" obtained by murdering two German couriers. The papers allow the bearer to travel freely around German-controlled Europe and to neutral   Portugal  Portugal  , and are thus almost priceless to the refugees stranded in Casablanca. Ugarte plans to sell them at the club later that night. Before he can, he is arrested by the local police under the command of Vichy Captain Louis Renault, an unabashedly corrupt official. Ugarte dies in custody without revealing that he had entrusted the letters to Rick.  \\n  At this point, the reason for Rick\\'s bitterness—his former lover, Ilsa Lund—walks into his establishment. Upon spotting Rick\\'s friend and house pianist, Sam, Ilsa implores him to play \"As Time Goes By\". Rick storms over, furious that Sam has disobeyed his order never to perform that song, and is stunned to see Ilsa. She is accompanied by her husband, Victor Laszlo, a renowned fugitive Czech Resistance leader. They need the letters to escape to America, where he can continue his work. German Major Strasser has come to Casablanca to see that Laszlo does not succeed.  At this point, the reason for Rick\\'s bitterness—his former lover, Ilsa Lund—walks into his establishment. Upon spotting Rick\\'s friend and house pianist, Sam, Ilsa implores him to play   \"As Time Goes By\"  \"As Time Goes By\"  . Rick storms over, furious that Sam has disobeyed his order never to perform that song, and is stunned to see Ilsa. She is accompanied by her husband, Victor Laszlo, a renowned fugitive   Czech Resistance  Czech Resistance   leader. They need the letters to escape to America, where he can continue his work. German Major Strasser has come to Casablanca to see that Laszlo does not succeed.  \\n  When Laszlo makes inquiries, Ferrari, a major underworld figure and Rick\\'s friendly business rival, divulges his suspicion that Rick has the letters. In private, Rick refuses to sell at any price, telling Laszlo to ask his wife the reason. They are interrupted when Strasser leads a group of officers in singing \"Die Wacht am Rhein\". Laszlo orders the house band to defiantly play \"La Marseillaise\". When the band looks to Rick, he nods his head. Laszlo starts singing, alone at first, then patriotic fervor grips the crowd and everyone joins in, drowning out the Germans. In retaliation, Strasser has Renault close the club.  When Laszlo makes inquiries, Ferrari, a major underworld figure and Rick\\'s friendly business rival, divulges his suspicion that Rick has the letters. In private, Rick refuses to sell at any price, telling Laszlo to ask his wife the reason. They are interrupted when Strasser leads a group of officers in singing \"  Die Wacht am Rhein  Die Wacht am Rhein  \". Laszlo orders the house band to defiantly play \"  La Marseillaise  La Marseillaise  \". When the band looks to Rick, he nods his head. Laszlo starts singing, alone at first, then patriotic fervor grips the crowd and everyone joins in, drowning out the Germans. In retaliation, Strasser has Renault close the club.  \\n  \\n\\n\\n\\nBogart and Bergman\\n\\n  \\n  \\n\\n\\nBogart and Bergman\\n      \\n  \\n\\nBogart and Bergman  \\n      \\nBogart and Bergman  \\n  \\n  \\n  That night, Ilsa confronts Rick in the deserted café. When he refuses to give her the letters, she threatens him with a gun, but then confesses that she still loves him. She explains that when they first met and fell in love in Paris in 1940, she believed that her husband had been killed attempting to escape from a concentration camp. Later, while preparing to flee with Rick from the imminent fall of the city to the German army, she learned that Laszlo was alive and in hiding. She left Rick without explanation to tend her ill husband.  That night, Ilsa confronts Rick in the deserted café. When he refuses to give her the letters, she threatens him with a gun, but then confesses that she still loves him. She explains that when they first met and fell in love in Paris in 1940, she believed that her husband had been killed attempting to escape from a   concentration camp  concentration camp  . Later, while preparing to flee with Rick from the imminent   fall of the city  fall of the city   to the German army, she learned that Laszlo was alive and in hiding. She left Rick without explanation to tend her ill husband.  \\n  Rick\\'s bitterness dissolves. He agrees to help, leading her to believe that she will stay with him when Laszlo leaves. When Laszlo unexpectedly shows up, having narrowly escaped a police raid on a Resistance meeting, Rick has waiter Carl spirit Ilsa away. Laszlo, aware of Rick\\'s love for Ilsa, tries to persuade him to use the letters to take her to safety. When the police arrest Laszlo on a minor, trumped-up charge, Rick convinces Renault to release him by promising to set him up for a much more serious crime: possession of the letters of transit. To allay Renault\\'s suspicions, Rick explains he and Ilsa will be leaving for America. When Renault tries to arrest Laszlo as arranged, Rick forces him at gunpoint to assist in their escape. At the last moment, Rick makes Ilsa board the plane to Lisbon with her husband, telling her she would regret it if she stayed – \"Maybe not today, maybe not tomorrow, but soon and for the rest of your life.\"  Rick\\'s bitterness dissolves. He agrees to help, leading her to believe that she will stay with him when Laszlo leaves. When Laszlo unexpectedly shows up, having narrowly escaped a police raid on a Resistance meeting, Rick has waiter Carl spirit Ilsa away. Laszlo, aware of Rick\\'s love for Ilsa, tries to persuade him to use the letters to take her to safety. When the police arrest Laszlo on a minor, trumped-up charge, Rick convinces Renault to release him by promising to set him up for a much more serious crime: possession of the letters of transit. To allay Renault\\'s suspicions, Rick explains he and Ilsa will be leaving for America. When Renault tries to arrest Laszlo as arranged, Rick forces him at gunpoint to assist in their escape. At the last moment, Rick makes Ilsa board the plane to   Lisbon  Lisbon   with her husband, telling her she would regret it if she stayed – \"Maybe not today, maybe not tomorrow, but soon and for the rest of your life.\"  \\n  Strasser, tipped off by Renault, drives up alone. Rick kills him when he tries to intervene. When the police arrive, Renault pauses, then tells them to \"round up the usual suspects.\" Renault suggests to Rick that they join the Free French in Brazzaville. As they walk away into the fog, Rick says, \"Louis, I think this is the beginning of a beautiful friendship.\"  Strasser, tipped off by Renault, drives up alone. Rick kills him when he tries to intervene. When the police arrive, Renault pauses, then tells them to \"round up the usual suspects.\" Renault suggests to Rick that they join the   Free French  Free French   in   Brazzaville  Brazzaville  . As they walk away into the fog, Rick says, \"Louis, I think this is the beginning of a beautiful friendship.\"  \\n \\n BREAKS HERE Plot  [edit]  [  [  edit  edit  ]  ]  \\n  In 1963 Oregon, Randle Patrick \"Mac\" McMurphy (Jack Nicholson), a recidivist anti-authoritarian criminal serving a short sentence on a prison farm for statutory rape of a 15-year-old girl, is transferred to a mental institution for evaluation. Although he does not show any overt signs of mental illness, he hopes to avoid hard labor and serve the rest of his sentence in a more relaxed hospital environment.  In 1963 Oregon,   Randle Patrick \"Mac\" McMurphy  Randle Patrick \"Mac\" McMurphy   (  Jack Nicholson  Jack Nicholson  ), a   recidivist  recidivist   anti-authoritarian criminal serving a short sentence on a prison farm for   statutory rape  statutory rape   of a 15-year-old girl, is transferred to a   mental institution  mental institution   for evaluation. Although he does not show any overt signs of   mental illness  mental illness  , he hopes to avoid   hard labor  hard labor   and serve the rest of his sentence in a more relaxed hospital environment.  \\n  McMurphy\\'s ward is run by steely, unyielding Nurse Mildred Ratched (Louise Fletcher), who employs subtle humiliation, unpleasant medical treatments and a mind-numbing daily routine to suppress the patients. McMurphy finds that they are more fearful of Ratched than they are focused on becoming functional in the outside world. McMurphy establishes himself immediately as the leader; his fellow patients include Billy Bibbit (Brad Dourif), a nervous, stuttering young man; Charlie Cheswick (Sydney Lassick), a man disposed to childish fits of temper; Martini (Danny DeVito), who is delusional; Dale Harding (William Redfield), a high-strung, well-educated paranoid; Max Taber (Christopher Lloyd), who is belligerent and profane; Jim Sefelt (William Duell), who is epileptic; and \"Chief\" Bromden (Will Sampson), a silent American Indian of imposing stature believed to be deaf and mute.  McMurphy\\'s ward is run by steely, unyielding   Nurse Mildred Ratched  Nurse Mildred Ratched   (  Louise Fletcher  Louise Fletcher  ), who employs subtle humiliation, unpleasant medical treatments and a mind-numbing daily routine to suppress the patients. McMurphy finds that they are more fearful of Ratched than they are focused on becoming functional in the outside world. McMurphy establishes himself immediately as the leader; his fellow patients include Billy Bibbit (  Brad Dourif  Brad Dourif  ), a nervous,   stuttering  stuttering   young man; Charlie Cheswick (  Sydney Lassick  Sydney Lassick  ), a man disposed to childish fits of temper; Martini (  Danny DeVito  Danny DeVito  ), who is delusional; Dale Harding (  William Redfield  William Redfield  ), a high-strung, well-educated paranoid; Max Taber (  Christopher Lloyd  Christopher Lloyd  ), who is belligerent and profane; Jim Sefelt (  William Duell  William Duell  ), who is epileptic; and \"Chief\" Bromden (  Will Sampson  Will Sampson  ), a silent   American Indian  American Indian   of imposing stature believed to be deaf and mute.  \\n  McMurphy\\'s and Ratched\\'s battle of wills escalates rapidly. When McMurphy\\'s card games win away everyone\\'s cigarettes, Ratched confiscates the cigarettes and rations them out. McMurphy calls for votes on ward policy changes to challenge her. He makes a show of betting the other patients he can escape by lifting an old hydrotherapy console—a massive marble plumbing fixture—off the floor and sending it through the window; when he fails to do so, he turns to them and says, \"But I tried goddammit. At least I did that.\"  McMurphy\\'s and Ratched\\'s battle of wills escalates rapidly. When McMurphy\\'s card games win away everyone\\'s cigarettes, Ratched confiscates the cigarettes and rations them out. McMurphy calls for votes on ward policy changes to challenge her. He makes a show of betting the other patients he can escape by lifting an old   hydrotherapy  hydrotherapy   console—a massive marble plumbing fixture—off the floor and sending it through the window; when he fails to do so, he turns to them and says, \"But I   tried  tried   goddammit. At least I did that.\"  \\n  McMurphy steals a hospital bus, herds his colleagues aboard, stops to pick up Candy (Marya Small), a party girl, and takes the group deep sea fishing on a commandeered boat. He tells them: \"You\\'re not nuts, you\\'re fishermen!\" and they begin to feel faint stirrings of self-determination.  McMurphy steals a hospital bus, herds his colleagues aboard, stops to pick up Candy (  Marya Small  Marya Small  ), a party girl, and takes the group deep sea fishing on a commandeered boat. He tells them: \"You\\'re not nuts, you\\'re fishermen!\" and they begin to feel faint stirrings of self-determination.  \\n  Soon after, however, McMurphy learns that Ratched and the doctors have the power to keep him committed indefinitely. Sensing a rising tide of insurrection among the group, Ratched tightens her grip on everyone. During one of her group therapy sessions, Cheswick\\'s agitation boils over and he, McMurphy and the Chief wind up brawling with the orderlies. They are sent up to the \"shock shop\" for electroconvulsive therapy. While McMurphy and the Chief wait their turn, McMurphy offers Chief a piece of gum, and Chief murmurs \"Thank you...Ah, Juicy Fruit.\" McMurphy is delighted to find that Bromden is neither deaf nor mute, and that he stays silent to deflect attention. After the electroshock therapy, McMurphy shuffles back onto the ward feigning brain damage, before humorously animating his face and loudly greeting his fellow patients, assuring everyone that the ECT only charged him up all the more and that the next woman to take him on will \"light up like a pinball machine and pay off in silver dollars.\"  Soon after, however, McMurphy learns that Ratched and the doctors have the power to keep him committed indefinitely. Sensing a rising tide of insurrection among the group, Ratched tightens her grip on everyone. During one of her group therapy sessions, Cheswick\\'s agitation boils over and he, McMurphy and the Chief wind up brawling with the orderlies. They are sent up to the \"shock shop\" for   electroconvulsive therapy  electroconvulsive therapy  . While McMurphy and the Chief wait their turn, McMurphy offers Chief a piece of gum, and Chief murmurs \"Thank you...Ah, Juicy Fruit.\" McMurphy is delighted to find that Bromden is neither deaf nor mute, and that he stays silent to deflect attention. After the electroshock therapy, McMurphy shuffles back onto the ward feigning brain damage, before humorously animating his face and loudly greeting his fellow patients, assuring everyone that the ECT only charged him up all the more and that the next woman to take him on will \"light up like a pinball machine and pay off in silver dollars.\"  \\n  But the struggle with Ratched is taking its toll, and with his release date no longer a certainty, McMurphy plans an escape. He phones Candy to bring her friend Rose (Louisa Moritz) and some booze to the hospital late one night. They enter through a window after McMurphy bribes the night orderly, Mr. Turkle (Scatman Crothers). McMurphy and Candy invite the patients into the day room for a Christmas party; the group breaks into the drug locker, puts on music, and enjoys a bacchanalian rampage. At the end of the night, McMurphy and Bromden prepare to climb out the window with the girls. McMurphy says goodbye to everyone, and invites an emotional Billy to escape with them; he declines, saying he is not yet ready to leave the hospital—though he would like to date Candy in the future. McMurphy insists Billy have sex with Candy right then and there. Billy and Candy agree and they retire to a private room. The effects of the alcohol and pilfered medication take their toll on everyone, including McMurphy and the Chief, whose eyes slowly close in fatigue.  But the struggle with Ratched is taking its toll, and with his release date no longer a certainty, McMurphy plans an escape. He phones Candy to bring her friend Rose (  Louisa Moritz  Louisa Moritz  ) and some booze to the hospital late one night. They enter through a window after McMurphy bribes the night orderly, Mr. Turkle (  Scatman Crothers  Scatman Crothers  ). McMurphy and Candy invite the patients into the day room for a Christmas party; the group breaks into the drug locker, puts on music, and enjoys a   bacchanalian  bacchanalian   rampage. At the end of the night, McMurphy and Bromden prepare to climb out the window with the girls. McMurphy says goodbye to everyone, and invites an emotional Billy to escape with them; he declines, saying he is not yet ready to leave the hospital—though he   would  would   like to date Candy in the future. McMurphy insists Billy have sex with Candy right then and there. Billy and Candy agree and they retire to a private room. The effects of the alcohol and pilfered medication take their toll on everyone, including McMurphy and the Chief, whose eyes slowly close in fatigue.  \\n  Ratched arrives the following morning and discovers the scene: the ward completely upended and patients passed out all over the floor. She orders the attendants to lock the window, clean up, and conduct a head count. When they find Billy and Candy, the other patients applaud and, buoyed, Billy speaks for the first time without a stutter. Ratched then announces that she will tell Billy\\'s mother what he has done. Billy panics, his stutter returns, and he starts punching himself; locked in the doctor\\'s office, he kills himself. McMurphy, enraged at Ratched, chokes her nearly to death until orderly Washington knocks him out.  Ratched arrives the following morning and discovers the scene: the ward completely upended and patients passed out all over the floor. She orders the attendants to lock the window, clean up, and conduct a head count. When they find Billy and Candy, the other patients applaud and, buoyed, Billy speaks for the first time without a stutter. Ratched then announces that she will tell Billy\\'s mother what he has done. Billy panics, his stutter returns, and he starts punching himself; locked in the doctor\\'s office, he kills himself. McMurphy, enraged at Ratched, chokes her nearly to death until orderly Washington knocks him out.  \\n  Some time later, the patients in the ward play cards and gamble for cigarettes as before, only now with Harding dealing and delivering a pale imitation of McMurphy\\'s patter. Ratched, still recovering from the neck injury sustained during McMurphy\\'s attack, wears a neck brace and speaks in a thin, reedy voice. The patients pass a whispered rumor that McMurphy dramatically escaped the hospital rather than being taken \"upstairs\".  Some time later, the patients in the ward play cards and gamble for cigarettes as before, only now with Harding dealing and delivering a pale imitation of McMurphy\\'s patter. Ratched, still recovering from the neck injury sustained during McMurphy\\'s attack, wears a neck brace and speaks in a thin, reedy voice. The patients pass a whispered rumor that McMurphy dramatically escaped the hospital rather than being taken \"upstairs\".  \\n  Late that night, Bromden sees McMurphy being escorted back to his bed, and initially believes that he has returned so they can escape together, which he is now ready to do since McMurphy has made him feel \"as big as a mountain\". However, when he looks closely at McMurphy\\'s unresponsive face, he is horrified to see lobotomy scars on his forehead. Unwilling to allow McMurphy to live in such a state, the Chief smothers McMurphy to death with his pillow. He then carries out McMurphy\\'s escape plan by lifting the hydrotherapy console off the floor and hurling the massive fixture through a grated window. Chief climbs through the window and runs off into the distance, with Taber waking up just in time to see him escape and cheering as the others awake.  Late that night, Bromden sees McMurphy being escorted back to his bed, and initially believes that he has returned so they can escape together, which he is now ready to do since McMurphy has made him feel \"as big as a mountain\". However, when he looks closely at McMurphy\\'s unresponsive face, he is horrified to see   lobotomy  lobotomy   scars on his forehead. Unwilling to allow McMurphy to live in such a state, the Chief smothers McMurphy to death with his pillow. He then carries out McMurphy\\'s escape plan by lifting the hydrotherapy console off the floor and hurling the massive fixture through a grated window. Chief climbs through the window and runs off into the distance, with Taber waking up just in time to see him escape and cheering as the others awake.  \\n \\n BREAKS HERE Plot  [edit]  [  [  edit  edit  ]  ]  \\n  \\nPart 1\\n  \\n  Part 1  Part 1  \\n  \\n  On the eve of the American Civil War in 1861, Scarlett O\\'Hara lives at Tara, her family\\'s cotton plantation in Georgia, with her parents and two sisters. Scarlett learns that Ashley Wilkes—whom she secretly loves—is to be married to his cousin, Melanie Hamilton, and the engagement is to be announced the next day at a barbecue at Ashley\\'s home, the nearby plantation Twelve Oaks.  On the eve of the   American Civil War  American Civil War   in 1861,   Scarlett O\\'Hara  Scarlett O\\'Hara   lives at   Tara  Tara  , her family\\'s cotton   plantation  plantation   in   Georgia  Georgia  , with her parents and two sisters. Scarlett learns that   Ashley Wilkes  Ashley Wilkes  —whom she secretly loves—is to be   married to his cousin  married to his cousin  ,   Melanie Hamilton  Melanie Hamilton  , and the engagement is to be announced the next day at a barbecue at Ashley\\'s home, the nearby plantation   Twelve Oaks  Twelve Oaks  .  \\n  At the Twelve Oaks party, Scarlett notices that she is being admired by Rhett Butler, who has been disowned by his family. Rhett finds himself in further disfavor among the male guests when, during a discussion of the probability of war, he states that the South has no chance against the superior numbers and industrial might of the North. Scarlett secretly confesses to Ashley that she loves him, but he rebuffs her by responding that he and the sweet Melanie are more compatible. Rhett overhears their conversation, but promises Scarlett he will keep her secret. The barbecue is disrupted by the declaration of war and the men rush to enlist. As Scarlett watches Ashley kiss Melanie goodbye, Melanie\\'s younger brother Charles proposes to her. Although she does not love him Scarlett consents and they are married before he leaves to fight.  At the Twelve Oaks party, Scarlett notices that she is being admired by   Rhett Butler  Rhett Butler  , who has been disowned by his family. Rhett finds himself in further disfavor among the male guests when, during a discussion of the probability of war, he states that the South has no chance against the superior numbers and industrial might of the North. Scarlett secretly confesses to Ashley that she loves him, but he rebuffs her by responding that he and the sweet Melanie are more compatible. Rhett overhears their conversation, but promises Scarlett he will keep her secret. The barbecue is disrupted by the declaration of war and the men rush to enlist. As Scarlett watches Ashley kiss Melanie goodbye, Melanie\\'s younger brother Charles proposes to her. Although she does not love him Scarlett consents and they are married before he leaves to fight.  \\n  Scarlett is quickly widowed when Charles dies from a bout of pneumonia and measles while serving in the Confederate Army. Scarlett\\'s mother sends her to the Hamilton home in Atlanta to cheer her up, although the O\\'Haras\\' outspoken housemaid Mammy tells Scarlett she knows she is going there only to wait for Ashley\\'s return. Scarlett, who should not attend a party while in deep mourning, attends a charity bazaar in Atlanta with Melanie. There, Scarlett is the object of shocked comments on the part of the elderly women who represent proper Atlanta society. Rhett, now a blockade runner for the Confederacy, makes a surprise appearance. To raise money for the Confederate war effort, gentlemen are invited to offer bids for ladies to dance with them. Rhett makes an inordinately large bid for Scarlett and, to the disapproval of the guests, Scarlett agrees to dance with him. As they dance, Rhett tells her he intends to win her, which she says will never happen.  Scarlett is quickly widowed when Charles dies from a bout of pneumonia and measles while serving in the   Confederate Army  Confederate Army  . Scarlett\\'s mother sends her to the Hamilton home in   Atlanta  Atlanta   to cheer her up, although the O\\'Haras\\' outspoken housemaid Mammy tells Scarlett she knows she is going there only to wait for Ashley\\'s return. Scarlett, who should not attend a party while in deep mourning, attends a charity bazaar in Atlanta with Melanie. There, Scarlett is the object of shocked comments on the part of the elderly women who represent proper Atlanta society. Rhett, now a   blockade runner  blockade runner   for the   Confederacy  Confederacy  , makes a surprise appearance. To raise money for the Confederate war effort, gentlemen are invited to offer bids for ladies to dance with them. Rhett makes an inordinately large bid for Scarlett and, to the disapproval of the guests, Scarlett agrees to dance with him. As they dance, Rhett tells her he intends to win her, which she says will never happen.  \\n  The tide of war turns against the Confederacy after the Battle of Gettysburg in which many of the men of Scarlett\\'s town are killed. Scarlett makes another unsuccessful appeal to Ashley while he is visiting on Christmas furlough, although they do share a private and passionate kiss in the parlor on Christmas Day, just before he returns to war.  The tide of war turns against the Confederacy after the   Battle of Gettysburg  Battle of Gettysburg   in which many of the men of Scarlett\\'s town are killed. Scarlett makes another unsuccessful appeal to Ashley while he is visiting on Christmas   furlough  furlough  , although they do share a private and passionate kiss in the parlor on Christmas Day, just before he returns to war.  \\n  Eight months later, as the city is besieged by the Union Army in the Atlanta Campaign, Melanie goes into premature and difficult labor. Keeping her promise to Ashley to take care of Melanie, Scarlett and her young house servant Prissy must deliver the child without medical assistance. Scarlett calls upon Rhett to bring her home to Tara immediately with Melanie, Prissy, and the baby. He appears with a horse and wagon and takes them out of the city through the burning depot and warehouse district. Instead of accompanying her all the way to Tara, he sends her on her way with a nearly dead horse, helplessly frail Melanie, her baby, and tearful Prissy, and with a passionate kiss as he goes off to fight. On her journey home, Scarlett finds Twelve Oaks burned, ruined and deserted. She is relieved to find Tara still standing but deserted by all except her parents, her sisters, and two servants: Mammy and Pork. Scarlett learns that her mother has just died of typhoid fever and her father\\'s mind has begun to fail under the strain. With Tara pillaged by Union troops and the fields untended, Scarlett vows she will do anything for the survival of her family and herself.  Eight months later, as the city is besieged by the   Union Army  Union Army   in the   Atlanta Campaign  Atlanta Campaign  , Melanie goes into premature and difficult labor. Keeping her promise to Ashley to take care of Melanie, Scarlett and her young house servant Prissy must deliver the child without medical assistance. Scarlett calls upon Rhett to bring her home to Tara immediately with Melanie, Prissy, and the baby. He appears with a horse and wagon and takes them out of the city through the burning depot and warehouse district. Instead of accompanying her all the way to Tara, he sends her on her way with a nearly dead horse, helplessly frail Melanie, her baby, and tearful Prissy, and with a passionate kiss as he goes off to fight. On her journey home, Scarlett finds Twelve Oaks burned, ruined and deserted. She is relieved to find Tara still standing but deserted by all except her parents, her sisters, and two servants: Mammy and Pork. Scarlett learns that her mother has just died of   typhoid fever  typhoid fever   and her father\\'s mind has begun to fail under the strain. With Tara pillaged by Union troops and the fields untended, Scarlett vows she will do anything for the survival of her family and herself.  \\n  \\nPart 2\\n  \\n  Part 2  Part 2  \\n  \\n  Scarlett sets her family and servants to work in the cotton fields, facing many hardships along the way, including the death of her father after he is thrown from his horse in an attempt to chase away a scalawag from his land. With the defeat of the Confederacy Ashley has also returned, but finds he is of little help at Tara. When Scarlett begs him to run away with her, he confesses his desire for her and kisses her passionately, but says he cannot leave Melanie. Unable to pay the taxes on Tara implemented by Reconstructionists, Scarlett dupes her sister\\'s fiancé, the middle-aged and wealthy Frank Kennedy, into marrying her, by saying Suellen got tired of waiting and married another beau.  Scarlett sets her family and servants to work in the cotton fields, facing many hardships along the way, including the death of her father after he is thrown from his horse in an attempt to chase away a   scalawag  scalawag   from his land. With the defeat of the Confederacy Ashley has also returned, but finds he is of little help at Tara. When Scarlett begs him to run away with her, he confesses his desire for her and kisses her passionately, but says he cannot leave Melanie. Unable to pay the taxes on Tara implemented by   Reconstructionists  Reconstructionists  , Scarlett dupes her sister\\'s fiancé, the middle-aged and wealthy Frank Kennedy, into marrying her, by saying Suellen got tired of waiting and married another beau.  \\n  Frank, Ashley, Rhett and several other accomplices make a night raid on a shanty town after Scarlett narrowly escapes an attempted gang rape while driving through it alone, resulting in Frank\\'s death. With Frank\\'s funeral barely over, Rhett visits Scarlett and proposes marriage, and she accepts. They have a daughter whom Rhett names Bonnie Blue, but Scarlett, still pining for Ashley and chagrined at the perceived ruin of her figure, lets Rhett know that she wants no more children and that they will no longer share a bed.  Frank, Ashley, Rhett and several other accomplices make a night raid on a   shanty town  shanty town   after Scarlett narrowly escapes an attempted   gang rape  gang rape   while driving through it alone, resulting in Frank\\'s death. With Frank\\'s funeral barely over, Rhett visits Scarlett and proposes marriage, and she accepts. They have a daughter whom Rhett names Bonnie Blue, but Scarlett, still pining for Ashley and chagrined at the perceived ruin of her figure, lets Rhett know that she wants no more children and that they will no longer share a bed.  \\n  One day, Scarlett calls upon Ashley, who has taken over managing Frank\\'s lumber mill, and they are spied in an embrace by Ashley\\'s sister, India. Harboring an intense dislike of Scarlett she eagerly spreads rumors, and Scarlett\\'s reputation is again sullied. Later that evening, Rhett, having heard the rumors, forces Scarlett to attend a birthday party for Ashley; incapable of believing anything bad of her beloved sister-in-law, Melanie stands by Scarlett\\'s side so that all know that she believes the gossip to be false. After returning home from the party, Scarlett finds Rhett downstairs drunk, and they argue about Ashley. Seething with jealousy, Rhett grabs Scarlett\\'s head and threatens to smash in her skull. When she taunts him that he has no honor Rhett retaliates by forcing himself onto her, kissing Scarlett against her will, and states his intent to have sex with her that night. Frightened, she attempts to physically resist him, but Rhett overpowers her and carries the struggling Scarlett to the bedroom. The next day, Rhett apologizes for his behavior and offers Scarlett a divorce, which she rejects, saying that it would be a disgrace.  One day, Scarlett calls upon Ashley, who has taken over managing Frank\\'s lumber mill, and they are spied in an embrace by Ashley\\'s sister, India. Harboring an intense dislike of Scarlett she eagerly spreads rumors, and Scarlett\\'s reputation is again sullied. Later that evening, Rhett, having heard the rumors, forces Scarlett to attend a birthday party for Ashley; incapable of believing anything bad of her beloved sister-in-law, Melanie stands by Scarlett\\'s side so that all know that she believes the gossip to be false. After returning home from the party, Scarlett finds Rhett downstairs drunk, and they argue about Ashley. Seething with jealousy, Rhett grabs Scarlett\\'s head and threatens to smash in her skull. When she taunts him that he has no honor Rhett retaliates by forcing himself onto her, kissing Scarlett against her will, and states his intent to have sex with her that night. Frightened, she attempts to physically resist him, but Rhett overpowers her and carries the struggling Scarlett to the bedroom. The next day, Rhett apologizes for his behavior and offers Scarlett a divorce, which she rejects, saying that it would be a disgrace.  \\n  When Rhett returns from an extended trip to London, Scarlett\\'s attempts at reconciliation are rebuffed. She informs him that she is pregnant, but an argument ensues which results in Scarlett falling down a flight of stairs and suffering a miscarriage. As Scarlett is recovering, tragedy strikes when Bonnie dies while attempting to jump a fence with her pony. Melanie visits their home to comfort them, but collapses due to complications arising from her pregnancy.  When Rhett returns from an extended trip to London, Scarlett\\'s attempts at reconciliation are rebuffed. She informs him that she is pregnant, but an argument ensues which results in Scarlett falling down a flight of stairs and suffering a   miscarriage  miscarriage  . As Scarlett is recovering, tragedy strikes when Bonnie dies while attempting to jump a fence with her pony. Melanie visits their home to comfort them, but collapses due to complications arising from her pregnancy.  \\n  After visiting Melanie on her deathbed, Scarlett consoles Ashley, resulting in Rhett returning home. Realizing that Ashley only ever truly loved Melanie, Scarlett dashes after Rhett to find him preparing to leave for good. She pleads with him, telling him she realizes now that she has loved him all along, and that she never really loved Ashley. However, he rebuffs her, saying that with Bonnie\\'s death went any chance of reconciliation. Scarlett begs him to stay but to no avail, and Rhett walks out the door and into the early morning fog, leaving her weeping on the staircase and vowing to one day win back his love.  After visiting Melanie on her deathbed, Scarlett consoles Ashley, resulting in Rhett returning home. Realizing that Ashley only ever truly loved Melanie, Scarlett dashes after Rhett to find him preparing to leave for good. She pleads with him, telling him she realizes now that she has loved him all along, and that she never really loved Ashley. However, he rebuffs her, saying that with Bonnie\\'s death went any chance of reconciliation. Scarlett begs him to stay but to no avail, and Rhett walks out the door and into the early morning fog, leaving her weeping on the staircase and vowing to one day win back his love.  \\n \\n BREAKS HERE Plot  [edit]  [  [  edit  edit  ]  ]  \\n  \\n\\n\\n\\nOrson Welles as Charles Foster Kane\\n\\n  \\n  \\n\\n\\nOrson Welles as Charles Foster Kane\\n      \\n  \\n\\nOrson Welles as Charles Foster Kane  \\n      \\nOrson Welles as Charles Foster Kane  \\n  \\n  \\n  The film opens with shots of Xanadu, a vast palatial estate in Florida with a \"No Trespassing\" sign on the gate. Inside the estate\\'s mansion an elderly man on his deathbed holds a snow globe and utters the single word, \"Rosebud\", before dying; the globe slips from his hand and smashes on the floor.  The film opens with shots of   Xanadu  Xanadu  , a vast palatial estate in Florida with a \"No Trespassing\" sign on the gate. Inside the estate\\'s mansion an elderly man on his deathbed holds a   snow globe  snow globe   and utters the single word, \"Rosebud\", before dying; the globe slips from his hand and smashes on the floor.  \\n  A newsreel obituary tells the life story of Charles Foster Kane, an enormously wealthy newspaper publisher. The newsreel recounts Kane\\'s entire life, including his mysterious last words. Kane\\'s death becomes sensational news around the world. The newsreel\\'s producer tasks reporter Jerry Thompson with discovering the meaning of \"Rosebud\".  A   newsreel obituary  newsreel obituary   tells the life story of   Charles Foster Kane  Charles Foster Kane  , an enormously wealthy newspaper publisher. The newsreel recounts Kane\\'s entire life, including his mysterious last words. Kane\\'s death becomes sensational news around the world. The newsreel\\'s producer tasks reporter Jerry Thompson with discovering the meaning of \"Rosebud\".  \\n  Thompson sets out to interviews Kane\\'s friends and associates. Thompson approaches Kane\\'s second wife, Susan Alexander Kane, now an alcoholic who runs her own nightclub, but she refuses to tell him anything and demands that he leave.  Thompson sets out to interviews Kane\\'s friends and associates. Thompson approaches Kane\\'s second wife, Susan Alexander Kane, now an   alcoholic  alcoholic   who runs her own nightclub, but she refuses to tell him anything and demands that he leave.  \\n  Thompson then goes to the private archive of the late Walter Parks Thatcher, a banker who served as Kane\\'s guardian during his childhood and adolescence. Through Thatcher\\'s written memoirs, Thompson learns about Kane\\'s childhood, which began in poverty in Colorado (his parents ran a boarding house), until \"the world\\'s third largest gold mine\" was discovered on the seemingly worthless property his mother had acquired. His mother, Mary, sends him away to the East to live with Thatcher, so that he may be properly educated. After gaining full control over his trust fund at the age of 25, Kane enters the newspaper business and embarks on a career of yellow journalism. He takes control of the newspaper, the New York Inquirer and begins publishing scandalous articles that attack Thatcher\\'s business interests.  Thompson then goes to the private archive of the late Walter Parks Thatcher, a banker who served as Kane\\'s guardian during his childhood and adolescence. Through Thatcher\\'s written memoirs, Thompson learns about Kane\\'s childhood, which began in poverty in Colorado (his parents ran a boarding house), until \"the world\\'s third largest gold mine\" was discovered on the seemingly worthless property his mother had acquired. His mother, Mary, sends him away to the   East  East   to live with Thatcher, so that he may be properly educated. After gaining full control over his trust fund at the age of 25, Kane enters the newspaper business and embarks on a career of   yellow journalism  yellow journalism  . He takes control of the newspaper, the   New York Inquirer  New York Inquirer   and begins publishing scandalous articles that attack Thatcher\\'s business interests.  \\n  Thompson then interviews Kane\\'s personal business manager, Mr. Bernstein. Berstein recalls how Kane hired the best journalists available to build The Inquirer\\'s circulation. Kane then rises to power by successfully manipulating public opinion regarding the Spanish American War and marrying Emily Norton, the niece of a President of the United States.  Thompson then interviews Kane\\'s personal business manager, Mr. Bernstein. Berstein recalls how Kane hired the best journalists available to build   The Inquirer\\'  The Inquirer\\'  s circulation. Kane then rises to power by successfully manipulating public opinion regarding the   Spanish American War  Spanish American War   and marrying Emily Norton, the niece of a   President of the United States  President of the United States  .  \\n  Thompson then interviews Kane\\'s estranged best friend, Jedediah Leland. Leland recalls Kane campaigning for the office of Governor of New York. Kane\\'s marriage disintegrates over the years, and he begins an affair with Susan Alexander, a singer. Both his wife and his political opponent discover the affair and this brings an abrupt end to both his marriage and his political aspirations. Kane marries Susan, and forces her into a humiliating operatic career for which she has neither the talent nor the ambition.  Thompson then interviews Kane\\'s estranged best friend, Jedediah Leland. Leland recalls Kane campaigning for the office of Governor of   New York  New York  . Kane\\'s marriage disintegrates over the years, and he begins an affair with Susan Alexander, a singer. Both his wife and his political opponent discover the affair and this brings an abrupt end to both his marriage and his political aspirations. Kane marries Susan, and forces her into a humiliating operatic career for which she has neither the talent nor the ambition.  \\n  Thompson then returns to interview Susan, successfully this time. Susan recalls her failed opera career. Kane finally allows her to abandon her singing career after she attempts suicide. After years spent in boredom and isolation on the Xanadu estate, constantly under his dominance, Susan ultimately leaves Kane. Kane spends his last years building his vast estate and lives alone, interacting only with his staff.  Thompson then returns to interview Susan, successfully this time. Susan recalls her failed opera career. Kane finally allows her to abandon her singing career after she attempts suicide. After years spent in boredom and isolation on the Xanadu estate, constantly under his dominance, Susan ultimately leaves Kane. Kane spends his last years building his vast estate and lives alone, interacting only with his staff.  \\n  Finally Thompson interviews Kane\\'s butler Raymond at the Xanadu estate. Raymond recounts that Kane had said \"Rosebud\" after Susan left him, right after seeing and pocketing a snow globe.  Finally Thompson interviews Kane\\'s butler Raymond at the Xanadu estate. Raymond recounts that Kane had said \"Rosebud\" after Susan left him, right after seeing and pocketing a snow globe.  \\n  Back at Xanadu, Kane\\'s vast number of belongings are catalogued: priceless works of art are intermingled with worthless pieces of modern furniture. Thompson finds that he is unable to solve the mystery and concludes that the meaning of \"Rosebud\" will forever remain an enigma. He theorizes that \"Mr. Kane was a man who got everything he wanted, and then lost it. Maybe Rosebud was something he couldn\\'t get, or something he lost.\" As the film ends, the camera reveals that Rosebud was the name of a sled from Kane\\'s childhood–an allusion to the only time in his life that he was truly happy. The sled, thought to be junk, is burned in a basement furnace by Xanadu\\'s departing staff.  Back at Xanadu, Kane\\'s vast number of belongings are catalogued: priceless works of art are intermingled with worthless pieces of modern furniture. Thompson finds that he is unable to solve the mystery and concludes that the meaning of \"Rosebud\" will forever remain an enigma. He theorizes that \"Mr. Kane was a man who got everything he wanted, and then lost it. Maybe Rosebud was something he couldn\\'t get, or something he lost.\" As the film ends, the camera reveals that Rosebud was the name of a   sled  sled   from Kane\\'s childhood–an allusion to the only time in his life that he was truly happy. The sled, thought to be junk, is burned in a basement furnace by Xanadu\\'s departing staff.  \\n \\n BREAKS HERE Plot  [edit]  [  [  edit  edit  ]  ]  \\n  The film starts in sepia-tinted Kansas in the early 1900s. Dorothy Gale lives with her dog Toto on the farm of her Aunt Em and Uncle Henry. Dorothy and Toto get in trouble with a cruel neighbor, Miss Almira Gulch, when Toto bites her. However, Dorothy\\'s family and the farmhands are all too busy to pay attention to her. Miss Gulch arrives with permission from the sheriff to have Toto be euthanized. He is taken away, but escapes and returns to Dorothy; she then decides to run away from home with Toto to escape Miss Gulch. They meet Professor Marvel, a phony fortune teller, who realizes Dorothy has run away and tricks her via his crystal ball into believing that her aunt is ill so that she may return home. She races home as a powerful tornado develops. Unable to get into the storm cellar, she seeks safety in her bedroom. A wind-blown window sash hits her head and she falls unconscious on her bed. She wakes to find the house spinning in the air, held aloft by the twister. In the storm outside the window she sees Aunt Em in a chair, several farm animals, two of the farmhands rowing a boat, as well as Miss Gulch pedaling her bicycle, who transforms into a cackling witch flying on a broomstick.  The film starts in sepia-tinted   Kansas  Kansas   in the early 1900s.   Dorothy Gale  Dorothy Gale   lives with her dog   Toto  Toto   on the farm of her   Aunt Em  Aunt Em   and   Uncle Henry  Uncle Henry  . Dorothy and Toto get in trouble with a cruel neighbor, Miss Almira Gulch, when Toto bites her. However, Dorothy\\'s family and the farmhands are all too busy to pay attention to her. Miss Gulch arrives with permission from the sheriff to have Toto be euthanized. He is taken away, but escapes and returns to Dorothy; she then decides to run away from home with Toto to escape Miss Gulch. They meet Professor Marvel, a phony fortune teller, who realizes Dorothy has run away and tricks her via his crystal ball into believing that her aunt is ill so that she may return home. She races home as a powerful   tornado  tornado   develops. Unable to get into the   storm cellar  storm cellar  , she seeks safety in her bedroom. A wind-blown window sash hits her head and she falls unconscious on her bed. She wakes to find the house spinning in the air, held aloft by the twister. In the storm outside the window she sees Aunt Em in a chair, several farm animals, two of the farmhands rowing a boat, as well as Miss Gulch pedaling her bicycle, who transforms into a cackling witch flying on a broomstick.  \\n  \\n\\n\\n\\nDorothy (Judy Garland, right) with Glinda, the Good Witch of the North (Billie Burke).\\n\\n  \\n  \\n\\n\\nDorothy (Judy Garland, right) with Glinda, the Good Witch of the North (Billie Burke).\\n      \\n  \\n\\nDorothy (Judy Garland, right) with Glinda, the Good Witch of the North (Billie Burke).  \\n      \\nDorothy (Judy Garland, right) with Glinda, the Good Witch of the North (Billie Burke).  \\n  \\n  \\n  The farm house crashes in Munchkinland in the world of Oz, where the film changes to Technicolor. Glinda, the Good Witch of the North, and the Munchkins, welcome her as a heroine because the house has landed on and killed the Wicked Witch of the East, leaving only her feet exposed. Her sister, the Wicked Witch of the West, arrives to claim the magic ruby slippers worn on her sister\\'s feet. Glinda transfers them off her feet to Dorothy\\'s feet instead. The Witch of the West swears revenge on Dorothy and Toto for her sister\\'s death. Glinda tells Dorothy to follow the yellow brick road to the Emerald City, where the Wizard of Oz might be able to help her get back home.  The farm house crashes in   Munchkinland  Munchkinland   in the   world of Oz  world of Oz  , where the film changes to Technicolor.   Glinda, the Good Witch of the North  Glinda, the Good Witch of the North  , and the   Munchkins  Munchkins  , welcome her as a heroine because the house has landed on and killed the   Wicked Witch of the East  Wicked Witch of the East  , leaving only her feet exposed. Her sister, the   Wicked Witch of the West  Wicked Witch of the West  , arrives to claim the magic ruby slippers worn on her sister\\'s feet. Glinda transfers them off her feet to Dorothy\\'s feet instead. The Witch of the West swears revenge on Dorothy and Toto for her sister\\'s death. Glinda tells Dorothy to follow the   yellow brick road  yellow brick road   to the   Emerald City  Emerald City  , where the   Wizard of Oz  Wizard of Oz   might be able to help her get back home.  \\n  On her way to the Emerald City, Dorothy meets and befriends the Scarecrow who wants a brain, the Tin Woodman who desires a heart, and the Cowardly Lion who is in need of courage. Their faces resemble the farmhands, which Dorothy notices. They join Dorothy to ask the Wizard for their respective consciously declared quality: brain, heart, and courage. After encountering the Witch who attempts to deter them from reaching their destination, they finally reach the Emerald City. Inside, after being initially rejected, they are permitted to see the Wizard (appearing to them in the form of a large head surrounded by fire) who agrees to grant their wishes when they bring him the Witch of the West\\'s broom.  On her way to the Emerald City, Dorothy meets and befriends the   Scarecrow  Scarecrow   who wants a brain, the   Tin Woodman  Tin Woodman   who desires a heart, and the   Cowardly Lion  Cowardly Lion   who is in need of courage. Their faces resemble the farmhands, which Dorothy notices. They join Dorothy to ask the Wizard for their respective consciously declared quality: brain, heart, and courage. After encountering the Witch who attempts to deter them from reaching their destination, they finally reach the Emerald City. Inside, after being initially rejected, they are permitted to see the Wizard (appearing to them in the form of a large head surrounded by fire) who agrees to grant their wishes when they bring him the Witch of the West\\'s broom.  \\n  On their quest to the Witch\\'s castle, the group make through their way through the Haunted Forest whilst the Witch continues to view their progress through a crystal ball. She then sends her flying monkeys to ambush the four and capture Dorothy and Toto. At the castle, the Witch again fails to get the slippers off of Dorothy due to a magical barrier, and remembers that Dorothy first has to be killed. Toto then escapes and leads her friends to the castle. After defeating three Winkie Guards and stealing their uniforms, they march inside and free her, but the Witch and her guards eventually trap them. After Scarecrow drops a chandelier onto the Winkies, the group is chased across the battlements, before being trapped on both sides. The Witch then sets fire to the Scarecrow, and Dorothy instinctively splashes a nearby bucket of water onto the flames; the Witch is also hit by it and melts. The guards unexpectedly rejoice now that she is dead, and they give Dorothy the charred broom in gratitude.  On their quest to the Witch\\'s castle, the group make through their way through the Haunted Forest whilst the Witch continues to view their progress through a crystal ball. She then sends her   flying monkeys  flying monkeys   to ambush the four and capture Dorothy and Toto. At the castle, the Witch again fails to get the slippers off of Dorothy due to a magical barrier, and remembers that Dorothy first has to be killed. Toto then escapes and leads her friends to the castle. After defeating three Winkie Guards and stealing their uniforms, they march inside and free her, but the Witch and her guards eventually trap them. After Scarecrow drops a chandelier onto the Winkies, the group is chased across the battlements, before being trapped on both sides. The Witch then sets fire to the Scarecrow, and Dorothy instinctively splashes a nearby bucket of water onto the flames; the Witch is also hit by it and melts. The guards unexpectedly rejoice now that she is dead, and they give Dorothy the charred broom in gratitude.  \\n  Back at the Emerald City, the Wizard refuses to grant their wishes at that time, and Toto exposes the \"Wizard\" as a normal middle-aged man (who resembles Professor Marvel) that has been operating and controlling the wizard; he admits to being a humbug and a bad wizard. Nonetheless, he grants their wishes by giving the Scarecrow a diploma, the Lion a medal, and the Tin Man a heart-shaped watch, and that is enough to convince themselves that what they sought has been achieved. He then prepares to get Dorothy home in his hot air balloon, but as Toto runs away to chase a cat, Dorothy follows, and it leaves without her. Glinda soon arrives and tells her that she can still return home by tapping her heels together three times and repeating, \"There\\'s no place like home.\"[7] After bidding a tearful goodbye to her friends, Dorothy \"returns\" home, coming to consciousness on her bed surrounded by her family, the farmhands, Professor Marvel, and Toto.  Back at the Emerald City, the Wizard refuses to grant their wishes at that time, and Toto exposes the \"Wizard\" as a normal middle-aged man (who resembles Professor Marvel) that has been operating and controlling the wizard; he admits to being a   humbug  humbug   and a bad wizard. Nonetheless, he grants their wishes by giving the Scarecrow a   diploma  diploma  , the Lion a medal, and the Tin Man a heart-shaped watch, and that is enough to convince themselves that what they sought has been achieved. He then prepares to get Dorothy home in his hot air balloon, but as Toto runs away to chase a cat, Dorothy follows, and it leaves without her. Glinda soon arrives and tells her that she can still return home by tapping her heels together three times and repeating, \"There\\'s no place like home.\"  [7]  [7]  [  [  7  ]  ]   After bidding a tearful goodbye to her friends, Dorothy \"returns\" home, coming to consciousness on her bed surrounded by her family, the farmhands, Professor Marvel, and Toto.  \\n \\n BREAKS HERE Plot  [edit]  [  [  edit  edit  ]  ]  \\n  In 1996, treasure hunter Brock Lovett and his team aboard the research vessel Keldysh search the wreck of RMS Titanic for a necklace with a rare diamond, the Heart of the Ocean. They recover a safe containing a drawing of a young woman wearing the necklace dated April 14, 1912, the day the ship struck the iceberg.[Note 1] Rose Dawson Calvert, the woman in the drawing, is brought aboard the Keldysh and tells Lovett of her experiences aboard the Titanic.  In 1996, treasure hunter Brock Lovett and his team aboard the research vessel   Keldysh  Keldysh   search the wreck of   RMS Titanic  RMS   Titanic  Titanic   for a necklace with a rare diamond, the   Heart of the Ocean  Heart of the Ocean  . They recover a safe containing a drawing of a young woman wearing the necklace dated April 14, 1912, the day the ship struck the iceberg.  [Note 1]  [Note 1]  [  [  Note 1  ]  ]   Rose Dawson Calvert, the woman in the drawing, is brought aboard the   Keldysh  Keldysh   and tells Lovett of her experiences aboard the   Titanic  Titanic  .  \\n  In 1912 Southampton, 17-year-old first-class passenger Rose DeWitt Bukater, her fiancé Cal Hockley, and her mother Ruth board the Titanic. Ruth emphasizes that Rose\\'s marriage will resolve the DeWitt Bukaters\\' financial problems. Distraught over the engagement, Rose considers jumping from the stern; Jack Dawson, a penniless artist, convinces her not to. Discovered with Jack, Rose tells Cal that she was peering over the edge and Jack saved her from falling. She suggests to an indifferent Cal that Jack deserves a reward. He invites Jack to dine with them in first class the following night. Jack and Rose develop a tentative friendship, though Cal and Ruth are wary of him. Following dinner, Rose secretly joins Jack at a party in third class.  In 1912   Southampton  Southampton  , 17-year-old first-class passenger Rose DeWitt Bukater, her fiancé Cal Hockley, and her mother Ruth board the   Titanic  Titanic  . Ruth emphasizes that Rose\\'s marriage will resolve the DeWitt Bukaters\\' financial problems. Distraught over the engagement, Rose considers jumping from the stern; Jack Dawson, a penniless artist, convinces her not to. Discovered with Jack, Rose tells Cal that she was peering over the edge and Jack saved her from falling. She suggests to an indifferent Cal that Jack deserves a reward. He invites Jack to dine with them in first class the following night. Jack and Rose develop a tentative friendship, though Cal and Ruth are wary of him. Following dinner, Rose secretly joins Jack at a party in third class.  \\n  Aware of Cal and Ruth\\'s disapproval, Rose rebuffs Jack\\'s advances, but realizes she prefers him over Cal. After rendezvousing on the bow at sunset, Rose takes Jack to her state room; at her request, Jack sketches Rose posing nude wearing Cal\\'s engagement present, the Heart of the Ocean necklace. They evade Cal\\'s bodyguard and have sex in an automobile inside the cargo hold. On the forward deck, they witness a collision with an iceberg and overhear the officers and designer discussing its seriousness.  Aware of Cal and Ruth\\'s disapproval, Rose rebuffs Jack\\'s advances, but realizes she prefers him over Cal. After rendezvousing on the bow at sunset, Rose takes Jack to her state room; at her request, Jack sketches Rose posing nude wearing Cal\\'s engagement present, the Heart of the Ocean necklace. They evade Cal\\'s bodyguard and have sex in an automobile inside the cargo hold. On the forward deck, they witness a collision with an iceberg and overhear the officers and designer discussing its seriousness.  \\n  Cal discovers Jack\\'s sketch of Rose and a mocking note from her in his safe along with the necklace. When Jack and Rose attempt to tell Cal of the collision, he has his butler slip the necklace into Jack\\'s pocket and accuses him of theft. Jack is arrested, taken to the Master-at-arms\\' office, and handcuffed to a pipe. Cal puts the necklace in his own coat pocket.  Cal discovers Jack\\'s sketch of Rose and a mocking note from her in his safe along with the necklace. When Jack and Rose attempt to tell Cal of the collision, he has his butler slip the necklace into Jack\\'s pocket and accuses him of theft. Jack is arrested, taken to the   Master-at-arms  Master-at-arms  \\' office, and handcuffed to a pipe. Cal puts the necklace in his own coat pocket.  \\n  With the ship sinking, Rose flees Cal and her mother, who has boarded a lifeboat, and rescues Jack. On the boat deck, Cal and Jack encourage her to board a lifeboat; Cal claims he can get himself and Jack off safely. After Rose boards one, Cal tells Jack the arrangement is only for himself. As her boat lowers, Rose decides that she cannot leave Jack and jumps back on board. Cal takes his bodyguard\\'s pistol and chases Rose and Jack into the flooding first class dining saloon. After using up his ammunition, Cal realizes he gave his coat and consequently the necklace to Rose. He later boards a collapsible lifeboat by carrying a lost child.  With the ship sinking, Rose flees Cal and her mother, who has boarded a lifeboat, and rescues Jack. On the boat deck, Cal and Jack encourage her to board a lifeboat; Cal claims he can get himself and Jack off safely. After Rose boards one, Cal tells Jack the arrangement is only for himself. As her boat lowers, Rose decides that she cannot leave Jack and jumps back on board. Cal takes his bodyguard\\'s pistol and chases Rose and Jack into the flooding first class dining saloon. After using up his ammunition, Cal realizes he gave his coat and consequently the necklace to Rose. He later boards a collapsible lifeboat by carrying a lost child.  \\n  After braving several obstacles, Jack and Rose return to the boat deck. The lifeboats have departed and passengers are falling to their deaths as the stern rises out of the water. The ship breaks in half, lifting the stern into the air. Jack and Rose ride it into the ocean and he helps her onto a wooden panel only buoyant enough for one person. He assures her that she will die an old woman, warm in her bed. He dies of hypothermia but she is saved.  After braving several obstacles, Jack and Rose return to the boat deck. The lifeboats have departed and passengers are falling to their deaths as the stern rises out of the water. The ship breaks in half, lifting the stern into the air. Jack and Rose ride it into the ocean and he helps her onto a wooden panel only buoyant enough for one person. He assures her that she will die an old woman, warm in her bed. He dies of   hypothermia  hypothermia   but she is '"
      ]
     },
     "execution_count": 16,
     "metadata": {},
     "output_type": "execute_result"
    }
   ],
   "source": [
    "synopses_raw_data[:100000]"
   ]
  },
  {
   "cell_type": "markdown",
   "metadata": {},
   "source": [
    "Looks like the different synopses are separated by 'BREAKS HERE'."
   ]
  },
  {
   "cell_type": "code",
   "execution_count": 17,
   "metadata": {},
   "outputs": [
    {
     "data": {
      "text/plain": [
       "101"
      ]
     },
     "execution_count": 17,
     "metadata": {},
     "output_type": "execute_result"
    }
   ],
   "source": [
    "synopses_list = synopses_raw_data.split('BREAKS HERE')\n",
    "len(synopses_list)"
   ]
  },
  {
   "cell_type": "markdown",
   "metadata": {},
   "source": [
    "Once again there is an extra entry."
   ]
  },
  {
   "cell_type": "code",
   "execution_count": 18,
   "metadata": {},
   "outputs": [],
   "source": [
    "synopses_list = synopses_list[:-1]"
   ]
  },
  {
   "cell_type": "markdown",
   "metadata": {},
   "source": [
    "Let's take a look at the synopsis for the first movie (The Godfather)."
   ]
  },
  {
   "cell_type": "code",
   "execution_count": 19,
   "metadata": {
    "scrolled": true
   },
   "outputs": [
    {
     "data": {
      "text/plain": [
       "' Plot  [edit]  [  [  edit  edit  ]  ]  \\n  On the day of his only daughter\\'s wedding, Vito Corleone hears requests in his role as the Godfather, the Don of a New York crime family. Vito\\'s youngest son, Michael, in a Marine Corps uniform, introduces his girlfriend, Kay Adams, to his family at the sprawling reception. Vito\\'s godson Johnny Fontane, a popular singer, pleads for help in securing a coveted movie role, so Vito dispatches his consigliere, Tom Hagen, to Los Angeles to influence the abrasive studio head, Jack Woltz. Woltz is unmoved until the morning he wakes up in bed with the severed head of his prized stallion.  On the day of his only daughter\\'s wedding,   Vito Corleone  Vito Corleone   hears requests in his role as the Godfather, the   Don  Don   of a New York crime family. Vito\\'s youngest son,   Michael  Michael  , in a   Marine Corps  Marine Corps   uniform, introduces his girlfriend,   Kay Adams  Kay Adams  , to his family at the sprawling reception. Vito\\'s godson   Johnny Fontane  Johnny Fontane  , a popular singer, pleads for help in securing a coveted movie role, so Vito dispatches his   consigliere  consigliere  ,   Tom Hagen  Tom Hagen  , to Los Angeles to influence the abrasive studio head,   Jack Woltz  Jack Woltz  . Woltz is unmoved until the morning he wakes up in bed with the severed head of his prized   stallion  stallion  .  \\n  Shortly before Christmas 1945, drug baron Virgil \"The Turk\" Sollozzo, backed by the Corleones\\' rivals, the Tattaglias, asks Vito for investment in the emerging drug trade and protection through his political connections. Vito disapproves of drug dealers, so he sends his enforcer, Luca Brasi, to spy on them. The family then receives two fish wrapped in Brasi\\'s vest, imparting that he \"sleeps with the fishes\". An assassination attempt by Sollozzo\\'s men lands Vito in the hospital, so his eldest son, Sonny, takes command. Sollozzo kidnaps Hagen to pressure Sonny to accept his deal. Michael thwarts a second assassination attempt on his father at the hospital; his jaw is broken by Police Captain McCluskey, who is also Sollozzo\\'s bodyguard. Sonny retaliates for the attacks on his father by having Tattaglia\\'s son killed. Michael comes up with a plan to hit Sollozzo and McCluskey: on the pretext of settling the dispute, Michael accepts their offer to meet in a Bronx restaurant and, retrieving a planted handgun, murders them.  Shortly before Christmas 1945, drug baron   Virgil \"The Turk\" Sollozzo  Virgil \"The Turk\" Sollozzo  , backed by the Corleones\\' rivals, the Tattaglias, asks Vito for investment in the emerging drug trade and protection through his political connections. Vito disapproves of drug dealers, so he sends his enforcer,   Luca Brasi  Luca Brasi  , to spy on them. The family then receives two fish wrapped in Brasi\\'s vest, imparting that he \"sleeps with the fishes\". An assassination attempt by Sollozzo\\'s men lands Vito in the hospital, so his eldest son,   Sonny  Sonny  , takes command. Sollozzo kidnaps Hagen to pressure Sonny to accept his deal. Michael thwarts a second assassination attempt on his father at the hospital; his jaw is broken by Police Captain McCluskey, who is also Sollozzo\\'s bodyguard. Sonny retaliates for the attacks on his father by having Tattaglia\\'s son killed. Michael comes up with a plan to hit Sollozzo and McCluskey: on the pretext of settling the dispute, Michael accepts their offer to meet in a Bronx restaurant and, retrieving a planted handgun, murders them.  \\n  Despite a clampdown from the authorities, the Five Families erupt in open warfare and the brothers fear for their safety. Michael takes refuge in Sicily, and Fredo Corleone is sheltered by associate Moe Greene in Las Vegas. Sonny attacks his brother-in-law Carlo on the street for abusing his sister Connie and threatens to kill him if he abuses her again. When it happens again, Sonny speeds for her home but assassins ambush him at a highway toll booth and riddle him with submachine gun fire. Michael\\'s time abroad has led to marriage to Apollonia Vitelli. Their euphoria is shattered when a car bomb intended for him takes her life.  Despite a clampdown from the authorities, the   Five Families  Five Families   erupt in open warfare and the brothers fear for their safety. Michael takes refuge in Sicily, and   Fredo Corleone  Fredo Corleone   is sheltered by associate   Moe Greene  Moe Greene   in   Las Vegas  Las Vegas  . Sonny attacks his brother-in-law   Carlo  Carlo   on the street for abusing his sister Connie and threatens to kill him if he abuses her again. When it happens again, Sonny speeds for her home but assassins ambush him at a highway toll booth and riddle him with submachine gun fire. Michael\\'s time abroad has led to marriage to Apollonia Vitelli. Their euphoria is shattered when a car bomb intended for him takes her life.  \\n  Devastated by Sonny\\'s death, Vito decides to end the feuds. Realising that the Tattaglias were under orders of the now dominant Don Emilio Barzini, he promises, before the heads of the Five Families, to withdraw his opposition to their heroin business and forgo revenge for his son\\'s murder. His safety guaranteed, Michael returns home to a father saddened by his involvement in the family business and marries Kay the next year.  Devastated by Sonny\\'s death, Vito decides to end the feuds. Realising that the Tattaglias were under orders of the now dominant Don   Emilio Barzini  Emilio Barzini  , he promises, before the heads of the Five Families, to withdraw his opposition to their heroin business and forgo revenge for his son\\'s murder. His safety guaranteed, Michael returns home to a father saddened by his involvement in the family business and marries Kay the next year.  \\n  With his father at the end of his career and his surviving brother too weak, Michael takes the reins of the family, promising Kay that he will make the business legitimate within five years. To that end, he insists Hagen relocate to Las Vegas and relinquish his role to Vito because Tom is not a \"wartime consigliere\"; the older man agrees Tom should \"have no part in what will happen\" in the coming battles with rival families. When Michael travels to Las Vegas to buy out Greene\\'s stake in the family\\'s casinos, Greene derides the Corleones as a fading power. To add injury to insult, Michael sees Fredo falling under Greene\\'s sway.  With his father at the end of his career and his surviving brother too weak, Michael takes the reins of the family, promising Kay that he will make the business legitimate within five years. To that end, he insists Hagen relocate to Las Vegas and relinquish his role to Vito because Tom is not a \"wartime consigliere\"; the older man agrees Tom should \"have no part in what will happen\" in the coming battles with rival families. When Michael travels to Las Vegas to buy out Greene\\'s stake in the family\\'s casinos, Greene derides the Corleones as a fading power. To add injury to insult, Michael sees Fredo falling under Greene\\'s sway.  \\n  Vito collapses and dies in his garden while playing with Michael\\'s son, Anthony. At the funeral, Salvatore Tessio arranges a meeting between Michael and Don Barzini, signalling his treachery as Vito had warned. The meeting is set for the same day as the christening of Connie\\'s son, to whom Michael will stand as godfather. As the christening proceeds, Corleone assassins, acting on Michael\\'s orders, murder the other New York dons and Moe Greene. Tessio is told that Michael is aware of his betrayal and taken off to his death. After Carlo is questioned by Michael on his involvement in setting up Sonny\\'s murder and confesses he was contacted by Barzini, Peter Clemenza kills him with a wire garrote. Michael is confronted by Connie, who accuses him of having her husband killed. He denies killing Carlo when questioned by Kay, an answer she accepts. As Kay watches warily, Michael receives his capos, who address him as the new Don Corleone.  Vito collapses and dies in his garden while playing with Michael\\'s son,   Anthony  Anthony  . At the funeral,   Salvatore Tessio  Salvatore Tessio   arranges a meeting between Michael and Don Barzini, signalling his treachery as Vito had warned. The meeting is set for the same day as the christening of Connie\\'s son, to whom Michael will stand as godfather. As the christening proceeds, Corleone assassins, acting on Michael\\'s orders, murder the other New York dons and Moe Greene. Tessio is told that Michael is aware of his betrayal and taken off to his death. After Carlo is questioned by Michael on his involvement in setting up Sonny\\'s murder and confesses he was contacted by Barzini,   Peter Clemenza  Peter Clemenza   kills him with a wire   garrote  garrote  . Michael is confronted by Connie, who accuses him of having her husband killed. He denies killing Carlo when questioned by Kay, an answer she accepts. As Kay watches warily, Michael receives his   capos  capos  , who address him as the new Don Corleone.  \\n \\n '"
      ]
     },
     "execution_count": 19,
     "metadata": {},
     "output_type": "execute_result"
    }
   ],
   "source": [
    "synopses_list[0]"
   ]
  },
  {
   "cell_type": "markdown",
   "metadata": {},
   "source": [
    "There is an annoying preamble which must come from Wikipedia, which should really be cut off. I'll do something hacky: copy and paste the offensive text, get its length, then just slice off the start of each synopsis by that length (there is probably a more elegant solution here...)."
   ]
  },
  {
   "cell_type": "code",
   "execution_count": 20,
   "metadata": {},
   "outputs": [],
   "source": [
    "synopses = [x[len(' Plot  [edit]  [  [  edit  edit  ]  ]  \\n  '):] for x in synopses_list]\n",
    "#synopses = list(map(lambda x:x[42:],synopses))"
   ]
  },
  {
   "cell_type": "code",
   "execution_count": 21,
   "metadata": {
    "scrolled": true
   },
   "outputs": [
    {
     "data": {
      "text/plain": [
       "'In 1963 Oregon, Randle Patrick \"Mac\" McMurphy (Jack Nicholson), a recidivist anti-authoritarian criminal serving a short sentence on a prison farm for statutory rape of a 15-year-old girl, is transferred to a mental institution for evaluation. Although he does not show any overt signs of mental illness, he hopes to avoid hard labor and serve the rest of his sentence in a more relaxed hospital environment.  In 1963 Oregon,   Randle Patrick \"Mac\" McMurphy  Randle Patrick \"Mac\" McMurphy   (  Jack Nicholson  Jack Nicholson  ), a   recidivist  recidivist   anti-authoritarian criminal serving a short sentence on a prison farm for   statutory rape  statutory rape   of a 15-year-old girl, is transferred to a   mental institution  mental institution   for evaluation. Although he does not show any overt signs of   mental illness  mental illness  , he hopes to avoid   hard labor  hard labor   and serve the rest of his sentence in a more relaxed hospital environment.  \\n  McMurphy\\'s ward is run by steely, unyielding Nurse Mildred Ratched (Louise Fletcher), who employs subtle humiliation, unpleasant medical treatments and a mind-numbing daily routine to suppress the patients. McMurphy finds that they are more fearful of Ratched than they are focused on becoming functional in the outside world. McMurphy establishes himself immediately as the leader; his fellow patients include Billy Bibbit (Brad Dourif), a nervous, stuttering young man; Charlie Cheswick (Sydney Lassick), a man disposed to childish fits of temper; Martini (Danny DeVito), who is delusional; Dale Harding (William Redfield), a high-strung, well-educated paranoid; Max Taber (Christopher Lloyd), who is belligerent and profane; Jim Sefelt (William Duell), who is epileptic; and \"Chief\" Bromden (Will Sampson), a silent American Indian of imposing stature believed to be deaf and mute.  McMurphy\\'s ward is run by steely, unyielding   Nurse Mildred Ratched  Nurse Mildred Ratched   (  Louise Fletcher  Louise Fletcher  ), who employs subtle humiliation, unpleasant medical treatments and a mind-numbing daily routine to suppress the patients. McMurphy finds that they are more fearful of Ratched than they are focused on becoming functional in the outside world. McMurphy establishes himself immediately as the leader; his fellow patients include Billy Bibbit (  Brad Dourif  Brad Dourif  ), a nervous,   stuttering  stuttering   young man; Charlie Cheswick (  Sydney Lassick  Sydney Lassick  ), a man disposed to childish fits of temper; Martini (  Danny DeVito  Danny DeVito  ), who is delusional; Dale Harding (  William Redfield  William Redfield  ), a high-strung, well-educated paranoid; Max Taber (  Christopher Lloyd  Christopher Lloyd  ), who is belligerent and profane; Jim Sefelt (  William Duell  William Duell  ), who is epileptic; and \"Chief\" Bromden (  Will Sampson  Will Sampson  ), a silent   American Indian  American Indian   of imposing stature believed to be deaf and mute.  \\n  McMurphy\\'s and Ratched\\'s battle of wills escalates rapidly. When McMurphy\\'s card games win away everyone\\'s cigarettes, Ratched confiscates the cigarettes and rations them out. McMurphy calls for votes on ward policy changes to challenge her. He makes a show of betting the other patients he can escape by lifting an old hydrotherapy console—a massive marble plumbing fixture—off the floor and sending it through the window; when he fails to do so, he turns to them and says, \"But I tried goddammit. At least I did that.\"  McMurphy\\'s and Ratched\\'s battle of wills escalates rapidly. When McMurphy\\'s card games win away everyone\\'s cigarettes, Ratched confiscates the cigarettes and rations them out. McMurphy calls for votes on ward policy changes to challenge her. He makes a show of betting the other patients he can escape by lifting an old   hydrotherapy  hydrotherapy   console—a massive marble plumbing fixture—off the floor and sending it through the window; when he fails to do so, he turns to them and says, \"But I   tried  tried   goddammit. At least I did that.\"  \\n  McMurphy steals a hospital bus, herds his colleagues aboard, stops to pick up Candy (Marya Small), a party girl, and takes the group deep sea fishing on a commandeered boat. He tells them: \"You\\'re not nuts, you\\'re fishermen!\" and they begin to feel faint stirrings of self-determination.  McMurphy steals a hospital bus, herds his colleagues aboard, stops to pick up Candy (  Marya Small  Marya Small  ), a party girl, and takes the group deep sea fishing on a commandeered boat. He tells them: \"You\\'re not nuts, you\\'re fishermen!\" and they begin to feel faint stirrings of self-determination.  \\n  Soon after, however, McMurphy learns that Ratched and the doctors have the power to keep him committed indefinitely. Sensing a rising tide of insurrection among the group, Ratched tightens her grip on everyone. During one of her group therapy sessions, Cheswick\\'s agitation boils over and he, McMurphy and the Chief wind up brawling with the orderlies. They are sent up to the \"shock shop\" for electroconvulsive therapy. While McMurphy and the Chief wait their turn, McMurphy offers Chief a piece of gum, and Chief murmurs \"Thank you...Ah, Juicy Fruit.\" McMurphy is delighted to find that Bromden is neither deaf nor mute, and that he stays silent to deflect attention. After the electroshock therapy, McMurphy shuffles back onto the ward feigning brain damage, before humorously animating his face and loudly greeting his fellow patients, assuring everyone that the ECT only charged him up all the more and that the next woman to take him on will \"light up like a pinball machine and pay off in silver dollars.\"  Soon after, however, McMurphy learns that Ratched and the doctors have the power to keep him committed indefinitely. Sensing a rising tide of insurrection among the group, Ratched tightens her grip on everyone. During one of her group therapy sessions, Cheswick\\'s agitation boils over and he, McMurphy and the Chief wind up brawling with the orderlies. They are sent up to the \"shock shop\" for   electroconvulsive therapy  electroconvulsive therapy  . While McMurphy and the Chief wait their turn, McMurphy offers Chief a piece of gum, and Chief murmurs \"Thank you...Ah, Juicy Fruit.\" McMurphy is delighted to find that Bromden is neither deaf nor mute, and that he stays silent to deflect attention. After the electroshock therapy, McMurphy shuffles back onto the ward feigning brain damage, before humorously animating his face and loudly greeting his fellow patients, assuring everyone that the ECT only charged him up all the more and that the next woman to take him on will \"light up like a pinball machine and pay off in silver dollars.\"  \\n  But the struggle with Ratched is taking its toll, and with his release date no longer a certainty, McMurphy plans an escape. He phones Candy to bring her friend Rose (Louisa Moritz) and some booze to the hospital late one night. They enter through a window after McMurphy bribes the night orderly, Mr. Turkle (Scatman Crothers). McMurphy and Candy invite the patients into the day room for a Christmas party; the group breaks into the drug locker, puts on music, and enjoys a bacchanalian rampage. At the end of the night, McMurphy and Bromden prepare to climb out the window with the girls. McMurphy says goodbye to everyone, and invites an emotional Billy to escape with them; he declines, saying he is not yet ready to leave the hospital—though he would like to date Candy in the future. McMurphy insists Billy have sex with Candy right then and there. Billy and Candy agree and they retire to a private room. The effects of the alcohol and pilfered medication take their toll on everyone, including McMurphy and the Chief, whose eyes slowly close in fatigue.  But the struggle with Ratched is taking its toll, and with his release date no longer a certainty, McMurphy plans an escape. He phones Candy to bring her friend Rose (  Louisa Moritz  Louisa Moritz  ) and some booze to the hospital late one night. They enter through a window after McMurphy bribes the night orderly, Mr. Turkle (  Scatman Crothers  Scatman Crothers  ). McMurphy and Candy invite the patients into the day room for a Christmas party; the group breaks into the drug locker, puts on music, and enjoys a   bacchanalian  bacchanalian   rampage. At the end of the night, McMurphy and Bromden prepare to climb out the window with the girls. McMurphy says goodbye to everyone, and invites an emotional Billy to escape with them; he declines, saying he is not yet ready to leave the hospital—though he   would  would   like to date Candy in the future. McMurphy insists Billy have sex with Candy right then and there. Billy and Candy agree and they retire to a private room. The effects of the alcohol and pilfered medication take their toll on everyone, including McMurphy and the Chief, whose eyes slowly close in fatigue.  \\n  Ratched arrives the following morning and discovers the scene: the ward completely upended and patients passed out all over the floor. She orders the attendants to lock the window, clean up, and conduct a head count. When they find Billy and Candy, the other patients applaud and, buoyed, Billy speaks for the first time without a stutter. Ratched then announces that she will tell Billy\\'s mother what he has done. Billy panics, his stutter returns, and he starts punching himself; locked in the doctor\\'s office, he kills himself. McMurphy, enraged at Ratched, chokes her nearly to death until orderly Washington knocks him out.  Ratched arrives the following morning and discovers the scene: the ward completely upended and patients passed out all over the floor. She orders the attendants to lock the window, clean up, and conduct a head count. When they find Billy and Candy, the other patients applaud and, buoyed, Billy speaks for the first time without a stutter. Ratched then announces that she will tell Billy\\'s mother what he has done. Billy panics, his stutter returns, and he starts punching himself; locked in the doctor\\'s office, he kills himself. McMurphy, enraged at Ratched, chokes her nearly to death until orderly Washington knocks him out.  \\n  Some time later, the patients in the ward play cards and gamble for cigarettes as before, only now with Harding dealing and delivering a pale imitation of McMurphy\\'s patter. Ratched, still recovering from the neck injury sustained during McMurphy\\'s attack, wears a neck brace and speaks in a thin, reedy voice. The patients pass a whispered rumor that McMurphy dramatically escaped the hospital rather than being taken \"upstairs\".  Some time later, the patients in the ward play cards and gamble for cigarettes as before, only now with Harding dealing and delivering a pale imitation of McMurphy\\'s patter. Ratched, still recovering from the neck injury sustained during McMurphy\\'s attack, wears a neck brace and speaks in a thin, reedy voice. The patients pass a whispered rumor that McMurphy dramatically escaped the hospital rather than being taken \"upstairs\".  \\n  Late that night, Bromden sees McMurphy being escorted back to his bed, and initially believes that he has returned so they can escape together, which he is now ready to do since McMurphy has made him feel \"as big as a mountain\". However, when he looks closely at McMurphy\\'s unresponsive face, he is horrified to see lobotomy scars on his forehead. Unwilling to allow McMurphy to live in such a state, the Chief smothers McMurphy to death with his pillow. He then carries out McMurphy\\'s escape plan by lifting the hydrotherapy console off the floor and hurling the massive fixture through a grated window. Chief climbs through the window and runs off into the distance, with Taber waking up just in time to see him escape and cheering as the others awake.  Late that night, Bromden sees McMurphy being escorted back to his bed, and initially believes that he has returned so they can escape together, which he is now ready to do since McMurphy has made him feel \"as big as a mountain\". However, when he looks closely at McMurphy\\'s unresponsive face, he is horrified to see   lobotomy  lobotomy   scars on his forehead. Unwilling to allow McMurphy to live in such a state, the Chief smothers McMurphy to death with his pillow. He then carries out McMurphy\\'s escape plan by lifting the hydrotherapy console off the floor and hurling the massive fixture through a grated window. Chief climbs through the window and runs off into the distance, with Taber waking up just in time to see him escape and cheering as the others awake.  \\n \\n '"
      ]
     },
     "execution_count": 21,
     "metadata": {},
     "output_type": "execute_result"
    }
   ],
   "source": [
    "# Check that the solution worked by looking at a few examples\n",
    "synopses[5]"
   ]
  },
  {
   "cell_type": "markdown",
   "metadata": {},
   "source": [
    "### Tokenizing and Removing Stop Words\n",
    "\n",
    "Now our goal is to compare the movie synopses. Of course, any block of natural language text will contain many instances of common words like 'the', 'an', etc. As the next preprocessing step, we would like to turn each synopsis into a list of words with these common words (called \"stop words\") removed.\n",
    "\n",
    "We'll use a package called `nltk` (Natural Language Tool Kit) The `nltk` has a list of stop words built in, which may take a second to download."
   ]
  },
  {
   "cell_type": "code",
   "execution_count": 22,
   "metadata": {},
   "outputs": [
    {
     "name": "stderr",
     "output_type": "stream",
     "text": [
      "[nltk_data] Downloading package stopwords to /Users/Tom/nltk_data...\n",
      "[nltk_data]   Package stopwords is already up-to-date!\n",
      "[nltk_data] Downloading package punkt to /Users/Tom/nltk_data...\n",
      "[nltk_data]   Package punkt is already up-to-date!\n"
     ]
    },
    {
     "data": {
      "text/plain": [
       "True"
      ]
     },
     "execution_count": 22,
     "metadata": {},
     "output_type": "execute_result"
    }
   ],
   "source": [
    "import nltk # Import nltk\n",
    "# Import and download stop words\n",
    "from nltk.corpus import stopwords\n",
    "nltk.download('stopwords')\n",
    "# Import the 'word_tokenize' function\n",
    "from nltk.tokenize import word_tokenize\n",
    "# The following is used in the tokenize function\n",
    "nltk.download('punkt')"
   ]
  },
  {
   "cell_type": "code",
   "execution_count": 23,
   "metadata": {
    "scrolled": true
   },
   "outputs": [
    {
     "data": {
      "text/plain": [
       "['i',\n",
       " 'me',\n",
       " 'my',\n",
       " 'myself',\n",
       " 'we',\n",
       " 'our',\n",
       " 'ours',\n",
       " 'ourselves',\n",
       " 'you',\n",
       " \"you're\",\n",
       " \"you've\",\n",
       " \"you'll\",\n",
       " \"you'd\",\n",
       " 'your',\n",
       " 'yours',\n",
       " 'yourself',\n",
       " 'yourselves',\n",
       " 'he',\n",
       " 'him',\n",
       " 'his',\n",
       " 'himself',\n",
       " 'she',\n",
       " \"she's\",\n",
       " 'her',\n",
       " 'hers',\n",
       " 'herself',\n",
       " 'it',\n",
       " \"it's\",\n",
       " 'its',\n",
       " 'itself',\n",
       " 'they',\n",
       " 'them',\n",
       " 'their',\n",
       " 'theirs',\n",
       " 'themselves',\n",
       " 'what',\n",
       " 'which',\n",
       " 'who',\n",
       " 'whom',\n",
       " 'this',\n",
       " 'that',\n",
       " \"that'll\",\n",
       " 'these',\n",
       " 'those',\n",
       " 'am',\n",
       " 'is',\n",
       " 'are',\n",
       " 'was',\n",
       " 'were',\n",
       " 'be',\n",
       " 'been',\n",
       " 'being',\n",
       " 'have',\n",
       " 'has',\n",
       " 'had',\n",
       " 'having',\n",
       " 'do',\n",
       " 'does',\n",
       " 'did',\n",
       " 'doing',\n",
       " 'a',\n",
       " 'an',\n",
       " 'the',\n",
       " 'and',\n",
       " 'but',\n",
       " 'if',\n",
       " 'or',\n",
       " 'because',\n",
       " 'as',\n",
       " 'until',\n",
       " 'while',\n",
       " 'of',\n",
       " 'at',\n",
       " 'by',\n",
       " 'for',\n",
       " 'with',\n",
       " 'about',\n",
       " 'against',\n",
       " 'between',\n",
       " 'into',\n",
       " 'through',\n",
       " 'during',\n",
       " 'before',\n",
       " 'after',\n",
       " 'above',\n",
       " 'below',\n",
       " 'to',\n",
       " 'from',\n",
       " 'up',\n",
       " 'down',\n",
       " 'in',\n",
       " 'out',\n",
       " 'on',\n",
       " 'off',\n",
       " 'over',\n",
       " 'under',\n",
       " 'again',\n",
       " 'further',\n",
       " 'then',\n",
       " 'once',\n",
       " 'here',\n",
       " 'there',\n",
       " 'when',\n",
       " 'where',\n",
       " 'why',\n",
       " 'how',\n",
       " 'all',\n",
       " 'any',\n",
       " 'both',\n",
       " 'each',\n",
       " 'few',\n",
       " 'more',\n",
       " 'most',\n",
       " 'other',\n",
       " 'some',\n",
       " 'such',\n",
       " 'no',\n",
       " 'nor',\n",
       " 'not',\n",
       " 'only',\n",
       " 'own',\n",
       " 'same',\n",
       " 'so',\n",
       " 'than',\n",
       " 'too',\n",
       " 'very',\n",
       " 's',\n",
       " 't',\n",
       " 'can',\n",
       " 'will',\n",
       " 'just',\n",
       " 'don',\n",
       " \"don't\",\n",
       " 'should',\n",
       " \"should've\",\n",
       " 'now',\n",
       " 'd',\n",
       " 'll',\n",
       " 'm',\n",
       " 'o',\n",
       " 're',\n",
       " 've',\n",
       " 'y',\n",
       " 'ain',\n",
       " 'aren',\n",
       " \"aren't\",\n",
       " 'couldn',\n",
       " \"couldn't\",\n",
       " 'didn',\n",
       " \"didn't\",\n",
       " 'doesn',\n",
       " \"doesn't\",\n",
       " 'hadn',\n",
       " \"hadn't\",\n",
       " 'hasn',\n",
       " \"hasn't\",\n",
       " 'haven',\n",
       " \"haven't\",\n",
       " 'isn',\n",
       " \"isn't\",\n",
       " 'ma',\n",
       " 'mightn',\n",
       " \"mightn't\",\n",
       " 'mustn',\n",
       " \"mustn't\",\n",
       " 'needn',\n",
       " \"needn't\",\n",
       " 'shan',\n",
       " \"shan't\",\n",
       " 'shouldn',\n",
       " \"shouldn't\",\n",
       " 'wasn',\n",
       " \"wasn't\",\n",
       " 'weren',\n",
       " \"weren't\",\n",
       " 'won',\n",
       " \"won't\",\n",
       " 'wouldn',\n",
       " \"wouldn't\"]"
      ]
     },
     "execution_count": 23,
     "metadata": {},
     "output_type": "execute_result"
    }
   ],
   "source": [
    "# Store the stopwords in a list and take a look at them\n",
    "stop_words = stopwords.words('english')\n",
    "stop_words"
   ]
  },
  {
   "cell_type": "markdown",
   "metadata": {},
   "source": [
    "Now the plan is to split each synopsis into a list of words, then remove all stop words. We will use the `word_tokenize` function from `nltk`.\n",
    "\n",
    "We could also just use `.split(' ')`. The benefit here is that `word_tokenize` will also split off punctuation into its own entry, which will make our lives a bit easier. There will still be some work to do to clean up the tokenized word list, so let's start by working through an example."
   ]
  },
  {
   "cell_type": "code",
   "execution_count": 24,
   "metadata": {},
   "outputs": [
    {
     "data": {
      "text/plain": [
       "['On',\n",
       " 'the',\n",
       " 'day',\n",
       " 'of',\n",
       " 'his',\n",
       " 'only',\n",
       " 'daughter',\n",
       " \"'s\",\n",
       " 'wedding',\n",
       " ',',\n",
       " 'Vito',\n",
       " 'Corleone',\n",
       " 'hears',\n",
       " 'requests',\n",
       " 'in',\n",
       " 'his',\n",
       " 'role',\n",
       " 'as',\n",
       " 'the',\n",
       " 'Godfather']"
      ]
     },
     "execution_count": 24,
     "metadata": {},
     "output_type": "execute_result"
    }
   ],
   "source": [
    "example = synopses[0]\n",
    "\n",
    "word_tokens = word_tokenize(example)\n",
    "\n",
    "word_tokens[:20]"
   ]
  },
  {
   "cell_type": "markdown",
   "metadata": {},
   "source": [
    "### Exercise\n",
    "\n",
    "We see that `','` appears as a word in the list. We would like to remove punctuation from this list. Define a new list called `word_tokens2` where all entries of the above list containing only punctuation are removed. I've helped you out by creating a list of stuff that we want to remove."
   ]
  },
  {
   "cell_type": "code",
   "execution_count": 25,
   "metadata": {},
   "outputs": [
    {
     "data": {
      "text/plain": [
       "['On',\n",
       " 'the',\n",
       " 'day',\n",
       " 'of',\n",
       " 'his',\n",
       " 'only',\n",
       " 'daughter',\n",
       " 'wedding',\n",
       " 'Vito',\n",
       " 'Corleone',\n",
       " 'hears',\n",
       " 'requests',\n",
       " 'in',\n",
       " 'his',\n",
       " 'role',\n",
       " 'as',\n",
       " 'the',\n",
       " 'Godfather',\n",
       " 'the',\n",
       " 'Don']"
      ]
     },
     "execution_count": 25,
     "metadata": {},
     "output_type": "execute_result"
    }
   ],
   "source": [
    "# Define the list of extra stuff to remove\n",
    "punctuation = ['.',',',';',':',\"'s\",' ',\"' '\",\"'\",\"``\",\"''\",'(',')',\"'re\",'!','?','_','...','$','[',']']\n",
    "\n",
    "# Define the word_tokens2 list below.\n",
    "word_tokens2 = [x for x in word_tokens if x not in punctuation]\n",
    "\n",
    "# Once it is defined, take a look at the result to make sure it worked.\n",
    "word_tokens2[:20]"
   ]
  },
  {
   "cell_type": "markdown",
   "metadata": {},
   "source": [
    "Note that the `stopwords` set only contains words in all lower case. We can transfer each word in `word_tokens` into lower case using the `.lower()` function."
   ]
  },
  {
   "cell_type": "code",
   "execution_count": null,
   "metadata": {},
   "outputs": [],
   "source": [
    "word_tokens3 = list(map(lambda x:x.lower(),word_tokens2))\n",
    "\n",
    "word_tokens3[:20]"
   ]
  },
  {
   "cell_type": "markdown",
   "metadata": {},
   "source": [
    "Almost there! Now we can remove the stop words."
   ]
  },
  {
   "cell_type": "code",
   "execution_count": null,
   "metadata": {},
   "outputs": [],
   "source": [
    "#word_tokens4 = list(filter(lambda x: x not in stop_words,word_tokens3))\n",
    "word_tokens4 = [x for x in word_tokens3 if x not in stop_words]\n",
    "\n",
    "word_tokens4[:20]"
   ]
  },
  {
   "cell_type": "markdown",
   "metadata": {},
   "source": [
    "It looks like we have obtained the desired result. Now we can define a function to automate the above procedure."
   ]
  },
  {
   "cell_type": "code",
   "execution_count": 40,
   "metadata": {},
   "outputs": [],
   "source": [
    "def synopsis_filter(synopsis):\n",
    "    # Get the initial list of word tokens\n",
    "    word_tokens = word_tokenize(synopsis)\n",
    "    # Remove punctuation. No need to keep making new variables, we can just update the old one.\n",
    "    word_tokens = [x for x in word_tokens if x not in punctuation]\n",
    "    # Transform words to lower case\n",
    "    word_tokens = [x.lower() for x in word_tokens]\n",
    "    # Remove stop words\n",
    "    word_tokens = [x for x in word_tokens if x not in stop_words]\n",
    "    return word_tokens"
   ]
  },
  {
   "cell_type": "code",
   "execution_count": 45,
   "metadata": {},
   "outputs": [
    {
     "data": {
      "text/plain": [
       "['1939',\n",
       " 'germans',\n",
       " 'move',\n",
       " 'polish',\n",
       " 'jews',\n",
       " 'kraków',\n",
       " 'ghetto',\n",
       " 'world',\n",
       " 'war',\n",
       " 'ii',\n",
       " 'begins',\n",
       " 'oskar',\n",
       " 'schindler',\n",
       " 'ethnic',\n",
       " 'german',\n",
       " 'arrives',\n",
       " 'city',\n",
       " 'hoping',\n",
       " 'make',\n",
       " 'fortune']"
      ]
     },
     "execution_count": 45,
     "metadata": {},
     "output_type": "execute_result"
    }
   ],
   "source": [
    "# Test on a couple of examples to make sure it works\n",
    "synopsis_filter(synopses[2])[:20]"
   ]
  },
  {
   "cell_type": "markdown",
   "metadata": {},
   "source": [
    "Applying `synopsis_filter` to our list of synopses produces a nice data set with only the interesting words from each synopsis.\n",
    "\n",
    "Out of curiosity, I did this with both `map` and list comprehension and compared computing time. "
   ]
  },
  {
   "cell_type": "code",
   "execution_count": 46,
   "metadata": {},
   "outputs": [
    {
     "name": "stdout",
     "output_type": "stream",
     "text": [
      "1.6585280895233154\n"
     ]
    }
   ],
   "source": [
    "import time\n",
    "start = time.time()\n",
    "filtered_synopses = list(map(synopsis_filter,synopses))\n",
    "end = time.time()\n",
    "\n",
    "print(end-start)"
   ]
  },
  {
   "cell_type": "code",
   "execution_count": 47,
   "metadata": {},
   "outputs": [
    {
     "name": "stdout",
     "output_type": "stream",
     "text": [
      "1.640437126159668\n"
     ]
    }
   ],
   "source": [
    "start = time.time()\n",
    "filtered_synopses_LC = [synopsis_filter(x) for x in synopses]\n",
    "end = time.time()\n",
    "\n",
    "print(end-start)"
   ]
  },
  {
   "cell_type": "code",
   "execution_count": 49,
   "metadata": {},
   "outputs": [
    {
     "name": "stderr",
     "output_type": "stream",
     "text": [
      "/anaconda3/lib/python3.7/site-packages/scipy/io/matlab/miobase.py:414: FutureWarning: Using a non-tuple sequence for multidimensional indexing is deprecated; use `arr[tuple(seq)]` instead of `arr[seq]`. In the future this will be interpreted as an array index, `arr[np.array(seq)]`, which will result either in an error or a different result.\n",
      "  arr[empties] = ' '\n"
     ]
    }
   ],
   "source": [
    "import scipy.io as sio\n",
    "sio.savemat('filtered_synopses.mat', {'filtered_synopses':filtered_synopses})"
   ]
  },
  {
   "cell_type": "markdown",
   "metadata": {},
   "source": [
    "Trying the above a couple of times, it looks like `map` does provide some small speed advantage. If you are doing a more intense computation, it could be that the speed gain is not trivial!"
   ]
  },
  {
   "cell_type": "code",
   "execution_count": 48,
   "metadata": {},
   "outputs": [
    {
     "data": {
      "text/plain": [
       "['brief',\n",
       " 'scene',\n",
       " '1964',\n",
       " 'aging',\n",
       " 'overweight',\n",
       " 'italian',\n",
       " 'american',\n",
       " 'jake',\n",
       " 'lamotta',\n",
       " 'robert',\n",
       " 'de',\n",
       " 'niro',\n",
       " 'practices',\n",
       " 'comedy',\n",
       " 'routine',\n",
       " 'rest',\n",
       " 'film',\n",
       " 'occurs',\n",
       " 'flashback',\n",
       " '1941']"
      ]
     },
     "execution_count": 48,
     "metadata": {},
     "output_type": "execute_result"
    }
   ],
   "source": [
    "# Look at a couple of examples to make sure our data looks good\n",
    "filtered_synopses[3][:20]"
   ]
  },
  {
   "cell_type": "markdown",
   "metadata": {},
   "source": [
    "## Common Words Between Synopses\n",
    "\n",
    "One way that we could understand similarity between synopses would be to count the number of common words between them. This is easily accomplished by using set objects and taking intersections.\n",
    "\n",
    "To start, let's compare all synopses to the synopsis for The Godfather."
   ]
  },
  {
   "cell_type": "code",
   "execution_count": null,
   "metadata": {
    "scrolled": true
   },
   "outputs": [],
   "source": [
    "# Define the Godfather word set\n",
    "Godfather_word_set = set(filtered_synopses[0])\n",
    "\n",
    "# For every other synopsis, find its word set, intersect it with the word set for The Godfather\n",
    "# then compute the magnitude of the result.\n",
    "same_words_count = [len(set(synopsis).intersection(Godfather_word_set)) for synopsis in filtered_synopses]\n",
    "\n",
    "# We can now plot these similar word counts.\n",
    "import matplotlib.pyplot as plt\n",
    "\n",
    "plt.plot(same_words_count[1:])\n",
    "# Plot starting at index 1.\n",
    "# Godfather has all words in common with itself, so if we plot from index 0 the graph is not very informative."
   ]
  },
  {
   "cell_type": "markdown",
   "metadata": {},
   "source": [
    "We see that there are couple of outliers here. Let's check the titles."
   ]
  },
  {
   "cell_type": "code",
   "execution_count": null,
   "metadata": {},
   "outputs": [],
   "source": [
    "# We can find the locations of these outliers using the argmax and argmin functions from numpy\n",
    "import numpy as np\n",
    "most_similar = np.argmax(same_words_count[1:])\n",
    "least_similar = np.argmin(same_words_count)\n",
    "\n",
    "print('The most similar movie to The Godfather is '+titles[most_similar+1])\n",
    "# We need to reshift the 'most similar' result because we indexed it differently in our calculation.\n",
    "print('The least similar movie to The Godfather is '+titles[least_similar])"
   ]
  },
  {
   "cell_type": "markdown",
   "metadata": {},
   "source": [
    "Now that we've done this for a single movie, we can compare all pairs of movies. We just have to run the above computation for each movie."
   ]
  },
  {
   "cell_type": "code",
   "execution_count": null,
   "metadata": {},
   "outputs": [],
   "source": [
    "movie_similarities = []\n",
    "for j in range(100):\n",
    "    word_set = set(filtered_synopses[j])\n",
    "    same_words_count = [len(set(synopsis).intersection(word_set)) for synopsis in filtered_synopses]\n",
    "    movie_similarities.append(same_words_count)"
   ]
  },
  {
   "cell_type": "code",
   "execution_count": null,
   "metadata": {},
   "outputs": [],
   "source": [
    "# Check that the lists make sense\n",
    "movie_similarities[2][:10]"
   ]
  },
  {
   "cell_type": "code",
   "execution_count": null,
   "metadata": {},
   "outputs": [],
   "source": [
    "# Check that this agrees with our previous work by plotting\n",
    "plt.plot(movie_similarities[0][1:])"
   ]
  },
  {
   "cell_type": "markdown",
   "metadata": {},
   "source": [
    "We can then define a list where the $k$th index gives the index of the movie which is least similar to $k$."
   ]
  },
  {
   "cell_type": "code",
   "execution_count": null,
   "metadata": {},
   "outputs": [],
   "source": [
    "least_similar_movies = [np.argmin(movie_similarities[k]) for k in range(100)]\n",
    "least_similar_movies"
   ]
  },
  {
   "cell_type": "markdown",
   "metadata": {},
   "source": [
    "Hmmm... Looks like Yankee Doodle Dandy has a synopsis which is least similar to lots of movies. We might want to run that again, but exclude Yankee Doodle Dandy."
   ]
  },
  {
   "cell_type": "code",
   "execution_count": null,
   "metadata": {
    "scrolled": false
   },
   "outputs": [],
   "source": [
    "least_similar_movies = [np.argmin(movie_similarities[k][:99]) for k in range(100)]\n",
    "least_similar_movies"
   ]
  },
  {
   "cell_type": "markdown",
   "metadata": {},
   "source": [
    "We can now create a dictionary with a key for each film and the values given by least similar movies. This will be a lot easier to read."
   ]
  },
  {
   "cell_type": "code",
   "execution_count": null,
   "metadata": {},
   "outputs": [],
   "source": [
    "least_similar_dict = {}\n",
    "\n",
    "for j in range(100):\n",
    "    least_similar_dict[titles[j]] = titles[least_similar_movies[j]]"
   ]
  },
  {
   "cell_type": "code",
   "execution_count": null,
   "metadata": {
    "scrolled": false
   },
   "outputs": [],
   "source": [
    "least_similar_dict"
   ]
  },
  {
   "cell_type": "markdown",
   "metadata": {},
   "source": [
    "Since we used a dictionary, we can look up least similar movies by name."
   ]
  },
  {
   "cell_type": "code",
   "execution_count": null,
   "metadata": {},
   "outputs": [],
   "source": [
    "least_similar_dict['Rocky']"
   ]
  },
  {
   "cell_type": "markdown",
   "metadata": {},
   "source": [
    "### Exercise\n",
    "\n",
    "Create a list `most_similar_movies` such that the $k$th entry gives the index of the movie synopsis which is *most* similar to the $k$th movie's. \n",
    "\n",
    "Of course, each synopsis is most similar to itself. This means that the $k$th entry should be the movie synopsis which is most similar to the $k$th movie's *excluding the $k$th movie itself*.\n",
    "\n",
    "Also define a dictionary called `most_similar_dict` in analogy with `least_similar_dict`."
   ]
  },
  {
   "cell_type": "code",
   "execution_count": 152,
   "metadata": {},
   "outputs": [],
   "source": [
    "edited_movie_similarities = []\n",
    "for j in range(100):\n",
    "    row = movie_similarities[j]\n",
    "    row[j] = 0\n",
    "    edited_movie_similarities.append(row)\n",
    "\n",
    "most_similar_movies = [np.argmax(movie_similarities[k]) for k in range(100)]\n",
    "\n",
    "most_similar_dict = {}\n",
    "for j in range(100):\n",
    "    most_similar_dict[titles[j]] = titles[most_similar_movies[j]]\n",
    "    \n",
    "most_similar_dict"
   ]
  },
  {
   "cell_type": "markdown",
   "metadata": {},
   "source": [
    "### Homework\n",
    "\n",
    "The most similar movies list seems to be dominated by The Deer Hunter, All Quiet on the Western Front and Nashville. It might be interesting to remove these movies as options and rerun the 'most similar' computation. Give this a try. You may have to be creative, and you should definitely check that you are getting indexing correct!"
   ]
  },
  {
   "cell_type": "code",
   "execution_count": null,
   "metadata": {},
   "outputs": [],
   "source": []
  },
  {
   "cell_type": "markdown",
   "metadata": {},
   "source": [
    "## Similarity by Word Counts\n",
    "\n",
    "Counting common words gives some interesting results, but there are many other ways we could try to measure similarity between texts.\n",
    "\n",
    "Let's try another method to measure similarity. We will first create a list containing all unique words which appear in all 100 synopses."
   ]
  },
  {
   "cell_type": "code",
   "execution_count": null,
   "metadata": {},
   "outputs": [],
   "source": [
    "# The first computation creates one big list out of synopses (a list of lists)\n",
    "flat_word_list = [word for synopsis in filtered_synopses for word in synopsis]\n",
    "\n",
    "# Note the nexted 'for' loops in the above. Order matters here. \n",
    "# The code below gives an error\n",
    "#flat_word_list = [word for word in synopsis for synopsis in filtered_synopses]\n",
    "\n",
    "# Now we want to remove repeat words. \n",
    "word_list_no_repeats = list(set(flat_word_list)) # A set object doesn't have repeated entries"
   ]
  },
  {
   "cell_type": "markdown",
   "metadata": {},
   "source": [
    "Out of curiosity, let's look at how much was removed by trimming our list to unique words."
   ]
  },
  {
   "cell_type": "code",
   "execution_count": null,
   "metadata": {},
   "outputs": [],
   "source": [
    "len(flat_word_list), len(word_list_no_repeats)"
   ]
  },
  {
   "cell_type": "markdown",
   "metadata": {},
   "source": [
    "Now we can count the number of occurences of each word in each of the synopses to get a word vector."
   ]
  },
  {
   "cell_type": "code",
   "execution_count": null,
   "metadata": {},
   "outputs": [],
   "source": [
    "word_vectors = []\n",
    "\n",
    "for j in range(len(filtered_synopses)):\n",
    "    vec = []\n",
    "    synopsis = filtered_synopses[j] \n",
    "    for k in range(len(word_list_no_repeats)):\n",
    "        vec.append(synopsis.count(word_list_no_repeats[k]))\n",
    "        # Using the function .count(key) which counts the number of occurences of key in the list \n",
    "    word_vectors.append(vec)"
   ]
  },
  {
   "cell_type": "markdown",
   "metadata": {},
   "source": [
    "Each word vector is a vector in $\\mathbb{R}^{10902}$. Since the synopses vary quite a lot in length, it might be useful to turn our word vectors into unit vectors. The result gives a collection of 100 points on the $10901$-dimensional unit sphere!"
   ]
  },
  {
   "cell_type": "code",
   "execution_count": null,
   "metadata": {},
   "outputs": [],
   "source": [
    "import numpy as np\n",
    "normalized_word_vectors = [x/np.linalg.norm(x) for x in word_vectors]"
   ]
  },
  {
   "cell_type": "markdown",
   "metadata": {},
   "source": [
    "Let's define a function to measure the angle between unit vectors. If we think of each unit vector as a point on the unit sphere, then the angle between the vectors gives a measure of distance between the points (i.e., the angle function is a *metric* on the sphere, called *geodesic distance*)."
   ]
  },
  {
   "cell_type": "code",
   "execution_count": null,
   "metadata": {},
   "outputs": [],
   "source": [
    "def angle(u,v):\n",
    "    uu = u/np.linalg.norm(u)\n",
    "    vv = v/np.linalg.norm(v)\n",
    "    if np.dot(uu,vv) > 0.999999: # Guard against numerical errors with the arccos function\n",
    "        return 0\n",
    "    else:\n",
    "        return np.arccos(np.dot(uu,vv))"
   ]
  },
  {
   "cell_type": "code",
   "execution_count": null,
   "metadata": {},
   "outputs": [],
   "source": [
    "# Test; the output should be pi/2 ~ 1.57\n",
    "u = np.array([1,0,0])\n",
    "v = np.array([0,1,0])\n",
    "angle(u,v)"
   ]
  },
  {
   "cell_type": "code",
   "execution_count": null,
   "metadata": {},
   "outputs": [],
   "source": [
    "# Test; the output should be 0 \n",
    "angle(normalized_word_vectors[0],normalized_word_vectors[0])"
   ]
  },
  {
   "cell_type": "markdown",
   "metadata": {},
   "source": [
    "Let's take a look at the angle between The Godfather and every other movie."
   ]
  },
  {
   "cell_type": "code",
   "execution_count": null,
   "metadata": {
    "scrolled": true
   },
   "outputs": [],
   "source": [
    "angles_to_godfather = [angle(normalized_word_vectors[0],x) for x in normalized_word_vectors]\n",
    "\n",
    "plt.plot(angles_to_godfather[1:])\n",
    "# Once again, start plotting at 1 to get a better looking plot"
   ]
  },
  {
   "cell_type": "markdown",
   "metadata": {},
   "source": [
    "We see that almost everything is at around $\\pi/2$. This is actually not surprising if you are familiar with the peculiarities of high-dimensional geometry (see, e.g., https://en.wikipedia.org/wiki/Concentration_of_measure). \n",
    "\n",
    "The angles less than, say, $1.5$ really stand out here. Let's see which movies they are."
   ]
  },
  {
   "cell_type": "code",
   "execution_count": null,
   "metadata": {},
   "outputs": [],
   "source": [
    "# Create a list of indices for movies which are close to Godfather\n",
    "L = [idx for idx in range(len(angles_to_godfather)) if angles_to_godfather[idx] < 1.5]\n",
    "\n",
    "# Print the titles\n",
    "for j in range(len(L)):\n",
    "    print(titles[L[j]])"
   ]
  },
  {
   "cell_type": "markdown",
   "metadata": {},
   "source": [
    "### Exercise\n",
    "\n",
    "Create dictionaries listing most and least similar movies (as we did above), using the word frequency vectors. Do the results look any different than what we got above?"
   ]
  },
  {
   "cell_type": "code",
   "execution_count": 267,
   "metadata": {},
   "outputs": [],
   "source": [
    "movie_similarities_freq = []\n",
    "for j in range(100):\n",
    "    angles_to_movie = [angle(normalized_word_vectors[j],x) for x in normalized_word_vectors]\n",
    "    movie_similarities_freq.append(angles_to_movie)"
   ]
  },
  {
   "cell_type": "code",
   "execution_count": 289,
   "metadata": {},
   "outputs": [],
   "source": [
    "least_similar_movies_freq = [np.argmax(movie_similarities_freq[k]) for k in range(100)]"
   ]
  },
  {
   "cell_type": "code",
   "execution_count": 277,
   "metadata": {},
   "outputs": [],
   "source": [
    "least_similar_dict_freq = {}\n",
    "\n",
    "for j in range(100):\n",
    "    least_similar_dict_freq[titles[j]] = titles[least_similar_movies_freq[j]]\n",
    "\n",
    "least_similar_dict_freq"
   ]
  },
  {
   "cell_type": "code",
   "execution_count": 288,
   "metadata": {
    "scrolled": true
   },
   "outputs": [],
   "source": [
    "edited_movie_similarities_freq = []\n",
    "\n",
    "for j in range(100):\n",
    "    row = movie_similarities_freq[j]\n",
    "    row[j] = 1000\n",
    "    edited_movie_similarities_freq.append(row)\n",
    "\n",
    "most_similar_movies_freq = [np.argmin(edited_movie_similarities_freq[k]) for k in range(100)]\n",
    "\n",
    "most_similar_dict_freq = {}\n",
    "\n",
    "for j in range(100):\n",
    "    most_similar_dict_freq[titles[j]] = titles[most_similar_movies_freq[j]]"
   ]
  },
  {
   "cell_type": "code",
   "execution_count": null,
   "metadata": {},
   "outputs": [],
   "source": [
    "movie_similarities_freq = []\n",
    "for j in range(100):\n",
    "    angles_to_movie = [angle(normalized_word_vectors[j],x) for x in normalized_word_vectors]\n",
    "    movie_similarities_freq.append(angles_to_movie)\n",
    "\n",
    "least_similar_movies_freq = [np.argmax(movie_similarities_freq[k]) for k in range(100)]\n",
    "\n",
    "least_similar_dict_freq = {}\n",
    "\n",
    "for j in range(100):\n",
    "    least_similar_dict_freq[titles[j]] = titles[least_similar_movies_freq[j]]\n",
    "\n",
    "least_similar_dict_freq\n",
    "\n",
    "edited_movie_similarities_freq = []\n",
    "\n",
    "for j in range(100):\n",
    "    row = movie_similarities_freq[j]\n",
    "    row[j] = 1000\n",
    "    edited_movie_similarities_freq.append(row)\n",
    "\n",
    "most_similar_movies_freq = [np.argmin(edited_movie_similarities_freq[k]) for k in range(100)]\n",
    "\n",
    "most_similar_dict_freq = {}\n",
    "\n",
    "for j in range(100):\n",
    "    most_similar_dict_freq[titles[j]] = titles[most_similar_movies_freq[j]]"
   ]
  },
  {
   "cell_type": "markdown",
   "metadata": {},
   "source": [
    "# Homework\n",
    "\n",
    "There is another file in the data folder which lists all of the genre classifications for the movies. Try to use these methods to classify movie genres. Here is one possible scheme:\n",
    "\n",
    "For each movie, find the (say) 5 most similar movies via one of the methods above. Does the query movie share a genre classification with any of its 5 \"nearest neighbors\"? Out of the 100 movies in the list, how often do we get a successful classification? "
   ]
  },
  {
   "cell_type": "code",
   "execution_count": null,
   "metadata": {},
   "outputs": [],
   "source": []
  },
  {
   "cell_type": "markdown",
   "metadata": {},
   "source": [
    "# Homework\n",
    "\n",
    "There are many other methods that can be used to compare text. A standard method, which is pretty close to our last approach, is to create vectors using *term frequency - inverse document frequency* scores. You can read about them here: https://en.wikipedia.org/wiki/Tf–idf. Try running through the experiments we did above using TF-IDF instead. Do you get any interesting results?"
   ]
  },
  {
   "cell_type": "code",
   "execution_count": null,
   "metadata": {},
   "outputs": [],
   "source": []
  },
  {
   "cell_type": "markdown",
   "metadata": {},
   "source": [
    "# Homework\n",
    "\n",
    "Read up on Zipf's Law: https://en.wikipedia.org/wiki/Zipf%27s_law. Do the words in all of these Wikipedia articles follow Zipf's Law? To determine the answer, you will want to find the number of times that each word appears across all of the synopses; you might try Googling around to find an efficient way to perform a task like that (or you can always try to figure it out yourself!)."
   ]
  },
  {
   "cell_type": "code",
   "execution_count": null,
   "metadata": {},
   "outputs": [],
   "source": []
  },
  {
   "cell_type": "markdown",
   "metadata": {},
   "source": [
    "# Big (Vague) Homework\n",
    "\n",
    "Start working your own coding project! After this week, you have seen most of the basics of Python---certainly enough to start working on something interesting. I highly recommend working on something that is related to your research, or working on analyzing some data set you personally find interesting. Having a running project is the best way to develop your programming skills!"
   ]
  },
  {
   "cell_type": "code",
   "execution_count": null,
   "metadata": {},
   "outputs": [],
   "source": []
  }
 ],
 "metadata": {
  "kernelspec": {
   "display_name": "Python 3",
   "language": "python",
   "name": "python3"
  },
  "language_info": {
   "codemirror_mode": {
    "name": "ipython",
    "version": 3
   },
   "file_extension": ".py",
   "mimetype": "text/x-python",
   "name": "python",
   "nbconvert_exporter": "python",
   "pygments_lexer": "ipython3",
   "version": "3.7.3"
  }
 },
 "nbformat": 4,
 "nbformat_minor": 2
}
