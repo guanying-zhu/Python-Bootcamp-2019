{
 "cells": [
  {
   "cell_type": "markdown",
   "metadata": {},
   "source": [
    "# Introduction to the Pandas Package\n",
    "\n",
    "We have now had some experience with \"wrangling\" data; that is, taking raw data and putting it into a form which we are able to analyze.\n",
    "\n",
    "There are packages which can be used to streamline this process. Probably the most popular is the package called `pandas`. Let's explore some data using this package."
   ]
  },
  {
   "cell_type": "code",
   "execution_count": null,
   "metadata": {},
   "outputs": [],
   "source": [
    "# Import pandas and a couple of other relevant packages\n",
    "import pandas as pd \n",
    "import numpy as np\n",
    "import matplotlib.pyplot as plt\n",
    "import random as r"
   ]
  },
  {
   "cell_type": "markdown",
   "metadata": {},
   "source": [
    "## Loading and Exporing Data\n",
    "\n",
    "Let's load the dataset called 'galton.csv' from the 'data' folder. Instead of reading the file into a string and manipulating it, `pandas` allows us to read the data immediately into a useable form. The expression type used by `pandas` is called a *dataframe*.\n",
    "\n",
    "Let's first read the data as we have been doing, then load it into a dataframe using `pandas`."
   ]
  },
  {
   "cell_type": "code",
   "execution_count": null,
   "metadata": {},
   "outputs": [],
   "source": [
    "# Read the data into a string\n",
    "f = open('data/galton.csv')\n",
    "data = f.read()\n",
    "f.close()\n",
    "\n",
    "# Take a look at it\n",
    "data[:1000]"
   ]
  },
  {
   "cell_type": "code",
   "execution_count": null,
   "metadata": {
    "scrolled": true
   },
   "outputs": [],
   "source": [
    "df = pd.read_csv('data/galton.csv') # Load the data into a dataframe\n",
    "type(df)"
   ]
  },
  {
   "cell_type": "code",
   "execution_count": null,
   "metadata": {
    "scrolled": true
   },
   "outputs": [],
   "source": [
    "df.head() # View the first few lines of the dataframe"
   ]
  },
  {
   "cell_type": "code",
   "execution_count": null,
   "metadata": {},
   "outputs": [],
   "source": [
    "df # View the \"whole\" dataframe"
   ]
  },
  {
   "cell_type": "markdown",
   "metadata": {},
   "source": [
    "The dataframe is obviously much more readable. The data contains 897 records for children's heights. For each child, we know the mother and father's heights and the child's gender.\n",
    "\n",
    "Besides immediately giving us a much cleaner way to look at the data, `pandas` has a bunch of functions that will help us explore the data. \n",
    "\n",
    "We can get a quick overview of the basic statistics of the data using the function `describe`."
   ]
  },
  {
   "cell_type": "code",
   "execution_count": null,
   "metadata": {},
   "outputs": [],
   "source": [
    "df.describe()"
   ]
  },
  {
   "cell_type": "markdown",
   "metadata": {},
   "source": [
    "We can extract various parts of the data frame:"
   ]
  },
  {
   "cell_type": "code",
   "execution_count": null,
   "metadata": {
    "scrolled": false
   },
   "outputs": [],
   "source": [
    "# Slicing rows\n",
    "df[5:9]"
   ]
  },
  {
   "cell_type": "code",
   "execution_count": null,
   "metadata": {
    "scrolled": true
   },
   "outputs": [],
   "source": [
    "# Pulling off columns by name\n",
    "df.male"
   ]
  },
  {
   "cell_type": "code",
   "execution_count": null,
   "metadata": {},
   "outputs": [],
   "source": [
    "# This syntax does the same thing\n",
    "df['male']"
   ]
  },
  {
   "cell_type": "markdown",
   "metadata": {},
   "source": [
    "The expression type of a column is called a 'sequence'. This is similar to a standard Python list, but does have some subtle differences (e.g., it is easier to do vector operations)."
   ]
  },
  {
   "cell_type": "code",
   "execution_count": null,
   "metadata": {},
   "outputs": [],
   "source": [
    "males = df.male\n",
    "type(males)"
   ]
  },
  {
   "cell_type": "code",
   "execution_count": null,
   "metadata": {},
   "outputs": [],
   "source": [
    "# Take a look at the series\n",
    "males"
   ]
  },
  {
   "cell_type": "markdown",
   "metadata": {},
   "source": [
    "We can pull out entries and slice sequences just like we do for lists."
   ]
  },
  {
   "cell_type": "code",
   "execution_count": null,
   "metadata": {},
   "outputs": [],
   "source": [
    "males[4] "
   ]
  },
  {
   "cell_type": "code",
   "execution_count": null,
   "metadata": {},
   "outputs": [],
   "source": [
    "males[7:20]"
   ]
  },
  {
   "cell_type": "markdown",
   "metadata": {},
   "source": [
    "These can be converted to other expression types we have seen."
   ]
  },
  {
   "cell_type": "code",
   "execution_count": null,
   "metadata": {},
   "outputs": [],
   "source": [
    "males_list = list(males)\n",
    "males_dict = dict(males)\n",
    "males_list[2:9]"
   ]
  },
  {
   "cell_type": "markdown",
   "metadata": {},
   "source": [
    "For a `pandas` sequence, we have the following syntax to apply built-in functions (e.g. `mean`)."
   ]
  },
  {
   "cell_type": "code",
   "execution_count": null,
   "metadata": {
    "scrolled": true
   },
   "outputs": [],
   "source": [
    "# Compute the mean of the 'male' column\n",
    "df.male.mean()"
   ]
  },
  {
   "cell_type": "code",
   "execution_count": null,
   "metadata": {},
   "outputs": [],
   "source": [
    "# Compute the standard deviation of the 'male' column\n",
    "df.male.std()"
   ]
  },
  {
   "cell_type": "markdown",
   "metadata": {},
   "source": [
    "## Answering Questions About the Data\n",
    "\n",
    "How do the heights of the fathers compare to the heights of the mothers?"
   ]
  },
  {
   "cell_type": "markdown",
   "metadata": {},
   "source": [
    "We could ask whether the mean height of the fathers is bigger than the mean height of the mothers."
   ]
  },
  {
   "cell_type": "code",
   "execution_count": null,
   "metadata": {},
   "outputs": [],
   "source": [
    "df.father.mean() > df.mother.mean()"
   ]
  },
  {
   "cell_type": "markdown",
   "metadata": {},
   "source": [
    "This is pretty coarse information, though. We could take a more in-depth look at the distributions of heights, say by binning them and looking at a histogram. \n",
    "\n",
    "The `.hist()` function produces a histogram plot, which we display using `matplotlib` (which works together very well with `pandas`, in general)."
   ]
  },
  {
   "cell_type": "code",
   "execution_count": null,
   "metadata": {},
   "outputs": [],
   "source": [
    "df.father.hist()\n",
    "df.mother.hist()\n",
    "plt.show()"
   ]
  },
  {
   "cell_type": "code",
   "execution_count": null,
   "metadata": {
    "scrolled": true
   },
   "outputs": [],
   "source": [
    "# The number of bins in the histogram can be specified.\n",
    "df.father.hist(bins=3)\n",
    "df.mother.hist(bins=3)\n",
    "plt.show()"
   ]
  },
  {
   "cell_type": "markdown",
   "metadata": {},
   "source": [
    "### Exercise\n",
    "\n",
    "Create a histogram showing the distribution of the number of children per family. Use an appropriate number of bins."
   ]
  },
  {
   "cell_type": "code",
   "execution_count": 39,
   "metadata": {
    "scrolled": false
   },
   "outputs": [
    {
     "data": {
      "image/png": "[encoded data removed]",
      "text/plain": [
       "<Figure size 432x288 with 1 Axes>"
      ]
     },
     "metadata": {
      "needs_background": "light"
     },
     "output_type": "display_data"
    }
   ],
   "source": [
    "h = df.kids.hist(bins = 15)\n",
    "plt.show()"
   ]
  },
  {
   "cell_type": "markdown",
   "metadata": {},
   "source": [
    "## Subsetting\n",
    "\n"
   ]
  },
  {
   "cell_type": "markdown",
   "metadata": {},
   "source": [
    "A reason to love `pandas` is that it simplifies certain \"data wrangling\" tasks.  A common task is taking a subset.\n",
    "\n",
    "The gender of the child is given by the `gender` column. We can create a series using a conditional."
   ]
  },
  {
   "cell_type": "code",
   "execution_count": null,
   "metadata": {
    "scrolled": true
   },
   "outputs": [],
   "source": [
    "df.gender == 'F'"
   ]
  },
  {
   "cell_type": "markdown",
   "metadata": {},
   "source": [
    "Such a series of Booleans can be used to create a new 'subset' dataframe."
   ]
  },
  {
   "cell_type": "code",
   "execution_count": null,
   "metadata": {},
   "outputs": [],
   "source": [
    "daughters = df[df.gender == 'F']\n",
    "daughters.describe()"
   ]
  },
  {
   "cell_type": "markdown",
   "metadata": {},
   "source": [
    "### Exercise\n",
    "\n",
    "1) Create histograms of the heights of the mothers and the heights of the daughters and plot on the same axes.\n",
    "\n",
    "2) Do the same thing for fathers and sons."
   ]
  },
  {
   "cell_type": "code",
   "execution_count": 188,
   "metadata": {
    "scrolled": true
   },
   "outputs": [
    {
     "data": {
      "image/png": "[encoded data removed]",
      "text/plain": [
       "<Figure size 432x288 with 1 Axes>"
      ]
     },
     "metadata": {
      "needs_background": "light"
     },
     "output_type": "display_data"
    }
   ],
   "source": [
    "daughters.mother.hist()\n",
    "daughters.height.hist()\n",
    "\n",
    "plt.show()"
   ]
  },
  {
   "cell_type": "code",
   "execution_count": 189,
   "metadata": {
    "scrolled": false
   },
   "outputs": [
    {
     "data": {
      "image/png": "[encoded data removed]",
      "text/plain": [
       "<Figure size 432x288 with 1 Axes>"
      ]
     },
     "metadata": {
      "needs_background": "light"
     },
     "output_type": "display_data"
    }
   ],
   "source": [
    "sons = df[df.gender == 'M']\n",
    "sons.father.hist()\n",
    "sons.height.hist()\n",
    "plt.show()"
   ]
  },
  {
   "cell_type": "markdown",
   "metadata": {},
   "source": [
    "## Aside: More Options for Creating Plots\n",
    "\n",
    "The result of the above Exercise may be a bit tough to read. It makes more sense to plot the histograms on separate axes as part of one figure. The code below shows how to do something like that."
   ]
  },
  {
   "cell_type": "code",
   "execution_count": null,
   "metadata": {},
   "outputs": [],
   "source": [
    "# Make a figure here and call it fig.\n",
    "fig = plt.figure(figsize = (10,5))\n",
    "# The size can be specified in inches, otherwise it goes to a default size.\n",
    "# The syntax is figsize = (width, height)\n",
    "\n",
    "# Add subplots to the figure\n",
    "hist1 = fig.add_subplot(1,2,1)\n",
    "# The syntax (1,2,1) means: break the figure into a 1x2 grid, hist1 goes in the first slot\n",
    "# The 1x2 grid should be read like matrix dimensions: 1 high and 2 wide.\n",
    "hist2 = fig.add_subplot(1,2,2)\n",
    "# Put hist2 in the second slot.\n",
    "\n",
    "plt.show()"
   ]
  },
  {
   "cell_type": "code",
   "execution_count": null,
   "metadata": {},
   "outputs": [],
   "source": [
    "# Now let's create such a figure with the histograms for mothers and children plotted\n",
    "\n",
    "fig = plt.figure(figsize = (10,5))\n",
    "\n",
    "hist1 = fig.add_subplot(1,2,1)\n",
    "hist1.hist(daughters.mother) # Add histogram to the subplot\n",
    "plt.title('Mother Heights') # Add a title\n",
    "\n",
    "hist2 = fig.add_subplot(1,2,2)\n",
    "hist2.hist(daughters.height)\n",
    "plt.title('Daughter Heights')\n",
    "\n",
    "plt.show()"
   ]
  },
  {
   "cell_type": "markdown",
   "metadata": {},
   "source": [
    "### Exercise\n",
    "\n",
    "Create a figure with 4 histograms of heights of all fathers, sons, all mothers and daughters, arranged however you like. "
   ]
  },
  {
   "cell_type": "code",
   "execution_count": null,
   "metadata": {},
   "outputs": [],
   "source": [
    "fig = plt.figure(figsize = (10,10))\n",
    "\n",
    "hist1 = fig.add_subplot(2,2,1)\n",
    "hist1.hist(df.mother) \n",
    "plt.title('Mother Heights') \n",
    "\n",
    "hist2 = fig.add_subplot(2,2,2)\n",
    "hist2.hist(daughters.height)\n",
    "plt.title('Daughter Heights')\n",
    "\n",
    "hist3 = fig.add_subplot(2,2,3)\n",
    "hist3.hist(df.father) \n",
    "plt.title('Father Heights') \n",
    "\n",
    "hist4 = fig.add_subplot(2,2,4)\n",
    "hist4.hist(sons.height)\n",
    "plt.title('Son Heights')\n",
    "\n",
    "plt.show()"
   ]
  },
  {
   "cell_type": "markdown",
   "metadata": {},
   "source": [
    "## Scatter plots\n",
    "\n"
   ]
  },
  {
   "cell_type": "markdown",
   "metadata": {},
   "source": [
    "One feature of `pandas` is how accessible it makes the usual\n",
    "&ldquo;exploratory&rdquo; tools like scatterplots.  Indeed, when you are working\n",
    "with data, ****first look at your data**** and some scatterplots are a\n",
    "reasonable way to do this.\n",
    "\n",
    "We could plot the father&rsquo;s height on the $x$-axis and the child&rsquo;s eventual height on the $y$-axis.\n",
    "\n"
   ]
  },
  {
   "cell_type": "code",
   "execution_count": null,
   "metadata": {},
   "outputs": [],
   "source": [
    "df.plot.scatter('father', 'height')\n",
    "plt.show()"
   ]
  },
  {
   "cell_type": "markdown",
   "metadata": {},
   "source": [
    "### Exercise\n",
    "\n",
    "1) Make a scatterplot with the mother's height on the $x$-axis and the child's height on the $y$-axis.\n",
    "\n",
    "2) Make a scatterplot with the father's height on the $x$-axis and the mother's height on the $y$-axis."
   ]
  },
  {
   "cell_type": "code",
   "execution_count": 191,
   "metadata": {
    "scrolled": true
   },
   "outputs": [
    {
     "data": {
      "image/png": "[encoded data removed]",
      "text/plain": [
       "<Figure size 432x288 with 1 Axes>"
      ]
     },
     "metadata": {
      "needs_background": "light"
     },
     "output_type": "display_data"
    }
   ],
   "source": [
    "df.plot.scatter('mother', 'height')\n",
    "plt.show()"
   ]
  },
  {
   "cell_type": "code",
   "execution_count": 192,
   "metadata": {
    "scrolled": true
   },
   "outputs": [
    {
     "data": {
      "image/png": "[encoded data removed]",
      "text/plain": [
       "<Figure size 432x288 with 1 Axes>"
      ]
     },
     "metadata": {
      "needs_background": "light"
     },
     "output_type": "display_data"
    }
   ],
   "source": [
    "df.plot.scatter('father','mother')\n",
    "plt.show()"
   ]
  },
  {
   "cell_type": "markdown",
   "metadata": {},
   "source": [
    "Another useful feature of  `pandas` is that it permits various calculations to be performed on the rows.  Let's add a column to our data frame which is the average the heights of the two parents.\n",
    "\n"
   ]
  },
  {
   "cell_type": "code",
   "execution_count": null,
   "metadata": {},
   "outputs": [],
   "source": [
    "df['midparent'] = (df.father + df.mother)/2"
   ]
  },
  {
   "cell_type": "code",
   "execution_count": null,
   "metadata": {},
   "outputs": [],
   "source": [
    "df.head()"
   ]
  },
  {
   "cell_type": "markdown",
   "metadata": {},
   "source": [
    "Now we could plot the midparent height on the $x$-axis instead.\n",
    "\n"
   ]
  },
  {
   "cell_type": "code",
   "execution_count": null,
   "metadata": {
    "scrolled": true
   },
   "outputs": [],
   "source": [
    "df.plot.scatter('midparent', 'height')\n",
    "plt.show()"
   ]
  },
  {
   "cell_type": "markdown",
   "metadata": {},
   "source": [
    "## Making predictions\n",
    "\n"
   ]
  },
  {
   "cell_type": "markdown",
   "metadata": {},
   "source": [
    "Can we use Galton&rsquo;s data to predict the height of a child based on the\n",
    "average height of his/her parents?\n",
    "\n",
    "There are various ways to do this.  Perhaps the first thing to think\n",
    "to do is the following: to predict the height of a child whose\n",
    "midparent height is $x$, let&rsquo;s look at &ldquo;neighbors&rdquo; meaning rows\n",
    "in the data frame where the midparent height is close to $x$.\n",
    "\n"
   ]
  },
  {
   "cell_type": "code",
   "execution_count": null,
   "metadata": {},
   "outputs": [],
   "source": [
    "def neighbors(x):\n",
    "    return df[ abs(df['midparent'] - x) < 2 ]"
   ]
  },
  {
   "cell_type": "code",
   "execution_count": null,
   "metadata": {},
   "outputs": [],
   "source": [
    "# Test\n",
    "neighbors(70).head()"
   ]
  },
  {
   "cell_type": "markdown",
   "metadata": {},
   "source": [
    "Once we have some &ldquo;neighbors,&rdquo; we can look at their average height.\n",
    "\n"
   ]
  },
  {
   "cell_type": "code",
   "execution_count": null,
   "metadata": {},
   "outputs": [],
   "source": [
    "def prediction(x):\n",
    "    return neighbors(x).height.mean()"
   ]
  },
  {
   "cell_type": "code",
   "execution_count": null,
   "metadata": {},
   "outputs": [],
   "source": [
    "# Test\n",
    "x = 70\n",
    "print('A child with midparent height '+str(x)+' is predicted to have height '+str(prediction(x)))"
   ]
  },
  {
   "cell_type": "markdown",
   "metadata": {},
   "source": [
    "Now let&rsquo;s plot our predictions.  Because `pandas` is built on\n",
    "`matplotlib` it is easy to combine plots from different sources.\n",
    "\n"
   ]
  },
  {
   "cell_type": "code",
   "execution_count": null,
   "metadata": {
    "scrolled": false
   },
   "outputs": [],
   "source": [
    "# Recreate the scatterplot\n",
    "df.plot.scatter('midparent', 'height')\n",
    "# Define a domain to plot the prediction function against. \n",
    "# We sample a relevant interval of heights\n",
    "xs = np.linspace( df.midparent.min(), df.midparent.max(), 100 )\n",
    "# Plot the prediction against the domain\n",
    "plt.plot(xs, [prediction(x) for x in xs])\n",
    "# Show both plots\n",
    "plt.show()"
   ]
  },
  {
   "cell_type": "markdown",
   "metadata": {},
   "source": [
    "That 'prediction line' is wiggly, but certainly looks like a line!"
   ]
  },
  {
   "cell_type": "markdown",
   "metadata": {},
   "source": [
    "### Exercise\n",
    "\n",
    "Create similar plots of predictions for 'father' versus 'height' and 'mother' versus 'height'. How do the results compare?"
   ]
  },
  {
   "cell_type": "code",
   "execution_count": 66,
   "metadata": {},
   "outputs": [
    {
     "data": {
      "image/png": "[encoded data removed]",
      "text/plain": [
       "<Figure size 432x288 with 1 Axes>"
      ]
     },
     "metadata": {
      "needs_background": "light"
     },
     "output_type": "display_data"
    }
   ],
   "source": [
    "def neighbors_father(x):\n",
    "    return df[ abs(df['father'] - x) < 2 ]\n",
    "\n",
    "def prediction_father(x):\n",
    "    return neighbors_father(x).height.mean()\n",
    "\n",
    "df.plot.scatter('father', 'height')\n",
    "\n",
    "xs = np.linspace( df.father.min(), df.father.max(), 100 )\n",
    "\n",
    "plt.plot(xs, [prediction_father(x) for x in xs])\n",
    "\n",
    "plt.show()"
   ]
  },
  {
   "cell_type": "code",
   "execution_count": 67,
   "metadata": {
    "scrolled": true
   },
   "outputs": [
    {
     "data": {
      "image/png": "[encoded data removed]",
      "text/plain": [
       "<Figure size 432x288 with 1 Axes>"
      ]
     },
     "metadata": {
      "needs_background": "light"
     },
     "output_type": "display_data"
    }
   ],
   "source": [
    "def neighbors_mother(x):\n",
    "    return df[ abs(df['mother'] - x) < 2 ]\n",
    "\n",
    "def prediction_mother(x):\n",
    "    return neighbors_mother(x).height.mean()\n",
    "\n",
    "df.plot.scatter('mother', 'height')\n",
    "\n",
    "xs = np.linspace( df.mother.min(), df.mother.max(), 100 )\n",
    "\n",
    "plt.plot(xs, [prediction_mother(x) for x in xs])\n",
    "\n",
    "plt.show()"
   ]
  },
  {
   "cell_type": "markdown",
   "metadata": {},
   "source": [
    "## Correlation\n",
    "\n",
    "Our prediction tells us that `midparent` and `height` are roughly linearly related. Can we quantify how closely this holds to being true? Indeed, we can boil this down to a number  called the *(sample) correlation coefficient*. \n",
    "\n",
    "To make this precise, let $X = \\{x_1,\\ldots,x_n\\}$ and $Y = \\{y_1,\\ldots,y_n\\}$ be sets of data. Suppose we wish to quantify the extent to which the points $y_j$ are determined by some linear function of the $x_j$; i.e., whether there exists a linear function $f(x) = m \\cdot x + b$ such that $y_j \\approx f(x_j)$ for all $j = 1,\\ldots n$. \n",
    "\n",
    "The *correlation coefficient* $r = r_{X,Y} \\in [-1,1]$ is given by\n",
    "$$\n",
    "r = \\frac{\\sum_{j=1}^n (x_j - \\mu_X) (y_j - \\mu_Y)}{\\left(\\sum_{j=1}^n (x_j - \\mu_X)^2 \\sum_{j=1}^n (y_j - \\mu_Y)^2\\right)^{1/2}},\n",
    "$$\n",
    "where $\\mu_X$ and $\\mu_Y$ denote the mean values of $X$ and $Y$, respectively."
   ]
  },
  {
   "cell_type": "markdown",
   "metadata": {},
   "source": [
    "To get a feel for what this quantity is describing, let's write a function to compute it, then try it on some examples."
   ]
  },
  {
   "cell_type": "code",
   "execution_count": null,
   "metadata": {},
   "outputs": [],
   "source": [
    "# We will define our function to take X and Y as lists. \n",
    "\n",
    "# First define the mean function\n",
    "def mean(X):\n",
    "    return sum(X)/len(X)\n",
    "\n",
    "# The centering function is another useful intermediate function.\n",
    "def center(X,a):\n",
    "    return [x - a for x in X]\n",
    "\n",
    "from math import sqrt\n",
    "# Now define the correlation. \n",
    "# Note the trick using numpy arrays here!\n",
    "def correlation(X,Y):\n",
    "    centeredX = center(X,mean(X))\n",
    "    centeredY = center(Y,mean(Y))\n",
    "    numerator = sum(np.array(centeredX)*np.array(centeredY))\n",
    "    denominator = sqrt(sum([x**2 for x in centeredX])*sum([y**2 for y in centeredY]))\n",
    "    return numerator/denominator"
   ]
  },
  {
   "cell_type": "markdown",
   "metadata": {},
   "source": [
    "Now let's construct some artificial data sets and check the correlation coefficient."
   ]
  },
  {
   "cell_type": "code",
   "execution_count": null,
   "metadata": {},
   "outputs": [],
   "source": [
    "X1 = np.linspace(0, 1, 100 )\n",
    "m = 8 # This can be adjusted. Does it effect the result?\n",
    "b = 2\n",
    "Y1 = [m*x + b for x in X1]\n",
    "\n",
    "plt.plot(X1,Y1)\n",
    "correlation(X1,Y1)"
   ]
  },
  {
   "cell_type": "code",
   "execution_count": null,
   "metadata": {},
   "outputs": [],
   "source": [
    "X2 = np.linspace(0, 1, 100 )\n",
    "m = -10\n",
    "b = 75\n",
    "Y2 = [m*x + b for x in X2]\n",
    "\n",
    "plt.plot(X2,Y2)\n",
    "correlation(X2,Y2)"
   ]
  },
  {
   "cell_type": "markdown",
   "metadata": {},
   "source": [
    "The above results make sense. If it is the case that there exist $m$ and $b$ such that $y_j = m\\cdot x_j + b$ for all $j$, then we have\n",
    "\\begin{align*}\n",
    "\\mu_Y &= \\frac{1}{n} \\sum_j y_j \\\\\n",
    "&= \\frac{1}{n} \\sum_j (m x_j + b) \\\\\n",
    "&= \\frac{1}{n} \\sum_j m x_j + \\frac{1}{n} \\sum_j b \\\\\n",
    "&= m \\mu_X + b.\n",
    "\\end{align*}\n",
    "It follows that \n",
    "$$\n",
    "y_j - \\mu_Y = mx_j + b - (m \\mu_X + b) = m(x_j - \\mu_X).\n",
    "$$\n",
    "Finally, we have\n",
    "\\begin{align*}\n",
    "r &= \\frac{\\sum_{j=1}^n (x_j - \\mu_X) (y_j - \\mu_Y)}{\\left(\\sum_{j=1}^n (x_j - \\mu_X)^2 \\sum_{j=1}^n (y_j - \\mu_Y)^2\\right)^{1/2}} \\\\\n",
    "&= \\frac{m \\sum_{j=1}^n (x_j - \\mu_X)^2}{\\left|m\\right|\\sum_{j=1}^n (x_j - \\mu_X)^2} \\\\\n",
    "&= \\frac{m}{\\left|m\\right|} = \\pm 1.\n",
    "\\end{align*}\n",
    "\n",
    "Let's try it for some other toy datasets."
   ]
  },
  {
   "cell_type": "code",
   "execution_count": null,
   "metadata": {
    "scrolled": false
   },
   "outputs": [],
   "source": [
    "X3 = np.linspace(0, 1, 100 )\n",
    "noise_factor = 0.5\n",
    "m = 2\n",
    "b = 10\n",
    "Y3 = [m*x + b + noise_factor*(1/2)*(r.random()-r.random()) for x in X3]\n",
    "# Note the trick for producting a random number in [-1,1]\n",
    "\n",
    "plt.scatter(X3,Y3)\n",
    "correlation(X3,Y3)"
   ]
  },
  {
   "cell_type": "code",
   "execution_count": null,
   "metadata": {},
   "outputs": [],
   "source": [
    "X4 = [r.random() for x in range(100)]\n",
    "Y4 = [r.random() for x in range(100)]\n",
    "\n",
    "plt.scatter(X4,Y4)\n",
    "correlation(X4,Y4)"
   ]
  },
  {
   "cell_type": "markdown",
   "metadata": {},
   "source": [
    "So correlation is low for an unstructured point cloud. On the other hand, it is still low for a *structured* point cloud if the structure is not a linear relationship!\n",
    "\n",
    "The data below is perfectly related by a quadratic function, but the correlation is essentially zero."
   ]
  },
  {
   "cell_type": "code",
   "execution_count": null,
   "metadata": {
    "scrolled": true
   },
   "outputs": [],
   "source": [
    "X5 = np.linspace(-1, 1, 100 )\n",
    "m = 2\n",
    "b = 10\n",
    "Y5 = [m*x**2 + b for x in X5]\n",
    "\n",
    "plt.scatter(X5,Y5)\n",
    "correlation(X5,Y5)"
   ]
  },
  {
   "cell_type": "markdown",
   "metadata": {},
   "source": [
    "## Correlation for the Height Data"
   ]
  },
  {
   "cell_type": "markdown",
   "metadata": {},
   "source": [
    "Let's check the correlation between 'midparent' and 'height' in the Galton dataset."
   ]
  },
  {
   "cell_type": "code",
   "execution_count": null,
   "metadata": {},
   "outputs": [],
   "source": [
    "correlation(df['midparent'],df['height'])"
   ]
  },
  {
   "cell_type": "markdown",
   "metadata": {},
   "source": [
    "Of course, this is the sort of thing that should be built into a package like `pandas` already. Indeed it is, and we can compute correlations between any pair of columns. "
   ]
  },
  {
   "cell_type": "code",
   "execution_count": null,
   "metadata": {
    "scrolled": true
   },
   "outputs": [],
   "source": [
    "df[['father','mother','midparent','height']].corr()"
   ]
  },
  {
   "cell_type": "markdown",
   "metadata": {},
   "source": [
    "This shows that 'midparent' has the highest correlation with 'height'!"
   ]
  },
  {
   "cell_type": "markdown",
   "metadata": {},
   "source": [
    "# Another Data Set and Other Visualization Methods\n",
    "\n",
    "Let's take a look at one more dataset to see some other things that `pandas` can do. The next dataset contains information about customer bills and tips over some span of time at a restaurant."
   ]
  },
  {
   "cell_type": "code",
   "execution_count": null,
   "metadata": {
    "scrolled": true
   },
   "outputs": [],
   "source": [
    "df=pd.read_csv('data/tips.csv')\n",
    "df.head()"
   ]
  },
  {
   "cell_type": "markdown",
   "metadata": {},
   "source": [
    "Besides looking at the start of the dataframe, we can look at the end or a random sample."
   ]
  },
  {
   "cell_type": "code",
   "execution_count": null,
   "metadata": {},
   "outputs": [],
   "source": [
    "df.tail()"
   ]
  },
  {
   "cell_type": "code",
   "execution_count": null,
   "metadata": {
    "scrolled": true
   },
   "outputs": [],
   "source": [
    "df.sample(5)"
   ]
  },
  {
   "cell_type": "code",
   "execution_count": null,
   "metadata": {
    "scrolled": false
   },
   "outputs": [],
   "source": [
    "# Look at a summary of the dataset\n",
    "df.describe()"
   ]
  },
  {
   "cell_type": "markdown",
   "metadata": {},
   "source": [
    "We can also create new dataframes by grouping according to different columns. We can specify which values should then be displayed in the columns."
   ]
  },
  {
   "cell_type": "code",
   "execution_count": null,
   "metadata": {},
   "outputs": [],
   "source": [
    "df2 = df.groupby('day').count()\n",
    "df2"
   ]
  },
  {
   "cell_type": "code",
   "execution_count": null,
   "metadata": {},
   "outputs": [],
   "source": [
    "df3=df.groupby('day').sum() # sum per day\n",
    "df3"
   ]
  },
  {
   "cell_type": "markdown",
   "metadata": {},
   "source": [
    "We can also remove a column from our data frame. Below we remove the 'size' column and add a new column containing the percentage of the tip."
   ]
  },
  {
   "cell_type": "code",
   "execution_count": null,
   "metadata": {
    "scrolled": true
   },
   "outputs": [],
   "source": [
    "df3.drop('size',inplace=True,axis=1) # sum of size column is not relevant\n",
    "df3['percent'] = df3['tip']/df3['total_bill']*100 # add percents\n",
    "df3"
   ]
  },
  {
   "cell_type": "markdown",
   "metadata": {},
   "source": [
    "We can also group the dataframe by multiple categories."
   ]
  },
  {
   "cell_type": "code",
   "execution_count": null,
   "metadata": {},
   "outputs": [],
   "source": [
    "# Group by day and table size\n",
    "df4= df.groupby(['day','size']).sum()\n",
    "df4['percent'] = df4['tip']/df4['total_bill']*100\n",
    "df4"
   ]
  },
  {
   "cell_type": "markdown",
   "metadata": {},
   "source": [
    "Let's look at some other methods to visualize this data. Another powerful package for data visualization, based on `matplotlib`, is called `seaborn`. Let's import it and try out the function `countplot`."
   ]
  },
  {
   "cell_type": "code",
   "execution_count": null,
   "metadata": {},
   "outputs": [],
   "source": [
    "# Visualize using Seaborn\n",
    "import seaborn as sb\n",
    "sb.countplot(x='day' ,data=df)\n",
    "plt.show()"
   ]
  },
  {
   "cell_type": "markdown",
   "metadata": {},
   "source": [
    "We can 'split' the countplot as follows."
   ]
  },
  {
   "cell_type": "code",
   "execution_count": null,
   "metadata": {},
   "outputs": [],
   "source": [
    "sb.countplot(x='day',hue='size' ,data=df)\n",
    "plt.show()"
   ]
  },
  {
   "cell_type": "code",
   "execution_count": null,
   "metadata": {
    "scrolled": false
   },
   "outputs": [],
   "source": [
    "sb.countplot(x='day',hue='smoker' ,data=df)\n",
    "plt.show()"
   ]
  },
  {
   "cell_type": "markdown",
   "metadata": {},
   "source": [
    "The `seaborn` package can do some pretty fancy stuff. The example below shows a plot generated from the `iris` dataset, which can be loaded directly from the `seaborn` package."
   ]
  },
  {
   "cell_type": "code",
   "execution_count": null,
   "metadata": {
    "scrolled": true
   },
   "outputs": [],
   "source": [
    "sb.set(style=\"darkgrid\")\n",
    "iris = sb.load_dataset(\"iris\")\n",
    "\n",
    "# Subset the iris dataset by species\n",
    "setosa = iris[iris.species == 'setosa']\n",
    "virginica = iris[iris.species == 'virginica']\n",
    "\n",
    "# Set up the figure\n",
    "f, ax = plt.subplots(figsize=(8, 8))\n",
    "ax.set_aspect(\"equal\")\n",
    "\n",
    "# Draw the two density plots\n",
    "ax = sb.kdeplot(setosa.sepal_width, setosa.sepal_length,\n",
    "                 cmap=\"Reds\", shade=True, shade_lowest=False)\n",
    "ax = sb.kdeplot(virginica.sepal_width, virginica.sepal_length,\n",
    "                 cmap=\"Blues\", shade=True, shade_lowest=False)\n",
    "\n",
    "# Add labels to the plot\n",
    "red = sb.color_palette(\"Reds\")[-2]\n",
    "blue = sb.color_palette(\"Blues\")[-2]\n",
    "ax.text(2.5, 8.2, \"virginica\", size=16, color=blue)\n",
    "ax.text(3.8, 4.5, \"setosa\", size=16, color=red);"
   ]
  },
  {
   "cell_type": "markdown",
   "metadata": {},
   "source": [
    "### Exercise/Homework\n",
    "\n",
    "Explore the `iris` dataset using `pandas` and/or `seaborn`. Can you find any interesting trends or relationships?\n",
    "\n",
    "Examples of stuff you can do with `seaborn` can be found here: https://seaborn.pydata.org/examples/index.html\n",
    "\n",
    "Some other datasets that you can load through `seaborn` are listed here: https://github.com/mwaskom/seaborn-data. Find one that you find interesting and analyze it!"
   ]
  },
  {
   "cell_type": "code",
   "execution_count": 104,
   "metadata": {
    "scrolled": false
   },
   "outputs": [
    {
     "data": {
      "text/html": [
       "<div>\n",
       "<style scoped>\n",
       "    .dataframe tbody tr th:only-of-type {\n",
       "        vertical-align: middle;\n",
       "    }\n",
       "\n",
       "    .dataframe tbody tr th {\n",
       "        vertical-align: top;\n",
       "    }\n",
       "\n",
       "    .dataframe thead th {\n",
       "        text-align: right;\n",
       "    }\n",
       "</style>\n",
       "<table border=\"1\" class=\"dataframe\">\n",
       "  <thead>\n",
       "    <tr style=\"text-align: right;\">\n",
       "      <th></th>\n",
       "      <th>sepal_length</th>\n",
       "      <th>sepal_width</th>\n",
       "      <th>petal_length</th>\n",
       "      <th>petal_width</th>\n",
       "    </tr>\n",
       "  </thead>\n",
       "  <tbody>\n",
       "    <tr>\n",
       "      <th>count</th>\n",
       "      <td>150.000000</td>\n",
       "      <td>150.000000</td>\n",
       "      <td>150.000000</td>\n",
       "      <td>150.000000</td>\n",
       "    </tr>\n",
       "    <tr>\n",
       "      <th>mean</th>\n",
       "      <td>5.843333</td>\n",
       "      <td>3.057333</td>\n",
       "      <td>3.758000</td>\n",
       "      <td>1.199333</td>\n",
       "    </tr>\n",
       "    <tr>\n",
       "      <th>std</th>\n",
       "      <td>0.828066</td>\n",
       "      <td>0.435866</td>\n",
       "      <td>1.765298</td>\n",
       "      <td>0.762238</td>\n",
       "    </tr>\n",
       "    <tr>\n",
       "      <th>min</th>\n",
       "      <td>4.300000</td>\n",
       "      <td>2.000000</td>\n",
       "      <td>1.000000</td>\n",
       "      <td>0.100000</td>\n",
       "    </tr>\n",
       "    <tr>\n",
       "      <th>25%</th>\n",
       "      <td>5.100000</td>\n",
       "      <td>2.800000</td>\n",
       "      <td>1.600000</td>\n",
       "      <td>0.300000</td>\n",
       "    </tr>\n",
       "    <tr>\n",
       "      <th>50%</th>\n",
       "      <td>5.800000</td>\n",
       "      <td>3.000000</td>\n",
       "      <td>4.350000</td>\n",
       "      <td>1.300000</td>\n",
       "    </tr>\n",
       "    <tr>\n",
       "      <th>75%</th>\n",
       "      <td>6.400000</td>\n",
       "      <td>3.300000</td>\n",
       "      <td>5.100000</td>\n",
       "      <td>1.800000</td>\n",
       "    </tr>\n",
       "    <tr>\n",
       "      <th>max</th>\n",
       "      <td>7.900000</td>\n",
       "      <td>4.400000</td>\n",
       "      <td>6.900000</td>\n",
       "      <td>2.500000</td>\n",
       "    </tr>\n",
       "  </tbody>\n",
       "</table>\n",
       "</div>"
      ],
      "text/plain": [
       "       sepal_length  sepal_width  petal_length  petal_width\n",
       "count    150.000000   150.000000    150.000000   150.000000\n",
       "mean       5.843333     3.057333      3.758000     1.199333\n",
       "std        0.828066     0.435866      1.765298     0.762238\n",
       "min        4.300000     2.000000      1.000000     0.100000\n",
       "25%        5.100000     2.800000      1.600000     0.300000\n",
       "50%        5.800000     3.000000      4.350000     1.300000\n",
       "75%        6.400000     3.300000      5.100000     1.800000\n",
       "max        7.900000     4.400000      6.900000     2.500000"
      ]
     },
     "execution_count": 104,
     "metadata": {},
     "output_type": "execute_result"
    }
   ],
   "source": [
    "iris.describe()"
   ]
  },
  {
   "cell_type": "code",
   "execution_count": 117,
   "metadata": {},
   "outputs": [
    {
     "data": {
      "text/plain": [
       "<matplotlib.axes._subplots.AxesSubplot at 0x1a216cf9b0>"
      ]
     },
     "execution_count": 117,
     "metadata": {},
     "output_type": "execute_result"
    },
    {
     "data": {
      "image/png": "[encoded data removed]",
      "text/plain": [
       "<Figure size 432x288 with 1 Axes>"
      ]
     },
     "metadata": {},
     "output_type": "display_data"
    }
   ],
   "source": [
    "sb.scatterplot(x=\"sepal_length\", y=\"sepal_width\",\n",
    "                hue=\"species\", data=iris)"
   ]
  },
  {
   "cell_type": "code",
   "execution_count": 119,
   "metadata": {},
   "outputs": [
    {
     "data": {
      "text/plain": [
       "<matplotlib.axes._subplots.AxesSubplot at 0x1a21607550>"
      ]
     },
     "execution_count": 119,
     "metadata": {},
     "output_type": "execute_result"
    },
    {
     "data": {
      "image/png": "[encoded data removed]",
      "text/plain": [
       "<Figure size 432x288 with 1 Axes>"
      ]
     },
     "metadata": {},
     "output_type": "display_data"
    }
   ],
   "source": [
    "sb.scatterplot(x=\"petal_length\", y=\"petal_width\",\n",
    "                hue=\"species\", data=iris)"
   ]
  },
  {
   "cell_type": "code",
   "execution_count": 120,
   "metadata": {},
   "outputs": [
    {
     "data": {
      "text/plain": [
       "<matplotlib.axes._subplots.AxesSubplot at 0x1a212d1898>"
      ]
     },
     "execution_count": 120,
     "metadata": {},
     "output_type": "execute_result"
    },
    {
     "data": {
      "image/png": "[encoded data removed]",
      "text/plain": [
       "<Figure size 432x288 with 1 Axes>"
      ]
     },
     "metadata": {},
     "output_type": "display_data"
    }
   ],
   "source": [
    "sb.scatterplot(x=\"petal_width\", y=\"sepal_width\",\n",
    "                hue=\"species\", data=iris)"
   ]
  },
  {
   "cell_type": "code",
   "execution_count": 121,
   "metadata": {
    "scrolled": true
   },
   "outputs": [
    {
     "data": {
      "text/plain": [
       "<matplotlib.axes._subplots.AxesSubplot at 0x1a2126f278>"
      ]
     },
     "execution_count": 121,
     "metadata": {},
     "output_type": "execute_result"
    },
    {
     "data": {
      "image/png": "[encoded data removed]",
      "text/plain": [
       "<Figure size 432x288 with 1 Axes>"
      ]
     },
     "metadata": {},
     "output_type": "display_data"
    }
   ],
   "source": [
    "sb.scatterplot(x=\"sepal_length\", y=\"petal_length\",\n",
    "                hue=\"species\", data=iris)"
   ]
  }
 ],
 "metadata": {
  "kernelspec": {
   "display_name": "Python 3",
   "language": "python",
   "name": "python3"
  },
  "language_info": {
   "codemirror_mode": {
    "name": "ipython",
    "version": 3
   },
   "file_extension": ".py",
   "mimetype": "text/x-python",
   "name": "python",
   "nbconvert_exporter": "python",
   "pygments_lexer": "ipython3",
   "version": "3.7.3"
  },
  "org": null
 },
 "nbformat": 4,
 "nbformat_minor": 1
}
