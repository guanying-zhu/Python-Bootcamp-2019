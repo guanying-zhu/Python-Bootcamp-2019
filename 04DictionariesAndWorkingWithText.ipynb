{
 "cells": [
  {
   "cell_type": "markdown",
   "metadata": {},
   "source": [
    "# More Types of Expressions\n",
    "\n",
    "In this notebook we will spend some time manipulating and analyzing text documents. Before we do that, let's introduce a few more types of expressions that might be useful."
   ]
  },
  {
   "cell_type": "markdown",
   "metadata": {},
   "source": [
    "## Dictionaries\n",
    "\n",
    "Python dictionaries are similar to lists. List entries are indexed by their place in the list, but dictionary entries are indexed by keys. That is, Python dictionaries\n",
    "associate *values* to *keys*. Let's start with an example."
   ]
  },
  {
   "cell_type": "code",
   "execution_count": 1,
   "metadata": {},
   "outputs": [
    {
     "data": {
      "text/plain": [
       "{'cat': 17, 'dog': -15, 'turtle': 0}"
      ]
     },
     "execution_count": 1,
     "metadata": {},
     "output_type": "execute_result"
    }
   ],
   "source": [
    "d = {'cat': 17, 'dog': -15, 'turtle': 0}\n",
    "# The keys are 'cat', 'dog', 'turtle'\n",
    "# Their respective values are 17, -15, 0\n",
    "d"
   ]
  },
  {
   "cell_type": "markdown",
   "metadata": {},
   "source": [
    "You can look-up values associated to a given key.\n",
    "\n"
   ]
  },
  {
   "cell_type": "code",
   "execution_count": 2,
   "metadata": {},
   "outputs": [
    {
     "data": {
      "text/plain": [
       "-15"
      ]
     },
     "execution_count": 2,
     "metadata": {},
     "output_type": "execute_result"
    }
   ],
   "source": [
    "d['dog']"
   ]
  },
  {
   "cell_type": "markdown",
   "metadata": {},
   "source": [
    "What happens if you try to access a missing key?\n",
    "\n"
   ]
  },
  {
   "cell_type": "code",
   "execution_count": 3,
   "metadata": {},
   "outputs": [
    {
     "ename": "KeyError",
     "evalue": "'purple'",
     "output_type": "error",
     "traceback": [
      "\u001b[0;31m---------------------------------------------------------------------------\u001b[0m",
      "\u001b[0;31mKeyError\u001b[0m                                  Traceback (most recent call last)",
      "\u001b[0;32m<ipython-input-3-e5ea44c15859>\u001b[0m in \u001b[0;36m<module>\u001b[0;34m\u001b[0m\n\u001b[1;32m      1\u001b[0m \u001b[0md\u001b[0m \u001b[0;34m=\u001b[0m \u001b[0;34m{\u001b[0m\u001b[0;34m'cat'\u001b[0m\u001b[0;34m:\u001b[0m \u001b[0;36m17\u001b[0m\u001b[0;34m,\u001b[0m \u001b[0;34m'dog'\u001b[0m\u001b[0;34m:\u001b[0m \u001b[0;34m-\u001b[0m\u001b[0;36m15\u001b[0m\u001b[0;34m,\u001b[0m \u001b[0;34m'turtle'\u001b[0m\u001b[0;34m:\u001b[0m \u001b[0;36m0\u001b[0m\u001b[0;34m}\u001b[0m\u001b[0;34m\u001b[0m\u001b[0;34m\u001b[0m\u001b[0m\n\u001b[0;32m----> 2\u001b[0;31m \u001b[0mprint\u001b[0m\u001b[0;34m(\u001b[0m\u001b[0md\u001b[0m\u001b[0;34m[\u001b[0m\u001b[0;34m'purple'\u001b[0m\u001b[0;34m]\u001b[0m\u001b[0;34m)\u001b[0m\u001b[0;34m\u001b[0m\u001b[0;34m\u001b[0m\u001b[0m\n\u001b[0m",
      "\u001b[0;31mKeyError\u001b[0m: 'purple'"
     ]
    }
   ],
   "source": [
    "d = {'cat': 17, 'dog': -15, 'turtle': 0}\n",
    "print(d['purple'])"
   ]
  },
  {
   "cell_type": "markdown",
   "metadata": {},
   "source": [
    "Contrast that with the result of using `get`.\n",
    "\n"
   ]
  },
  {
   "cell_type": "code",
   "execution_count": 4,
   "metadata": {},
   "outputs": [
    {
     "name": "stdout",
     "output_type": "stream",
     "text": [
      "17\n",
      "None\n"
     ]
    }
   ],
   "source": [
    "d = {'cat': 17, 'dog': -15, 'turtle': 0}\n",
    "print(d.get('cat'))\n",
    "print(d.get('purple'))"
   ]
  },
  {
   "cell_type": "markdown",
   "metadata": {},
   "source": [
    "Values can be reassigned."
   ]
  },
  {
   "cell_type": "code",
   "execution_count": 5,
   "metadata": {},
   "outputs": [
    {
     "name": "stdout",
     "output_type": "stream",
     "text": [
      "17\n",
      "{'cat': 1000, 'dog': -15, 'turtle': 0, 'fish': 100}\n"
     ]
    }
   ],
   "source": [
    "d = {'cat': 17, 'dog': -15, 'turtle': 0, 'fish': 100}\n",
    "print(d['cat'])\n",
    "d['cat'] = 1000\n",
    "print(d)"
   ]
  },
  {
   "cell_type": "markdown",
   "metadata": {},
   "source": [
    "Keys, along with associated values, can be removed."
   ]
  },
  {
   "cell_type": "code",
   "execution_count": 6,
   "metadata": {},
   "outputs": [
    {
     "data": {
      "text/plain": [
       "{'cat': 1000, 'dog': -15, 'turtle': 0}"
      ]
     },
     "execution_count": 6,
     "metadata": {},
     "output_type": "execute_result"
    }
   ],
   "source": [
    "del(d['fish'])\n",
    "d"
   ]
  },
  {
   "cell_type": "markdown",
   "metadata": {},
   "source": [
    "They can also be added."
   ]
  },
  {
   "cell_type": "code",
   "execution_count": 7,
   "metadata": {},
   "outputs": [
    {
     "data": {
      "text/plain": [
       "{'cat': 1000, 'dog': -15, 'turtle': 0, 'ferret': 900}"
      ]
     },
     "execution_count": 7,
     "metadata": {},
     "output_type": "execute_result"
    }
   ],
   "source": [
    "d['ferret']=900\n",
    "d"
   ]
  },
  {
   "cell_type": "markdown",
   "metadata": {},
   "source": [
    "### Creating Dictionaries\n",
    "\n",
    "There are several methods for creating dictionaries. Let's look at a few of them by example.\n",
    "\n",
    "In this first example, notice that the keys and the values are strings. Keys/values can be of virtually any Python expression type."
   ]
  },
  {
   "cell_type": "code",
   "execution_count": 8,
   "metadata": {},
   "outputs": [
    {
     "data": {
      "text/plain": [
       "{'apple': 'red', 'carrot': 'orange', 'lemon': 'yellow'}"
      ]
     },
     "execution_count": 8,
     "metadata": {},
     "output_type": "execute_result"
    }
   ],
   "source": [
    "food_colors = {} # Start with an 'empty dictionary'\n",
    "food_colors['apple'] = 'red' # Add keys and their values\n",
    "food_colors['carrot'] = 'orange'\n",
    "food_colors['lemon'] = 'yellow'\n",
    "\n",
    "food_colors"
   ]
  },
  {
   "cell_type": "markdown",
   "metadata": {},
   "source": [
    "We can iterate over keys in a dictionary."
   ]
  },
  {
   "cell_type": "code",
   "execution_count": 9,
   "metadata": {},
   "outputs": [
    {
     "name": "stdout",
     "output_type": "stream",
     "text": [
      "The color of apple is red\n",
      "The color of carrot is orange\n",
      "The color of lemon is yellow\n"
     ]
    }
   ],
   "source": [
    "for key in food_colors:\n",
    "    print('The color of '+key+' is '+food_colors[key])    "
   ]
  },
  {
   "cell_type": "markdown",
   "metadata": {},
   "source": [
    "Here is another example of creating a dictionary. Note that the types of keys/values can be mixed."
   ]
  },
  {
   "cell_type": "code",
   "execution_count": 10,
   "metadata": {},
   "outputs": [
    {
     "data": {
      "text/plain": [
       "{'cat': 'apple', 100: 'dog', 'a': 9}"
      ]
     },
     "execution_count": 10,
     "metadata": {},
     "output_type": "execute_result"
    }
   ],
   "source": [
    "L = [['cat','apple'],[100,'dog'],['a',9]] # Create a list of pairs\n",
    "\n",
    "d = dict(L)\n",
    "# The dict function uses the first entry in each pair of L as a key and the second as \n",
    "# the associated value.\n",
    "d"
   ]
  },
  {
   "cell_type": "markdown",
   "metadata": {},
   "source": [
    "Just like list comphrehension, there is dictionary comprehension."
   ]
  },
  {
   "cell_type": "code",
   "execution_count": 11,
   "metadata": {},
   "outputs": [
    {
     "data": {
      "text/plain": [
       "{'apple': 5, 'mango': 5, 'banana': 6, 'cherry': 6}"
      ]
     },
     "execution_count": 11,
     "metadata": {},
     "output_type": "execute_result"
    }
   ],
   "source": [
    "fruits = ['apple', 'mango', 'banana','cherry']\n",
    "\n",
    "word_lengths = {f:len(f) for f in fruits}\n",
    "\n",
    "word_lengths"
   ]
  },
  {
   "cell_type": "markdown",
   "metadata": {},
   "source": [
    "### Exercise\n",
    "\n",
    "Experiment with dictionary creation to determine what types of objects are allowed as keys in a list and what types of objects are allowed as values. \n",
    "\n",
    "In particular:\n",
    "\n",
    "1) Find one expression type which can't be used as a key.\n",
    "\n",
    "2) Determine whether that object type can be used as a value.\n",
    "\n",
    "3) Can keys be repeated? Can values be repeated?"
   ]
  },
  {
   "cell_type": "code",
   "execution_count": null,
   "metadata": {},
   "outputs": [],
   "source": []
  },
  {
   "cell_type": "markdown",
   "metadata": {},
   "source": [
    "### Exercise\n",
    "\n",
    "Use a dictionary to make a \"menu\" containing five foods and their prices. Use your dictionary (and probably something like a `for` loop) to print out a readable menu."
   ]
  },
  {
   "cell_type": "code",
   "execution_count": null,
   "metadata": {},
   "outputs": [],
   "source": []
  },
  {
   "cell_type": "markdown",
   "metadata": {},
   "source": [
    "### Some Other Dictionary Methods\n",
    "\n",
    "Here are a few other things you can do with dictionaries which might prove useful (by no means an exhaustive list!). Let's define a list to test things on, then determine the purpose of each operation below."
   ]
  },
  {
   "cell_type": "code",
   "execution_count": 12,
   "metadata": {},
   "outputs": [],
   "source": [
    "animal_noises = {'cat':'meow','dog':'woof','cow':'moo'}"
   ]
  },
  {
   "cell_type": "code",
   "execution_count": 13,
   "metadata": {},
   "outputs": [
    {
     "data": {
      "text/plain": [
       "['cat', 'dog', 'cow']"
      ]
     },
     "execution_count": 13,
     "metadata": {},
     "output_type": "execute_result"
    }
   ],
   "source": [
    "list(animal_noises.keys())\n",
    "# What happens if we don't plug this into the list function?"
   ]
  },
  {
   "cell_type": "code",
   "execution_count": 14,
   "metadata": {},
   "outputs": [
    {
     "data": {
      "text/plain": [
       "['meow', 'woof', 'moo']"
      ]
     },
     "execution_count": 14,
     "metadata": {},
     "output_type": "execute_result"
    }
   ],
   "source": [
    "list(animal_noises.values())"
   ]
  },
  {
   "cell_type": "code",
   "execution_count": 15,
   "metadata": {},
   "outputs": [
    {
     "data": {
      "text/plain": [
       "[('cat', 'meow'), ('dog', 'woof'), ('cow', 'moo')]"
      ]
     },
     "execution_count": 15,
     "metadata": {},
     "output_type": "execute_result"
    }
   ],
   "source": [
    "list(animal_noises.items())\n",
    "\n",
    "# The output is a list. What is the type of each element in the list?"
   ]
  },
  {
   "cell_type": "markdown",
   "metadata": {},
   "source": [
    "We met `get` earlier, but there is more to `get`.  For instance, there\n",
    "is a facility for including default values instead of `None`.\n",
    "\n"
   ]
  },
  {
   "cell_type": "code",
   "execution_count": 16,
   "metadata": {},
   "outputs": [
    {
     "name": "stdout",
     "output_type": "stream",
     "text": [
      "meow\n",
      "No such animal\n"
     ]
    }
   ],
   "source": [
    "default = 'No such animal'\n",
    "print(animal_noises.get('cat',default))\n",
    "print(animal_noises.get('purple',default))"
   ]
  },
  {
   "cell_type": "markdown",
   "metadata": {},
   "source": [
    "There is also `pop`.\n",
    "\n"
   ]
  },
  {
   "cell_type": "code",
   "execution_count": 17,
   "metadata": {},
   "outputs": [
    {
     "name": "stdout",
     "output_type": "stream",
     "text": [
      "{'cat': 'meow', 'dog': 'woof', 'cow': 'moo'}\n",
      "meow\n",
      "{'dog': 'woof', 'cow': 'moo'}\n"
     ]
    }
   ],
   "source": [
    "print(animal_noises)\n",
    "print(animal_noises.pop('cat'))\n",
    "print(animal_noises)"
   ]
  },
  {
   "cell_type": "markdown",
   "metadata": {},
   "source": [
    "What if we want to combine two dictionaries?"
   ]
  },
  {
   "cell_type": "code",
   "execution_count": 18,
   "metadata": {},
   "outputs": [],
   "source": [
    "animal_noises2 = {'bird':'squawk','fly':'buzz'} # Define another dictionary for testing."
   ]
  },
  {
   "cell_type": "code",
   "execution_count": 19,
   "metadata": {},
   "outputs": [
    {
     "ename": "TypeError",
     "evalue": "unsupported operand type(s) for +: 'dict' and 'dict'",
     "output_type": "error",
     "traceback": [
      "\u001b[0;31m---------------------------------------------------------------------------\u001b[0m",
      "\u001b[0;31mTypeError\u001b[0m                                 Traceback (most recent call last)",
      "\u001b[0;32m<ipython-input-19-9c18376cfde9>\u001b[0m in \u001b[0;36m<module>\u001b[0;34m\u001b[0m\n\u001b[0;32m----> 1\u001b[0;31m \u001b[0manimal_noises\u001b[0m \u001b[0;34m+\u001b[0m \u001b[0manimal_noises2\u001b[0m\u001b[0;34m\u001b[0m\u001b[0;34m\u001b[0m\u001b[0m\n\u001b[0m",
      "\u001b[0;31mTypeError\u001b[0m: unsupported operand type(s) for +: 'dict' and 'dict'"
     ]
    }
   ],
   "source": [
    "animal_noises + animal_noises2"
   ]
  },
  {
   "cell_type": "code",
   "execution_count": 20,
   "metadata": {},
   "outputs": [
    {
     "name": "stdout",
     "output_type": "stream",
     "text": [
      "{'dog': 'woof', 'cow': 'moo'} {'bird': 'squawk', 'fly': 'buzz'}\n",
      "{'dog': 'woof', 'cow': 'moo', 'bird': 'squawk', 'fly': 'buzz'}\n"
     ]
    }
   ],
   "source": [
    "print(animal_noises,animal_noises2)\n",
    "animal_noises.update(animal_noises2)\n",
    "print(animal_noises)"
   ]
  },
  {
   "cell_type": "markdown",
   "metadata": {},
   "source": [
    "What happens if we combine dictionaries with some repeated keys?"
   ]
  },
  {
   "cell_type": "code",
   "execution_count": 21,
   "metadata": {},
   "outputs": [],
   "source": [
    "# Experiment to figure it out!\n"
   ]
  },
  {
   "cell_type": "markdown",
   "metadata": {},
   "source": [
    "## Sets\n",
    "\n",
    "Sets are similar to lists, except they are unordered and can't contain duplicate entries (just like mathematical sets!). Standard set operations like intersection, union, etc. can be performed on set objects."
   ]
  },
  {
   "cell_type": "code",
   "execution_count": 22,
   "metadata": {},
   "outputs": [
    {
     "name": "stdout",
     "output_type": "stream",
     "text": [
      "['cat', 'dog', 'cat', 'cow', 'cow']\n",
      "{'cow', 'dog', 'cat'}\n"
     ]
    }
   ],
   "source": [
    "animals = ['cat','dog','cat','cow','cow']\n",
    "animal_set = set(animals)\n",
    "\n",
    "print(animals)\n",
    "print(animal_set)"
   ]
  },
  {
   "cell_type": "code",
   "execution_count": 23,
   "metadata": {},
   "outputs": [
    {
     "name": "stdout",
     "output_type": "stream",
     "text": [
      "{'cow', 'goat', 'dog', 'ferret'}\n",
      "{'cow', 'dog'}\n"
     ]
    }
   ],
   "source": [
    "animal_set2 = set(['ferret','goat','cow','dog'])\n",
    "\n",
    "S = animal_set.intersection(animal_set2)\n",
    "\n",
    "print(animal_set2)\n",
    "print(S)"
   ]
  },
  {
   "cell_type": "markdown",
   "metadata": {},
   "source": [
    "### Exercise\n",
    "\n",
    "Try to guess the syntax to take the union of `animal_set` and `animal_set2`."
   ]
  },
  {
   "cell_type": "code",
   "execution_count": null,
   "metadata": {},
   "outputs": [],
   "source": []
  },
  {
   "cell_type": "markdown",
   "metadata": {},
   "source": [
    "# Analysis of Movie Synopses\n",
    "\n",
    "Now we will apply our Python skills to analyze a dataset of movie synopses from Wikipedia. We will use data that I borrowed from https://github.com/brandomr/document_cluster. It includes a list of 100 movie titles, together with their synopses from Wikipedia. "
   ]
  },
  {
   "cell_type": "markdown",
   "metadata": {},
   "source": [
    "## Importing and Cleaning the Data\n",
    "\n",
    "The first step is to load the data. As usual, we have to clean the data (although these datasets were chosen because they are already pretty clean!)"
   ]
  },
  {
   "cell_type": "code",
   "execution_count": 24,
   "metadata": {
    "scrolled": true
   },
   "outputs": [
    {
     "name": "stdout",
     "output_type": "stream",
     "text": [
      "The Godfather\n",
      "The Shawshank Redemption\n",
      "Schindler's List\n",
      "Raging Bull\n",
      "Casablanca\n",
      "One Flew Over the Cuckoo's Nest\n",
      "Gone with the Wind\n",
      "Citizen Kane\n",
      "The Wizard of Oz\n",
      "Titanic\n",
      "Lawrence of Arabia\n",
      "The Godfather: Part II\n",
      "Psycho\n",
      "Sunset Blvd.\n",
      "Vertigo\n",
      "On the Waterfront\n",
      "Forrest Gump\n",
      "The Sound of Music\n",
      "West Side Story\n",
      "Star Wars\n",
      "E.T. the Extra-Terrestrial\n",
      "2001: A Space Odyssey\n",
      "The Silence of the Lambs\n",
      "Chinatown\n",
      "The Bridge on the River Kwai\n",
      "Singin' in the Rain\n",
      "It's a Wonderful Life\n",
      "Some Like It Hot\n",
      "12 Angry Men\n",
      "Dr. Strangelove or: How I Learned to Stop Worrying and Love the Bomb\n",
      "Amadeus\n",
      "Apocalypse Now\n",
      "Gandhi\n",
      "The Lord of the Rings: The Return of the King\n",
      "Gladiator\n",
      "From Here to Eternity\n",
      "Saving Private Ryan\n",
      "Unforgiven\n",
      "Raiders of the Lost Ark\n",
      "Rocky\n",
      "A Streetcar Named Desire\n",
      "The Philadelphia Story\n",
      "To Kill a Mockingbird\n",
      "An American in Paris\n",
      "The Best Years of Our Lives\n",
      "My Fair Lady\n",
      "Ben-Hur\n",
      "Doctor Zhivago\n",
      "Patton\n",
      "Jaws\n",
      "Braveheart\n",
      "The Good, the Bad and the Ugly\n",
      "Butch Cassidy and the Sundance Kid\n",
      "The Treasure of the Sierra Madre\n",
      "The Apartment\n",
      "Platoon\n",
      "High Noon\n",
      "Dances with Wolves\n",
      "The Pianist\n",
      "Goodfellas\n",
      "The Exorcist\n",
      "The Deer Hunter\n",
      "All Quiet on the Western Front\n",
      "The French Connection\n",
      "City Lights\n",
      "The King's Speech\n",
      "It Happened One Night\n",
      "A Place in the Sun\n",
      "Midnight Cowboy\n",
      "Mr. Smith Goes to Washington\n",
      "Rain Man\n",
      "Annie Hall\n",
      "Out of Africa\n",
      "Good Will Hunting\n",
      "Terms of Endearment\n",
      "Tootsie\n",
      "Fargo\n",
      "Giant\n",
      "The Grapes of Wrath\n",
      "Shane\n",
      "The Green Mile\n",
      "Close Encounters of the Third Kind\n",
      "Network\n",
      "Nashville\n",
      "The Graduate\n",
      "American Graffiti\n",
      "Pulp Fiction\n",
      "The African Queen\n",
      "Stagecoach\n",
      "Mutiny on the Bounty\n",
      "The Maltese Falcon\n",
      "A Clockwork Orange\n",
      "Taxi Driver\n",
      "Wuthering Heights\n",
      "Double Indemnity\n",
      "Rebel Without a Cause\n",
      "Rear Window\n",
      "The Third Man\n",
      "North by Northwest\n",
      "Yankee Doodle Dandy\n",
      "\n"
     ]
    },
    {
     "data": {
      "text/plain": [
       "1738"
      ]
     },
     "execution_count": 24,
     "metadata": {},
     "output_type": "execute_result"
    }
   ],
   "source": [
    "#Upload the raw data for the movie titles\n",
    "f = open('data/title_list.txt')\n",
    "titles_raw_data = f.read()  \n",
    "f.close()\n",
    "print(titles_raw_data)\n",
    "len(titles_raw_data)"
   ]
  },
  {
   "cell_type": "markdown",
   "metadata": {},
   "source": [
    "The titles data is one long string. It looks like we should split over new lines."
   ]
  },
  {
   "cell_type": "code",
   "execution_count": 25,
   "metadata": {},
   "outputs": [
    {
     "data": {
      "text/plain": [
       "101"
      ]
     },
     "execution_count": 25,
     "metadata": {},
     "output_type": "execute_result"
    }
   ],
   "source": [
    "titles = titles_raw_data.split('\\n')\n",
    "len(titles)"
   ]
  },
  {
   "cell_type": "markdown",
   "metadata": {},
   "source": [
    "There are only 100 movie titles. The last line is blank, hence the 101 length. Let's slice off the last entry."
   ]
  },
  {
   "cell_type": "code",
   "execution_count": 26,
   "metadata": {},
   "outputs": [
    {
     "data": {
      "text/plain": [
       "100"
      ]
     },
     "execution_count": 26,
     "metadata": {},
     "output_type": "execute_result"
    }
   ],
   "source": [
    "titles = titles[:-1]\n",
    "len(titles)"
   ]
  },
  {
   "cell_type": "markdown",
   "metadata": {},
   "source": [
    "Finally we load the synopses."
   ]
  },
  {
   "cell_type": "code",
   "execution_count": 27,
   "metadata": {},
   "outputs": [
    {
     "name": "stdout",
     "output_type": "stream",
     "text": [
      "984976\n"
     ]
    }
   ],
   "source": [
    "f = open('data/synopses_list_wiki.txt')\n",
    "synopses_raw_data = f.read()  \n",
    "f.close()\n",
    "print(len(synopses_raw_data))"
   ]
  },
  {
   "cell_type": "markdown",
   "metadata": {},
   "source": [
    "Once again, the data is loaded as a single long string. Let's take a look at it to see how we should split it up."
   ]
  },
  {
   "cell_type": "code",
   "execution_count": 29,
   "metadata": {},
   "outputs": [],
   "source": [
    "synopses_raw_data[:100000]"
   ]
  },
  {
   "cell_type": "markdown",
   "metadata": {},
   "source": [
    "Looks like the different synopses are separated by 'BREAKS HERE'."
   ]
  },
  {
   "cell_type": "code",
   "execution_count": 30,
   "metadata": {},
   "outputs": [
    {
     "data": {
      "text/plain": [
       "101"
      ]
     },
     "execution_count": 30,
     "metadata": {},
     "output_type": "execute_result"
    }
   ],
   "source": [
    "synopses_list = synopses_raw_data.split('BREAKS HERE')\n",
    "len(synopses_list)"
   ]
  },
  {
   "cell_type": "markdown",
   "metadata": {},
   "source": [
    "Once again there is an extra entry."
   ]
  },
  {
   "cell_type": "code",
   "execution_count": 31,
   "metadata": {},
   "outputs": [],
   "source": [
    "synopses_list = synopses_list[:-1]"
   ]
  },
  {
   "cell_type": "markdown",
   "metadata": {},
   "source": [
    "Let's take a look at the synopsis for the first movie (The Godfather)."
   ]
  },
  {
   "cell_type": "code",
   "execution_count": 32,
   "metadata": {
    "scrolled": true
   },
   "outputs": [
    {
     "data": {
      "text/plain": [
       "' Plot  [edit]  [  [  edit  edit  ]  ]  \\n  On the day of his only daughter\\'s wedding, Vito Corleone hears requests in his role as the Godfather, the Don of a New York crime family. Vito\\'s youngest son, Michael, in a Marine Corps uniform, introduces his girlfriend, Kay Adams, to his family at the sprawling reception. Vito\\'s godson Johnny Fontane, a popular singer, pleads for help in securing a coveted movie role, so Vito dispatches his consigliere, Tom Hagen, to Los Angeles to influence the abrasive studio head, Jack Woltz. Woltz is unmoved until the morning he wakes up in bed with the severed head of his prized stallion.  On the day of his only daughter\\'s wedding,   Vito Corleone  Vito Corleone   hears requests in his role as the Godfather, the   Don  Don   of a New York crime family. Vito\\'s youngest son,   Michael  Michael  , in a   Marine Corps  Marine Corps   uniform, introduces his girlfriend,   Kay Adams  Kay Adams  , to his family at the sprawling reception. Vito\\'s godson   Johnny Fontane  Johnny Fontane  , a popular singer, pleads for help in securing a coveted movie role, so Vito dispatches his   consigliere  consigliere  ,   Tom Hagen  Tom Hagen  , to Los Angeles to influence the abrasive studio head,   Jack Woltz  Jack Woltz  . Woltz is unmoved until the morning he wakes up in bed with the severed head of his prized   stallion  stallion  .  \\n  Shortly before Christmas 1945, drug baron Virgil \"The Turk\" Sollozzo, backed by the Corleones\\' rivals, the Tattaglias, asks Vito for investment in the emerging drug trade and protection through his political connections. Vito disapproves of drug dealers, so he sends his enforcer, Luca Brasi, to spy on them. The family then receives two fish wrapped in Brasi\\'s vest, imparting that he \"sleeps with the fishes\". An assassination attempt by Sollozzo\\'s men lands Vito in the hospital, so his eldest son, Sonny, takes command. Sollozzo kidnaps Hagen to pressure Sonny to accept his deal. Michael thwarts a second assassination attempt on his father at the hospital; his jaw is broken by Police Captain McCluskey, who is also Sollozzo\\'s bodyguard. Sonny retaliates for the attacks on his father by having Tattaglia\\'s son killed. Michael comes up with a plan to hit Sollozzo and McCluskey: on the pretext of settling the dispute, Michael accepts their offer to meet in a Bronx restaurant and, retrieving a planted handgun, murders them.  Shortly before Christmas 1945, drug baron   Virgil \"The Turk\" Sollozzo  Virgil \"The Turk\" Sollozzo  , backed by the Corleones\\' rivals, the Tattaglias, asks Vito for investment in the emerging drug trade and protection through his political connections. Vito disapproves of drug dealers, so he sends his enforcer,   Luca Brasi  Luca Brasi  , to spy on them. The family then receives two fish wrapped in Brasi\\'s vest, imparting that he \"sleeps with the fishes\". An assassination attempt by Sollozzo\\'s men lands Vito in the hospital, so his eldest son,   Sonny  Sonny  , takes command. Sollozzo kidnaps Hagen to pressure Sonny to accept his deal. Michael thwarts a second assassination attempt on his father at the hospital; his jaw is broken by Police Captain McCluskey, who is also Sollozzo\\'s bodyguard. Sonny retaliates for the attacks on his father by having Tattaglia\\'s son killed. Michael comes up with a plan to hit Sollozzo and McCluskey: on the pretext of settling the dispute, Michael accepts their offer to meet in a Bronx restaurant and, retrieving a planted handgun, murders them.  \\n  Despite a clampdown from the authorities, the Five Families erupt in open warfare and the brothers fear for their safety. Michael takes refuge in Sicily, and Fredo Corleone is sheltered by associate Moe Greene in Las Vegas. Sonny attacks his brother-in-law Carlo on the street for abusing his sister Connie and threatens to kill him if he abuses her again. When it happens again, Sonny speeds for her home but assassins ambush him at a highway toll booth and riddle him with submachine gun fire. Michael\\'s time abroad has led to marriage to Apollonia Vitelli. Their euphoria is shattered when a car bomb intended for him takes her life.  Despite a clampdown from the authorities, the   Five Families  Five Families   erupt in open warfare and the brothers fear for their safety. Michael takes refuge in Sicily, and   Fredo Corleone  Fredo Corleone   is sheltered by associate   Moe Greene  Moe Greene   in   Las Vegas  Las Vegas  . Sonny attacks his brother-in-law   Carlo  Carlo   on the street for abusing his sister Connie and threatens to kill him if he abuses her again. When it happens again, Sonny speeds for her home but assassins ambush him at a highway toll booth and riddle him with submachine gun fire. Michael\\'s time abroad has led to marriage to Apollonia Vitelli. Their euphoria is shattered when a car bomb intended for him takes her life.  \\n  Devastated by Sonny\\'s death, Vito decides to end the feuds. Realising that the Tattaglias were under orders of the now dominant Don Emilio Barzini, he promises, before the heads of the Five Families, to withdraw his opposition to their heroin business and forgo revenge for his son\\'s murder. His safety guaranteed, Michael returns home to a father saddened by his involvement in the family business and marries Kay the next year.  Devastated by Sonny\\'s death, Vito decides to end the feuds. Realising that the Tattaglias were under orders of the now dominant Don   Emilio Barzini  Emilio Barzini  , he promises, before the heads of the Five Families, to withdraw his opposition to their heroin business and forgo revenge for his son\\'s murder. His safety guaranteed, Michael returns home to a father saddened by his involvement in the family business and marries Kay the next year.  \\n  With his father at the end of his career and his surviving brother too weak, Michael takes the reins of the family, promising Kay that he will make the business legitimate within five years. To that end, he insists Hagen relocate to Las Vegas and relinquish his role to Vito because Tom is not a \"wartime consigliere\"; the older man agrees Tom should \"have no part in what will happen\" in the coming battles with rival families. When Michael travels to Las Vegas to buy out Greene\\'s stake in the family\\'s casinos, Greene derides the Corleones as a fading power. To add injury to insult, Michael sees Fredo falling under Greene\\'s sway.  With his father at the end of his career and his surviving brother too weak, Michael takes the reins of the family, promising Kay that he will make the business legitimate within five years. To that end, he insists Hagen relocate to Las Vegas and relinquish his role to Vito because Tom is not a \"wartime consigliere\"; the older man agrees Tom should \"have no part in what will happen\" in the coming battles with rival families. When Michael travels to Las Vegas to buy out Greene\\'s stake in the family\\'s casinos, Greene derides the Corleones as a fading power. To add injury to insult, Michael sees Fredo falling under Greene\\'s sway.  \\n  Vito collapses and dies in his garden while playing with Michael\\'s son, Anthony. At the funeral, Salvatore Tessio arranges a meeting between Michael and Don Barzini, signalling his treachery as Vito had warned. The meeting is set for the same day as the christening of Connie\\'s son, to whom Michael will stand as godfather. As the christening proceeds, Corleone assassins, acting on Michael\\'s orders, murder the other New York dons and Moe Greene. Tessio is told that Michael is aware of his betrayal and taken off to his death. After Carlo is questioned by Michael on his involvement in setting up Sonny\\'s murder and confesses he was contacted by Barzini, Peter Clemenza kills him with a wire garrote. Michael is confronted by Connie, who accuses him of having her husband killed. He denies killing Carlo when questioned by Kay, an answer she accepts. As Kay watches warily, Michael receives his capos, who address him as the new Don Corleone.  Vito collapses and dies in his garden while playing with Michael\\'s son,   Anthony  Anthony  . At the funeral,   Salvatore Tessio  Salvatore Tessio   arranges a meeting between Michael and Don Barzini, signalling his treachery as Vito had warned. The meeting is set for the same day as the christening of Connie\\'s son, to whom Michael will stand as godfather. As the christening proceeds, Corleone assassins, acting on Michael\\'s orders, murder the other New York dons and Moe Greene. Tessio is told that Michael is aware of his betrayal and taken off to his death. After Carlo is questioned by Michael on his involvement in setting up Sonny\\'s murder and confesses he was contacted by Barzini,   Peter Clemenza  Peter Clemenza   kills him with a wire   garrote  garrote  . Michael is confronted by Connie, who accuses him of having her husband killed. He denies killing Carlo when questioned by Kay, an answer she accepts. As Kay watches warily, Michael receives his   capos  capos  , who address him as the new Don Corleone.  \\n \\n '"
      ]
     },
     "execution_count": 32,
     "metadata": {},
     "output_type": "execute_result"
    }
   ],
   "source": [
    "synopses_list[0]"
   ]
  },
  {
   "cell_type": "markdown",
   "metadata": {},
   "source": [
    "There is an annoying preamble which must come from Wikipedia, which should really be cut off. I'll do something hacky: copy and paste the offensive text, get its length, then just slice off the start of each synopsis by that length (there is probably a more elegant solution here...)."
   ]
  },
  {
   "cell_type": "code",
   "execution_count": 33,
   "metadata": {},
   "outputs": [],
   "source": [
    "synopses = [x[len(' Plot  [edit]  [  [  edit  edit  ]  ]  \\n  '):] for x in synopses_list]\n",
    "#synopses = list(map(lambda x:x[42:],synopses))"
   ]
  },
  {
   "cell_type": "code",
   "execution_count": 34,
   "metadata": {
    "scrolled": true
   },
   "outputs": [
    {
     "data": {
      "text/plain": [
       "'In 1963 Oregon, Randle Patrick \"Mac\" McMurphy (Jack Nicholson), a recidivist anti-authoritarian criminal serving a short sentence on a prison farm for statutory rape of a 15-year-old girl, is transferred to a mental institution for evaluation. Although he does not show any overt signs of mental illness, he hopes to avoid hard labor and serve the rest of his sentence in a more relaxed hospital environment.  In 1963 Oregon,   Randle Patrick \"Mac\" McMurphy  Randle Patrick \"Mac\" McMurphy   (  Jack Nicholson  Jack Nicholson  ), a   recidivist  recidivist   anti-authoritarian criminal serving a short sentence on a prison farm for   statutory rape  statutory rape   of a 15-year-old girl, is transferred to a   mental institution  mental institution   for evaluation. Although he does not show any overt signs of   mental illness  mental illness  , he hopes to avoid   hard labor  hard labor   and serve the rest of his sentence in a more relaxed hospital environment.  \\n  McMurphy\\'s ward is run by steely, unyielding Nurse Mildred Ratched (Louise Fletcher), who employs subtle humiliation, unpleasant medical treatments and a mind-numbing daily routine to suppress the patients. McMurphy finds that they are more fearful of Ratched than they are focused on becoming functional in the outside world. McMurphy establishes himself immediately as the leader; his fellow patients include Billy Bibbit (Brad Dourif), a nervous, stuttering young man; Charlie Cheswick (Sydney Lassick), a man disposed to childish fits of temper; Martini (Danny DeVito), who is delusional; Dale Harding (William Redfield), a high-strung, well-educated paranoid; Max Taber (Christopher Lloyd), who is belligerent and profane; Jim Sefelt (William Duell), who is epileptic; and \"Chief\" Bromden (Will Sampson), a silent American Indian of imposing stature believed to be deaf and mute.  McMurphy\\'s ward is run by steely, unyielding   Nurse Mildred Ratched  Nurse Mildred Ratched   (  Louise Fletcher  Louise Fletcher  ), who employs subtle humiliation, unpleasant medical treatments and a mind-numbing daily routine to suppress the patients. McMurphy finds that they are more fearful of Ratched than they are focused on becoming functional in the outside world. McMurphy establishes himself immediately as the leader; his fellow patients include Billy Bibbit (  Brad Dourif  Brad Dourif  ), a nervous,   stuttering  stuttering   young man; Charlie Cheswick (  Sydney Lassick  Sydney Lassick  ), a man disposed to childish fits of temper; Martini (  Danny DeVito  Danny DeVito  ), who is delusional; Dale Harding (  William Redfield  William Redfield  ), a high-strung, well-educated paranoid; Max Taber (  Christopher Lloyd  Christopher Lloyd  ), who is belligerent and profane; Jim Sefelt (  William Duell  William Duell  ), who is epileptic; and \"Chief\" Bromden (  Will Sampson  Will Sampson  ), a silent   American Indian  American Indian   of imposing stature believed to be deaf and mute.  \\n  McMurphy\\'s and Ratched\\'s battle of wills escalates rapidly. When McMurphy\\'s card games win away everyone\\'s cigarettes, Ratched confiscates the cigarettes and rations them out. McMurphy calls for votes on ward policy changes to challenge her. He makes a show of betting the other patients he can escape by lifting an old hydrotherapy console—a massive marble plumbing fixture—off the floor and sending it through the window; when he fails to do so, he turns to them and says, \"But I tried goddammit. At least I did that.\"  McMurphy\\'s and Ratched\\'s battle of wills escalates rapidly. When McMurphy\\'s card games win away everyone\\'s cigarettes, Ratched confiscates the cigarettes and rations them out. McMurphy calls for votes on ward policy changes to challenge her. He makes a show of betting the other patients he can escape by lifting an old   hydrotherapy  hydrotherapy   console—a massive marble plumbing fixture—off the floor and sending it through the window; when he fails to do so, he turns to them and says, \"But I   tried  tried   goddammit. At least I did that.\"  \\n  McMurphy steals a hospital bus, herds his colleagues aboard, stops to pick up Candy (Marya Small), a party girl, and takes the group deep sea fishing on a commandeered boat. He tells them: \"You\\'re not nuts, you\\'re fishermen!\" and they begin to feel faint stirrings of self-determination.  McMurphy steals a hospital bus, herds his colleagues aboard, stops to pick up Candy (  Marya Small  Marya Small  ), a party girl, and takes the group deep sea fishing on a commandeered boat. He tells them: \"You\\'re not nuts, you\\'re fishermen!\" and they begin to feel faint stirrings of self-determination.  \\n  Soon after, however, McMurphy learns that Ratched and the doctors have the power to keep him committed indefinitely. Sensing a rising tide of insurrection among the group, Ratched tightens her grip on everyone. During one of her group therapy sessions, Cheswick\\'s agitation boils over and he, McMurphy and the Chief wind up brawling with the orderlies. They are sent up to the \"shock shop\" for electroconvulsive therapy. While McMurphy and the Chief wait their turn, McMurphy offers Chief a piece of gum, and Chief murmurs \"Thank you...Ah, Juicy Fruit.\" McMurphy is delighted to find that Bromden is neither deaf nor mute, and that he stays silent to deflect attention. After the electroshock therapy, McMurphy shuffles back onto the ward feigning brain damage, before humorously animating his face and loudly greeting his fellow patients, assuring everyone that the ECT only charged him up all the more and that the next woman to take him on will \"light up like a pinball machine and pay off in silver dollars.\"  Soon after, however, McMurphy learns that Ratched and the doctors have the power to keep him committed indefinitely. Sensing a rising tide of insurrection among the group, Ratched tightens her grip on everyone. During one of her group therapy sessions, Cheswick\\'s agitation boils over and he, McMurphy and the Chief wind up brawling with the orderlies. They are sent up to the \"shock shop\" for   electroconvulsive therapy  electroconvulsive therapy  . While McMurphy and the Chief wait their turn, McMurphy offers Chief a piece of gum, and Chief murmurs \"Thank you...Ah, Juicy Fruit.\" McMurphy is delighted to find that Bromden is neither deaf nor mute, and that he stays silent to deflect attention. After the electroshock therapy, McMurphy shuffles back onto the ward feigning brain damage, before humorously animating his face and loudly greeting his fellow patients, assuring everyone that the ECT only charged him up all the more and that the next woman to take him on will \"light up like a pinball machine and pay off in silver dollars.\"  \\n  But the struggle with Ratched is taking its toll, and with his release date no longer a certainty, McMurphy plans an escape. He phones Candy to bring her friend Rose (Louisa Moritz) and some booze to the hospital late one night. They enter through a window after McMurphy bribes the night orderly, Mr. Turkle (Scatman Crothers). McMurphy and Candy invite the patients into the day room for a Christmas party; the group breaks into the drug locker, puts on music, and enjoys a bacchanalian rampage. At the end of the night, McMurphy and Bromden prepare to climb out the window with the girls. McMurphy says goodbye to everyone, and invites an emotional Billy to escape with them; he declines, saying he is not yet ready to leave the hospital—though he would like to date Candy in the future. McMurphy insists Billy have sex with Candy right then and there. Billy and Candy agree and they retire to a private room. The effects of the alcohol and pilfered medication take their toll on everyone, including McMurphy and the Chief, whose eyes slowly close in fatigue.  But the struggle with Ratched is taking its toll, and with his release date no longer a certainty, McMurphy plans an escape. He phones Candy to bring her friend Rose (  Louisa Moritz  Louisa Moritz  ) and some booze to the hospital late one night. They enter through a window after McMurphy bribes the night orderly, Mr. Turkle (  Scatman Crothers  Scatman Crothers  ). McMurphy and Candy invite the patients into the day room for a Christmas party; the group breaks into the drug locker, puts on music, and enjoys a   bacchanalian  bacchanalian   rampage. At the end of the night, McMurphy and Bromden prepare to climb out the window with the girls. McMurphy says goodbye to everyone, and invites an emotional Billy to escape with them; he declines, saying he is not yet ready to leave the hospital—though he   would  would   like to date Candy in the future. McMurphy insists Billy have sex with Candy right then and there. Billy and Candy agree and they retire to a private room. The effects of the alcohol and pilfered medication take their toll on everyone, including McMurphy and the Chief, whose eyes slowly close in fatigue.  \\n  Ratched arrives the following morning and discovers the scene: the ward completely upended and patients passed out all over the floor. She orders the attendants to lock the window, clean up, and conduct a head count. When they find Billy and Candy, the other patients applaud and, buoyed, Billy speaks for the first time without a stutter. Ratched then announces that she will tell Billy\\'s mother what he has done. Billy panics, his stutter returns, and he starts punching himself; locked in the doctor\\'s office, he kills himself. McMurphy, enraged at Ratched, chokes her nearly to death until orderly Washington knocks him out.  Ratched arrives the following morning and discovers the scene: the ward completely upended and patients passed out all over the floor. She orders the attendants to lock the window, clean up, and conduct a head count. When they find Billy and Candy, the other patients applaud and, buoyed, Billy speaks for the first time without a stutter. Ratched then announces that she will tell Billy\\'s mother what he has done. Billy panics, his stutter returns, and he starts punching himself; locked in the doctor\\'s office, he kills himself. McMurphy, enraged at Ratched, chokes her nearly to death until orderly Washington knocks him out.  \\n  Some time later, the patients in the ward play cards and gamble for cigarettes as before, only now with Harding dealing and delivering a pale imitation of McMurphy\\'s patter. Ratched, still recovering from the neck injury sustained during McMurphy\\'s attack, wears a neck brace and speaks in a thin, reedy voice. The patients pass a whispered rumor that McMurphy dramatically escaped the hospital rather than being taken \"upstairs\".  Some time later, the patients in the ward play cards and gamble for cigarettes as before, only now with Harding dealing and delivering a pale imitation of McMurphy\\'s patter. Ratched, still recovering from the neck injury sustained during McMurphy\\'s attack, wears a neck brace and speaks in a thin, reedy voice. The patients pass a whispered rumor that McMurphy dramatically escaped the hospital rather than being taken \"upstairs\".  \\n  Late that night, Bromden sees McMurphy being escorted back to his bed, and initially believes that he has returned so they can escape together, which he is now ready to do since McMurphy has made him feel \"as big as a mountain\". However, when he looks closely at McMurphy\\'s unresponsive face, he is horrified to see lobotomy scars on his forehead. Unwilling to allow McMurphy to live in such a state, the Chief smothers McMurphy to death with his pillow. He then carries out McMurphy\\'s escape plan by lifting the hydrotherapy console off the floor and hurling the massive fixture through a grated window. Chief climbs through the window and runs off into the distance, with Taber waking up just in time to see him escape and cheering as the others awake.  Late that night, Bromden sees McMurphy being escorted back to his bed, and initially believes that he has returned so they can escape together, which he is now ready to do since McMurphy has made him feel \"as big as a mountain\". However, when he looks closely at McMurphy\\'s unresponsive face, he is horrified to see   lobotomy  lobotomy   scars on his forehead. Unwilling to allow McMurphy to live in such a state, the Chief smothers McMurphy to death with his pillow. He then carries out McMurphy\\'s escape plan by lifting the hydrotherapy console off the floor and hurling the massive fixture through a grated window. Chief climbs through the window and runs off into the distance, with Taber waking up just in time to see him escape and cheering as the others awake.  \\n \\n '"
      ]
     },
     "execution_count": 34,
     "metadata": {},
     "output_type": "execute_result"
    }
   ],
   "source": [
    "# Check that the solution worked by looking at a few examples\n",
    "synopses[5]"
   ]
  },
  {
   "cell_type": "markdown",
   "metadata": {},
   "source": [
    "### Tokenizing and Removing Stop Words\n",
    "\n",
    "Now our goal is to compare the movie synopses. Of course, any block of natural language text will contain many instances of common words like 'the', 'an', etc. As the next preprocessing step, we would like to turn each synopsis into a list of words with these common words (called \"stop words\") removed.\n",
    "\n",
    "We'll use a package called `nltk` (Natural Language Tool Kit) The `nltk` has a list of stop words built in, which may take a second to download."
   ]
  },
  {
   "cell_type": "code",
   "execution_count": 35,
   "metadata": {},
   "outputs": [
    {
     "name": "stderr",
     "output_type": "stream",
     "text": [
      "[nltk_data] Downloading package stopwords to /Users/Tom/nltk_data...\n",
      "[nltk_data]   Package stopwords is already up-to-date!\n",
      "[nltk_data] Downloading package punkt to /Users/Tom/nltk_data...\n",
      "[nltk_data]   Package punkt is already up-to-date!\n"
     ]
    },
    {
     "data": {
      "text/plain": [
       "True"
      ]
     },
     "execution_count": 35,
     "metadata": {},
     "output_type": "execute_result"
    }
   ],
   "source": [
    "import nltk # Import nltk\n",
    "# Import and download stop words\n",
    "from nltk.corpus import stopwords\n",
    "nltk.download('stopwords')\n",
    "# Import the 'word_tokenize' function\n",
    "from nltk.tokenize import word_tokenize\n",
    "# The following is used in the tokenize function\n",
    "nltk.download('punkt')"
   ]
  },
  {
   "cell_type": "code",
   "execution_count": 37,
   "metadata": {
    "scrolled": true
   },
   "outputs": [
    {
     "data": {
      "text/plain": [
       "['i',\n",
       " 'me',\n",
       " 'my',\n",
       " 'myself',\n",
       " 'we',\n",
       " 'our',\n",
       " 'ours',\n",
       " 'ourselves',\n",
       " 'you',\n",
       " \"you're\",\n",
       " \"you've\",\n",
       " \"you'll\",\n",
       " \"you'd\",\n",
       " 'your',\n",
       " 'yours',\n",
       " 'yourself',\n",
       " 'yourselves',\n",
       " 'he',\n",
       " 'him',\n",
       " 'his',\n",
       " 'himself',\n",
       " 'she',\n",
       " \"she's\",\n",
       " 'her',\n",
       " 'hers',\n",
       " 'herself',\n",
       " 'it',\n",
       " \"it's\",\n",
       " 'its',\n",
       " 'itself',\n",
       " 'they',\n",
       " 'them',\n",
       " 'their',\n",
       " 'theirs',\n",
       " 'themselves',\n",
       " 'what',\n",
       " 'which',\n",
       " 'who',\n",
       " 'whom',\n",
       " 'this',\n",
       " 'that',\n",
       " \"that'll\",\n",
       " 'these',\n",
       " 'those',\n",
       " 'am',\n",
       " 'is',\n",
       " 'are',\n",
       " 'was',\n",
       " 'were',\n",
       " 'be',\n",
       " 'been',\n",
       " 'being',\n",
       " 'have',\n",
       " 'has',\n",
       " 'had',\n",
       " 'having',\n",
       " 'do',\n",
       " 'does',\n",
       " 'did',\n",
       " 'doing',\n",
       " 'a',\n",
       " 'an',\n",
       " 'the',\n",
       " 'and',\n",
       " 'but',\n",
       " 'if',\n",
       " 'or',\n",
       " 'because',\n",
       " 'as',\n",
       " 'until',\n",
       " 'while',\n",
       " 'of',\n",
       " 'at',\n",
       " 'by',\n",
       " 'for',\n",
       " 'with',\n",
       " 'about',\n",
       " 'against',\n",
       " 'between',\n",
       " 'into',\n",
       " 'through',\n",
       " 'during',\n",
       " 'before',\n",
       " 'after',\n",
       " 'above',\n",
       " 'below',\n",
       " 'to',\n",
       " 'from',\n",
       " 'up',\n",
       " 'down',\n",
       " 'in',\n",
       " 'out',\n",
       " 'on',\n",
       " 'off',\n",
       " 'over',\n",
       " 'under',\n",
       " 'again',\n",
       " 'further',\n",
       " 'then',\n",
       " 'once',\n",
       " 'here',\n",
       " 'there',\n",
       " 'when',\n",
       " 'where',\n",
       " 'why',\n",
       " 'how',\n",
       " 'all',\n",
       " 'any',\n",
       " 'both',\n",
       " 'each',\n",
       " 'few',\n",
       " 'more',\n",
       " 'most',\n",
       " 'other',\n",
       " 'some',\n",
       " 'such',\n",
       " 'no',\n",
       " 'nor',\n",
       " 'not',\n",
       " 'only',\n",
       " 'own',\n",
       " 'same',\n",
       " 'so',\n",
       " 'than',\n",
       " 'too',\n",
       " 'very',\n",
       " 's',\n",
       " 't',\n",
       " 'can',\n",
       " 'will',\n",
       " 'just',\n",
       " 'don',\n",
       " \"don't\",\n",
       " 'should',\n",
       " \"should've\",\n",
       " 'now',\n",
       " 'd',\n",
       " 'll',\n",
       " 'm',\n",
       " 'o',\n",
       " 're',\n",
       " 've',\n",
       " 'y',\n",
       " 'ain',\n",
       " 'aren',\n",
       " \"aren't\",\n",
       " 'couldn',\n",
       " \"couldn't\",\n",
       " 'didn',\n",
       " \"didn't\",\n",
       " 'doesn',\n",
       " \"doesn't\",\n",
       " 'hadn',\n",
       " \"hadn't\",\n",
       " 'hasn',\n",
       " \"hasn't\",\n",
       " 'haven',\n",
       " \"haven't\",\n",
       " 'isn',\n",
       " \"isn't\",\n",
       " 'ma',\n",
       " 'mightn',\n",
       " \"mightn't\",\n",
       " 'mustn',\n",
       " \"mustn't\",\n",
       " 'needn',\n",
       " \"needn't\",\n",
       " 'shan',\n",
       " \"shan't\",\n",
       " 'shouldn',\n",
       " \"shouldn't\",\n",
       " 'wasn',\n",
       " \"wasn't\",\n",
       " 'weren',\n",
       " \"weren't\",\n",
       " 'won',\n",
       " \"won't\",\n",
       " 'wouldn',\n",
       " \"wouldn't\"]"
      ]
     },
     "execution_count": 37,
     "metadata": {},
     "output_type": "execute_result"
    }
   ],
   "source": [
    "# Store the stopwords in a list and take a look at them\n",
    "stop_words = stopwords.words('english')\n",
    "stop_words"
   ]
  },
  {
   "cell_type": "markdown",
   "metadata": {},
   "source": [
    "Now the plan is to split each synopsis into a list of words, then remove all stop words. We will use the `word_tokenize` function from `nltk`.\n",
    "\n",
    "We could also just use `.split(' ')`. The benefit here is that `word_tokenize` will also split off punctuation into its own entry, which will make our lives a bit easier. There will still be some work to do to clean up the tokenized word list, so let's start by working through an example."
   ]
  },
  {
   "cell_type": "code",
   "execution_count": 38,
   "metadata": {},
   "outputs": [
    {
     "data": {
      "text/plain": [
       "['On',\n",
       " 'the',\n",
       " 'day',\n",
       " 'of',\n",
       " 'his',\n",
       " 'only',\n",
       " 'daughter',\n",
       " \"'s\",\n",
       " 'wedding',\n",
       " ',',\n",
       " 'Vito',\n",
       " 'Corleone',\n",
       " 'hears',\n",
       " 'requests',\n",
       " 'in',\n",
       " 'his',\n",
       " 'role',\n",
       " 'as',\n",
       " 'the',\n",
       " 'Godfather']"
      ]
     },
     "execution_count": 38,
     "metadata": {},
     "output_type": "execute_result"
    }
   ],
   "source": [
    "example = synopses[0]\n",
    "\n",
    "word_tokens = word_tokenize(example)\n",
    "\n",
    "word_tokens[:20]"
   ]
  },
  {
   "cell_type": "markdown",
   "metadata": {},
   "source": [
    "### Exercise\n",
    "\n",
    "We see that `','` appears as a word in the list. We would like to remove punctuation from this list. Define a new list called `word_tokens2` where all entries of the above list containing only punctuation are removed. I've helped you out by creating a list of stuff that we want to remove."
   ]
  },
  {
   "cell_type": "code",
   "execution_count": 39,
   "metadata": {},
   "outputs": [
    {
     "ename": "NameError",
     "evalue": "name 'word_tokens2' is not defined",
     "output_type": "error",
     "traceback": [
      "\u001b[0;31m---------------------------------------------------------------------------\u001b[0m",
      "\u001b[0;31mNameError\u001b[0m                                 Traceback (most recent call last)",
      "\u001b[0;32m<ipython-input-39-3693bea58a88>\u001b[0m in \u001b[0;36m<module>\u001b[0;34m\u001b[0m\n\u001b[1;32m      5\u001b[0m \u001b[0;34m\u001b[0m\u001b[0m\n\u001b[1;32m      6\u001b[0m \u001b[0;31m# Once it is defined, take a look at the result to make sure it worked.\u001b[0m\u001b[0;34m\u001b[0m\u001b[0;34m\u001b[0m\u001b[0;34m\u001b[0m\u001b[0m\n\u001b[0;32m----> 7\u001b[0;31m \u001b[0mword_tokens2\u001b[0m\u001b[0;34m[\u001b[0m\u001b[0;34m:\u001b[0m\u001b[0;36m20\u001b[0m\u001b[0;34m]\u001b[0m\u001b[0;34m\u001b[0m\u001b[0;34m\u001b[0m\u001b[0m\n\u001b[0m",
      "\u001b[0;31mNameError\u001b[0m: name 'word_tokens2' is not defined"
     ]
    }
   ],
   "source": [
    "# Define the list of extra stuff to remove\n",
    "punctuation = ['.',',',';',':',\"'s\",' ',\"' '\",\"'\",\"``\",\"''\",'(',')',\"'re\",'!','?','_','...','$','[',']']\n",
    "\n",
    "# Define the word_tokens2 list below.\n",
    "\n",
    "# Once it is defined, take a look at the result to make sure it worked.\n",
    "word_tokens2[:20]"
   ]
  },
  {
   "cell_type": "markdown",
   "metadata": {},
   "source": [
    "Note that the `stopwords` set only contains words in all lower case. We can transfer each word in `word_tokens` into lower case using the `.lower()` function."
   ]
  },
  {
   "cell_type": "code",
   "execution_count": null,
   "metadata": {},
   "outputs": [],
   "source": [
    "word_tokens3 = list(map(lambda x:x.lower(),word_tokens2))\n",
    "\n",
    "word_tokens3[:20]"
   ]
  },
  {
   "cell_type": "markdown",
   "metadata": {},
   "source": [
    "Almost there! Now we can remove the stop words."
   ]
  },
  {
   "cell_type": "code",
   "execution_count": null,
   "metadata": {},
   "outputs": [],
   "source": [
    "#word_tokens4 = list(filter(lambda x: x not in stop_words,word_tokens3))\n",
    "word_tokens4 = [x for x in word_tokens3 if x not in stop_words]\n",
    "\n",
    "word_tokens4[:20]"
   ]
  },
  {
   "cell_type": "markdown",
   "metadata": {},
   "source": [
    "It looks like we have obtained the desired result. Now we can define a function to automate the above procedure."
   ]
  },
  {
   "cell_type": "code",
   "execution_count": 40,
   "metadata": {},
   "outputs": [],
   "source": [
    "def synopsis_filter(synopsis):\n",
    "    # Get the initial list of word tokens\n",
    "    word_tokens = word_tokenize(synopsis)\n",
    "    # Remove punctuation. No need to keep making new variables, we can just update the old one.\n",
    "    word_tokens = [x for x in word_tokens if x not in punctuation]\n",
    "    # Transform words to lower case\n",
    "    word_tokens = [x.lower() for x in word_tokens]\n",
    "    # Remove stop words\n",
    "    word_tokens = [x for x in word_tokens if x not in stop_words]\n",
    "    return word_tokens"
   ]
  },
  {
   "cell_type": "code",
   "execution_count": 45,
   "metadata": {},
   "outputs": [
    {
     "data": {
      "text/plain": [
       "['1939',\n",
       " 'germans',\n",
       " 'move',\n",
       " 'polish',\n",
       " 'jews',\n",
       " 'kraków',\n",
       " 'ghetto',\n",
       " 'world',\n",
       " 'war',\n",
       " 'ii',\n",
       " 'begins',\n",
       " 'oskar',\n",
       " 'schindler',\n",
       " 'ethnic',\n",
       " 'german',\n",
       " 'arrives',\n",
       " 'city',\n",
       " 'hoping',\n",
       " 'make',\n",
       " 'fortune']"
      ]
     },
     "execution_count": 45,
     "metadata": {},
     "output_type": "execute_result"
    }
   ],
   "source": [
    "# Test on a couple of examples to make sure it works\n",
    "synopsis_filter(synopses[2])[:20]"
   ]
  },
  {
   "cell_type": "markdown",
   "metadata": {},
   "source": [
    "Applying `synopsis_filter` to our list of synopses produces a nice data set with only the interesting words from each synopsis.\n",
    "\n",
    "Out of curiosity, I did this with both `map` and list comprehension and compared computing time. "
   ]
  },
  {
   "cell_type": "code",
   "execution_count": 46,
   "metadata": {},
   "outputs": [
    {
     "name": "stdout",
     "output_type": "stream",
     "text": [
      "1.6585280895233154\n"
     ]
    }
   ],
   "source": [
    "import time\n",
    "start = time.time()\n",
    "filtered_synopses = list(map(synopsis_filter,synopses))\n",
    "end = time.time()\n",
    "\n",
    "print(end-start)"
   ]
  },
  {
   "cell_type": "code",
   "execution_count": 47,
   "metadata": {},
   "outputs": [
    {
     "name": "stdout",
     "output_type": "stream",
     "text": [
      "1.640437126159668\n"
     ]
    }
   ],
   "source": [
    "start = time.time()\n",
    "filtered_synopses_LC = [synopsis_filter(x) for x in synopses]\n",
    "end = time.time()\n",
    "\n",
    "print(end-start)"
   ]
  },
  {
   "cell_type": "code",
   "execution_count": 49,
   "metadata": {},
   "outputs": [
    {
     "name": "stderr",
     "output_type": "stream",
     "text": [
      "/anaconda3/lib/python3.7/site-packages/scipy/io/matlab/miobase.py:414: FutureWarning: Using a non-tuple sequence for multidimensional indexing is deprecated; use `arr[tuple(seq)]` instead of `arr[seq]`. In the future this will be interpreted as an array index, `arr[np.array(seq)]`, which will result either in an error or a different result.\n",
      "  arr[empties] = ' '\n"
     ]
    }
   ],
   "source": [
    "import scipy.io as sio\n",
    "sio.savemat('filtered_synopses.mat', {'filtered_synopses':filtered_synopses})"
   ]
  },
  {
   "cell_type": "markdown",
   "metadata": {},
   "source": [
    "Trying the above a couple of times, it looks like `map` does provide some small speed advantage. If you are doing a more intense computation, it could be that the speed gain is not trivial!"
   ]
  },
  {
   "cell_type": "code",
   "execution_count": 48,
   "metadata": {},
   "outputs": [
    {
     "data": {
      "text/plain": [
       "['brief',\n",
       " 'scene',\n",
       " '1964',\n",
       " 'aging',\n",
       " 'overweight',\n",
       " 'italian',\n",
       " 'american',\n",
       " 'jake',\n",
       " 'lamotta',\n",
       " 'robert',\n",
       " 'de',\n",
       " 'niro',\n",
       " 'practices',\n",
       " 'comedy',\n",
       " 'routine',\n",
       " 'rest',\n",
       " 'film',\n",
       " 'occurs',\n",
       " 'flashback',\n",
       " '1941']"
      ]
     },
     "execution_count": 48,
     "metadata": {},
     "output_type": "execute_result"
    }
   ],
   "source": [
    "# Look at a couple of examples to make sure our data looks good\n",
    "filtered_synopses[3][:20]"
   ]
  },
  {
   "cell_type": "markdown",
   "metadata": {},
   "source": [
    "## Common Words Between Synopses\n",
    "\n",
    "One way that we could understand similarity between synopses would be to count the number of common words between them. This is easily accomplished by using set objects and taking intersections.\n",
    "\n",
    "To start, let's compare all synopses to the synopsis for The Godfather."
   ]
  },
  {
   "cell_type": "code",
   "execution_count": null,
   "metadata": {
    "scrolled": true
   },
   "outputs": [],
   "source": [
    "# Define the Godfather word set\n",
    "Godfather_word_set = set(filtered_synopses[0])\n",
    "\n",
    "# For every other synopsis, find its word set, intersect it with the word set for The Godfather\n",
    "# then compute the magnitude of the result.\n",
    "same_words_count = [len(set(synopsis).intersection(Godfather_word_set)) for synopsis in filtered_synopses]\n",
    "\n",
    "# We can now plot these similar word counts.\n",
    "import matplotlib.pyplot as plt\n",
    "\n",
    "plt.plot(same_words_count[1:])\n",
    "# Plot starting at index 1.\n",
    "# Godfather has all words in common with itself, so if we plot from index 0 the graph is not very informative."
   ]
  },
  {
   "cell_type": "markdown",
   "metadata": {},
   "source": [
    "We see that there are couple of outliers here. Let's check the titles."
   ]
  },
  {
   "cell_type": "code",
   "execution_count": null,
   "metadata": {},
   "outputs": [],
   "source": [
    "# We can find the locations of these outliers using the argmax and argmin functions from numpy\n",
    "import numpy as np\n",
    "most_similar = np.argmax(same_words_count[1:])\n",
    "least_similar = np.argmin(same_words_count)\n",
    "\n",
    "print('The most similar movie to The Godfather is '+titles[most_similar+1])\n",
    "# We need to reshift the 'most similar' result because we indexed it differently in our calculation.\n",
    "print('The least similar movie to The Godfather is '+titles[least_similar])"
   ]
  },
  {
   "cell_type": "markdown",
   "metadata": {},
   "source": [
    "Now that we've done this for a single movie, we can compare all pairs of movies. We just have to run the above computation for each movie."
   ]
  },
  {
   "cell_type": "code",
   "execution_count": null,
   "metadata": {},
   "outputs": [],
   "source": [
    "movie_similarities = []\n",
    "for j in range(100):\n",
    "    word_set = set(filtered_synopses[j])\n",
    "    same_words_count = [len(set(synopsis).intersection(word_set)) for synopsis in filtered_synopses]\n",
    "    movie_similarities.append(same_words_count)"
   ]
  },
  {
   "cell_type": "code",
   "execution_count": null,
   "metadata": {},
   "outputs": [],
   "source": [
    "# Check that the lists make sense\n",
    "movie_similarities[2][:10]"
   ]
  },
  {
   "cell_type": "code",
   "execution_count": null,
   "metadata": {},
   "outputs": [],
   "source": [
    "# Check that this agrees with our previous work by plotting\n",
    "plt.plot(movie_similarities[0][1:])"
   ]
  },
  {
   "cell_type": "markdown",
   "metadata": {},
   "source": [
    "We can then define a list where the $k$th index gives the index of the movie which is least similar to $k$."
   ]
  },
  {
   "cell_type": "code",
   "execution_count": null,
   "metadata": {},
   "outputs": [],
   "source": [
    "least_similar_movies = [np.argmin(movie_similarities[k]) for k in range(100)]\n",
    "least_similar_movies"
   ]
  },
  {
   "cell_type": "markdown",
   "metadata": {},
   "source": [
    "Hmmm... Looks like Yankee Doodle Dandy has a synopsis which is least similar to lots of movies. We might want to run that again, but exclude Yankee Doodle Dandy."
   ]
  },
  {
   "cell_type": "code",
   "execution_count": null,
   "metadata": {
    "scrolled": false
   },
   "outputs": [],
   "source": [
    "least_similar_movies = [np.argmin(movie_similarities[k][:99]) for k in range(100)]\n",
    "least_similar_movies"
   ]
  },
  {
   "cell_type": "markdown",
   "metadata": {},
   "source": [
    "We can now create a dictionary with a key for each film and the values given by least similar movies. This will be a lot easier to read."
   ]
  },
  {
   "cell_type": "code",
   "execution_count": null,
   "metadata": {},
   "outputs": [],
   "source": [
    "least_similar_dict = {}\n",
    "\n",
    "for j in range(100):\n",
    "    least_similar_dict[titles[j]] = titles[least_similar_movies[j]]"
   ]
  },
  {
   "cell_type": "code",
   "execution_count": null,
   "metadata": {
    "scrolled": false
   },
   "outputs": [],
   "source": [
    "least_similar_dict"
   ]
  },
  {
   "cell_type": "markdown",
   "metadata": {},
   "source": [
    "Since we used a dictionary, we can look up least similar movies by name."
   ]
  },
  {
   "cell_type": "code",
   "execution_count": null,
   "metadata": {},
   "outputs": [],
   "source": [
    "least_similar_dict['Rocky']"
   ]
  },
  {
   "cell_type": "markdown",
   "metadata": {},
   "source": [
    "### Exercise\n",
    "\n",
    "Create a list `most_similar_movies` such that the $k$th entry gives the index of the movie synopsis which is *most* similar to the $k$th movie's. \n",
    "\n",
    "Of course, each synopsis is most similar to itself. This means that the $k$th entry should be the movie synopsis which is most similar to the $k$th movie's *excluding the $k$th movie itself*.\n",
    "\n",
    "Also define a dictionary called `most_similar_dict` in analogy with `least_similar_dict`."
   ]
  },
  {
   "cell_type": "code",
   "execution_count": null,
   "metadata": {},
   "outputs": [],
   "source": []
  },
  {
   "cell_type": "markdown",
   "metadata": {},
   "source": [
    "### Homework\n",
    "\n",
    "The most similar movies list seems to be dominated by The Deer Hunter, All Quiet on the Western Front and Nashville. It might be interesting to remove these movies as options and rerun the 'most similar' computation. Give this a try. You may have to be creative, and you should definitely check that you are getting indexing correct!"
   ]
  },
  {
   "cell_type": "code",
   "execution_count": null,
   "metadata": {},
   "outputs": [],
   "source": []
  },
  {
   "cell_type": "markdown",
   "metadata": {},
   "source": [
    "## Similarity by Word Counts\n",
    "\n",
    "Counting common words gives some interesting results, but there are many other ways we could try to measure similarity between texts.\n",
    "\n",
    "Let's try another method to measure similarity. We will first create a list containing all unique words which appear in all 100 synopses."
   ]
  },
  {
   "cell_type": "code",
   "execution_count": null,
   "metadata": {},
   "outputs": [],
   "source": [
    "# The first computation creates one big list out of synopses (a list of lists)\n",
    "flat_word_list = [word for synopsis in filtered_synopses for word in synopsis]\n",
    "\n",
    "# Note the nexted 'for' loops in the above. Order matters here. \n",
    "# The code below gives an error\n",
    "#flat_word_list = [word for word in synopsis for synopsis in filtered_synopses]\n",
    "\n",
    "# Now we want to remove repeat words. \n",
    "word_list_no_repeats = list(set(flat_word_list)) # A set object doesn't have repeated entries"
   ]
  },
  {
   "cell_type": "markdown",
   "metadata": {},
   "source": [
    "Out of curiosity, let's look at how much was removed by trimming our list to unique words."
   ]
  },
  {
   "cell_type": "code",
   "execution_count": null,
   "metadata": {},
   "outputs": [],
   "source": [
    "len(flat_word_list), len(word_list_no_repeats)"
   ]
  },
  {
   "cell_type": "markdown",
   "metadata": {},
   "source": [
    "Now we can count the number of occurences of each word in each of the synopses to get a word vector."
   ]
  },
  {
   "cell_type": "code",
   "execution_count": null,
   "metadata": {},
   "outputs": [],
   "source": [
    "word_vectors = []\n",
    "\n",
    "for j in range(len(filtered_synopses)):\n",
    "    vec = []\n",
    "    synopsis = filtered_synopses[j] \n",
    "    for k in range(len(word_list_no_repeats)):\n",
    "        vec.append(synopsis.count(word_list_no_repeats[k]))\n",
    "        # Using the function .count(key) which counts the number of occurences of key in the list \n",
    "    word_vectors.append(vec)"
   ]
  },
  {
   "cell_type": "markdown",
   "metadata": {},
   "source": [
    "Each word vector is a vector in $\\mathbb{R}^{10902}$. Since the synopses vary quite a lot in length, it might be useful to turn our word vectors into unit vectors. The result gives a collection of 100 points on the $10901$-dimensional unit sphere!"
   ]
  },
  {
   "cell_type": "code",
   "execution_count": null,
   "metadata": {},
   "outputs": [],
   "source": [
    "import numpy as np\n",
    "normalized_word_vectors = [x/np.linalg.norm(x) for x in word_vectors]"
   ]
  },
  {
   "cell_type": "markdown",
   "metadata": {},
   "source": [
    "Let's define a function to measure the angle between unit vectors. If we think of each unit vector as a point on the unit sphere, then the angle between the vectors gives a measure of distance between the points (i.e., the angle function is a *metric* on the sphere, called *geodesic distance*)."
   ]
  },
  {
   "cell_type": "code",
   "execution_count": null,
   "metadata": {},
   "outputs": [],
   "source": [
    "def angle(u,v):\n",
    "    uu = u/np.linalg.norm(u)\n",
    "    vv = v/np.linalg.norm(v)\n",
    "    if np.dot(uu,vv) > 0.999999: # Guard against numerical errors with the arccos function\n",
    "        return 0\n",
    "    else:\n",
    "        return np.arccos(np.dot(uu,vv))"
   ]
  },
  {
   "cell_type": "code",
   "execution_count": null,
   "metadata": {},
   "outputs": [],
   "source": [
    "# Test; the output should be pi/2 ~ 1.57\n",
    "u = np.array([1,0,0])\n",
    "v = np.array([0,1,0])\n",
    "angle(u,v)"
   ]
  },
  {
   "cell_type": "code",
   "execution_count": null,
   "metadata": {},
   "outputs": [],
   "source": [
    "# Test; the output should be 0 \n",
    "angle(normalized_word_vectors[0],normalized_word_vectors[0])"
   ]
  },
  {
   "cell_type": "markdown",
   "metadata": {},
   "source": [
    "Let's take a look at the angle between The Godfather and every other movie."
   ]
  },
  {
   "cell_type": "code",
   "execution_count": null,
   "metadata": {
    "scrolled": true
   },
   "outputs": [],
   "source": [
    "angles_to_godfather = [angle(normalized_word_vectors[0],x) for x in normalized_word_vectors]\n",
    "\n",
    "plt.plot(angles_to_godfather[1:])\n",
    "# Once again, start plotting at 1 to get a better looking plot"
   ]
  },
  {
   "cell_type": "markdown",
   "metadata": {},
   "source": [
    "We see that almost everything is at around $\\pi/2$. This is actually not surprising if you are familiar with the peculiarities of high-dimensional geometry (see, e.g., https://en.wikipedia.org/wiki/Concentration_of_measure). \n",
    "\n",
    "The angles less than, say, $1.5$ really stand out here. Let's see which movies they are."
   ]
  },
  {
   "cell_type": "code",
   "execution_count": null,
   "metadata": {},
   "outputs": [],
   "source": [
    "# Create a list of indices for movies which are close to Godfather\n",
    "L = [idx for idx in range(len(angles_to_godfather)) if angles_to_godfather[idx] < 1.5]\n",
    "\n",
    "# Print the titles\n",
    "for j in range(len(L)):\n",
    "    print(titles[L[j]])"
   ]
  },
  {
   "cell_type": "markdown",
   "metadata": {},
   "source": [
    "### Exercise\n",
    "\n",
    "Create dictionaries listing most and least similar movies (as we did above), using the word frequency vectors. Do the results look any different than what we got above?"
   ]
  },
  {
   "cell_type": "markdown",
   "metadata": {},
   "source": [
    "# Homework\n",
    "\n",
    "There is another file in the data folder which lists all of the genre classifications for the movies. Try to use these methods to classify movie genres. Here is one possible scheme:\n",
    "\n",
    "For each movie, find the (say) 5 most similar movies via one of the methods above. Does the query movie share a genre classification with any of its 5 \"nearest neighbors\"? Out of the 100 movies in the list, how often do we get a successful classification? "
   ]
  },
  {
   "cell_type": "code",
   "execution_count": null,
   "metadata": {},
   "outputs": [],
   "source": []
  },
  {
   "cell_type": "markdown",
   "metadata": {},
   "source": [
    "# Homework\n",
    "\n",
    "There are many other methods that can be used to compare text. A standard method, which is pretty close to our last approach, is to create vectors using *term frequency - inverse document frequency* scores. You can read about them here: https://en.wikipedia.org/wiki/Tf–idf. Try running through the experiments we did above using TF-IDF instead. Do you get any interesting results?"
   ]
  },
  {
   "cell_type": "code",
   "execution_count": null,
   "metadata": {},
   "outputs": [],
   "source": []
  },
  {
   "cell_type": "markdown",
   "metadata": {},
   "source": [
    "# Homework\n",
    "\n",
    "Read up on Zipf's Law: https://en.wikipedia.org/wiki/Zipf%27s_law. Do the words in all of these Wikipedia articles follow Zipf's Law? To determine the answer, you will want to find the number of times that each word appears across all of the synopses; you might try Googling around to find an efficient way to perform a task like that (or you can always try to figure it out yourself!)."
   ]
  },
  {
   "cell_type": "code",
   "execution_count": null,
   "metadata": {},
   "outputs": [],
   "source": []
  },
  {
   "cell_type": "markdown",
   "metadata": {},
   "source": [
    "# Big (Vague) Homework\n",
    "\n",
    "Start working your own coding project! After this week, you have seen most of the basics of Python---certainly enough to start working on something interesting. I highly recommend working on something that is related to your research, or working on analyzing some data set you personally find interesting. Having a running project is the best way to develop your programming skills!"
   ]
  },
  {
   "cell_type": "code",
   "execution_count": null,
   "metadata": {},
   "outputs": [],
   "source": []
  }
 ],
 "metadata": {
  "kernelspec": {
   "display_name": "Python 3",
   "language": "python",
   "name": "python3"
  },
  "language_info": {
   "codemirror_mode": {
    "name": "ipython",
    "version": 3
   },
   "file_extension": ".py",
   "mimetype": "text/x-python",
   "name": "python",
   "nbconvert_exporter": "python",
   "pygments_lexer": "ipython3",
   "version": "3.7.3"
  }
 },
 "nbformat": 4,
 "nbformat_minor": 2
}
