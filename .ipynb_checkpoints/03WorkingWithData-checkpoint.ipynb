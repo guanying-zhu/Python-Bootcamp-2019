{
 "cells": [
  {
   "cell_type": "markdown",
   "metadata": {},
   "source": [
    "# List Comprehension\n",
    "\n",
    "Today we will analyze some real world data in Python. Before doing that, let's introduce another basic tool in Python: list comprehension.\n",
    "\n",
    "This is a compact way to generate lists that avoids writing a bunch of `for` loops. \n",
    "\n",
    "Let's look at an example. Suppose I want to create a list containing the squares of elements in a given list."
   ]
  },
  {
   "cell_type": "code",
   "execution_count": 1,
   "metadata": {},
   "outputs": [
    {
     "name": "stdout",
     "output_type": "stream",
     "text": [
      "[1, 4, 9, 16]\n",
      "[1, 4, 9, 16]\n"
     ]
    }
   ],
   "source": [
    "L = [1,2,3,4]\n",
    "\n",
    "# One option\n",
    "squares_forLoop = []\n",
    "for j in L:\n",
    "    squares_forLoop.append(j*j)\n",
    "    \n",
    "# List comprehension version\n",
    "squares_listComprehension = [j*j for j in L]\n",
    "\n",
    "print(squares_forLoop)\n",
    "print(squares_listComprehension)"
   ]
  },
  {
   "cell_type": "markdown",
   "metadata": {},
   "source": [
    "The \"list comprehension\" version is equivalent to the `for` loop version. The only difference is cleaner looking code. \n",
    "\n",
    "Conditions in the list comphrension code can be more complex. Suppose that we want to take a sentence and pull out all digits which appear in the sentence. We will use the built-in function `x.isdigit()` which returns `True` if `x` is a digit and `False` otherwise."
   ]
  },
  {
   "cell_type": "code",
   "execution_count": 2,
   "metadata": {
    "scrolled": true
   },
   "outputs": [
    {
     "name": "stdout",
     "output_type": "stream",
     "text": [
      "['1', '2', '3', '4', '5', '6', '7']\n",
      "['1', '2', '3', '4', '5', '6', '7']\n"
     ]
    }
   ],
   "source": [
    "sentence = 'This is a 1234 sentence 567'\n",
    "\n",
    "# List comprehension version\n",
    "digits_LC = [x for x in sentence if x.isdigit()]\n",
    "\n",
    "# For loop version\n",
    "digits_FL = []\n",
    "for x in sentence:\n",
    "    if x.isdigit():\n",
    "        digits_FL.append(x)\n",
    "\n",
    "\n",
    "print(digits_LC)\n",
    "print(digits_FL)"
   ]
  },
  {
   "cell_type": "markdown",
   "metadata": {},
   "source": [
    "List comprehensions can also contain multiple `for` loops. Let's create a flattened version of  a list of lists: i.e. a single list containing all entries of the input."
   ]
  },
  {
   "cell_type": "code",
   "execution_count": 3,
   "metadata": {},
   "outputs": [
    {
     "data": {
      "text/plain": [
       "[1, 2, 3, 4]"
      ]
     },
     "execution_count": 3,
     "metadata": {},
     "output_type": "execute_result"
    }
   ],
   "source": [
    "A = [[1,2],[3,4]]\n",
    "\n",
    "flattened = [x for row in A for x in row]\n",
    "flattened"
   ]
  },
  {
   "cell_type": "markdown",
   "metadata": {},
   "source": [
    "### Exercise\n",
    "\n",
    "For the lists `L` and `M` below, create a new list `N` containing elements of `L` which do not appear in `M`. "
   ]
  },
  {
   "cell_type": "code",
   "execution_count": 4,
   "metadata": {},
   "outputs": [],
   "source": [
    "# Input lists\n",
    "L = list(range(25))\n",
    "M = [1,4,20,22,35]\n",
    "\n",
    "# Create N below\n"
   ]
  },
  {
   "cell_type": "markdown",
   "metadata": {},
   "source": [
    "### List Comprehension vs. Map\n",
    "\n",
    "The examples that we did above could have been accomplished using `map` and `lambda` (or just a plain `for` loop). The method that you choose is more-or-less a judgment call. \n",
    "\n",
    "Remember an overarching goal: produce efficient, but readable code! \n",
    "\n",
    "The `map` function can do some things that list comprehension cannot (see the 'lazy evaluation' example from last time). It can also give small speed advantages if you are mapping a function which is already defined. On the other hand, for a very complicated list, it might make more sense to just use a `for` loop for the sake of readability\n",
    "\n",
    "In general, I think that most people prefer to use list comphrehension where possible."
   ]
  },
  {
   "cell_type": "markdown",
   "metadata": {},
   "source": [
    "# Reading and Cleaning Data"
   ]
  },
  {
   "cell_type": "markdown",
   "metadata": {},
   "source": [
    "Last time we studied statistics on some data that we generated. Now let's try to work with some real world data. There are many powerful Python packages for data wrangling, analysis and visualization. To start, we will just work in basic Python and write our own functions as needed."
   ]
  },
  {
   "cell_type": "markdown",
   "metadata": {},
   "source": [
    "We start by writing a function to read a file into Python."
   ]
  },
  {
   "cell_type": "code",
   "execution_count": 5,
   "metadata": {},
   "outputs": [],
   "source": [
    "def read_file(file_name):\n",
    "    file = open(file_name) # Gets 'file_name' as a file object\n",
    "    data = file.read() # Reads the file object into a string object\n",
    "    file.close() # Closes the file object, since we don't need it any more\n",
    "    return data"
   ]
  },
  {
   "cell_type": "markdown",
   "metadata": {},
   "source": [
    "Now we use our function to read the 'global_temperature_anomaly.csv' file into Python. This file is saved in the 'data' folder, so we need to tell Python where to find it. The '.csv' extension means that the data is stored as 'comma separated values'."
   ]
  },
  {
   "cell_type": "code",
   "execution_count": 7,
   "metadata": {},
   "outputs": [],
   "source": [
    "data_as_string = read_file('data/global_temperature_anomaly.csv')"
   ]
  },
  {
   "cell_type": "code",
   "execution_count": 8,
   "metadata": {},
   "outputs": [
    {
     "data": {
      "text/plain": [
       "1796"
      ]
     },
     "execution_count": 8,
     "metadata": {},
     "output_type": "execute_result"
    }
   ],
   "source": [
    "# Check the length of the string\n",
    "len(data_as_string)"
   ]
  },
  {
   "cell_type": "code",
   "execution_count": 9,
   "metadata": {},
   "outputs": [
    {
     "data": {
      "text/plain": [
       "'# Source: https://www.climate.gov/news-features/understanding-climate/climate-change-global-temperature\\n# Data source: https://www.ncdc.noaa.gov/cag/global/time-series/globe/land_ocean/ytd/12/1880-2016.csv\\n# Global Land and Ocean Temperature Anomalies, January-December\\n# Units: Degrees Celsius\\n# Base Period: 1901-2000\\n# Missing: -999\\n# Year,Value\\n1880,-0.12\\n1881,-0.07\\n1882,-0.07\\n1883,-0.15\\n1884,-0.21\\n1885,-0.22\\n1886,-0.21\\n1887,-0.25\\n1888,-0.15\\n1889,-0.10\\n1890,-0.33\\n1891,-0.25\\n1892,-0.30\\n1893,-0.31\\n1894,-0.28\\n1895,-0.22\\n1896,-0.09\\n1897,-0.12\\n1898,-0.26\\n1899,-0.12\\n1900,-0.07\\n1901,-0.14\\n1902,-0.2'"
      ]
     },
     "execution_count": 9,
     "metadata": {},
     "output_type": "execute_result"
    }
   ],
   "source": [
    "# We can view a part of the data by looking at a slice\n",
    "data_as_string[:600]"
   ]
  },
  {
   "cell_type": "markdown",
   "metadata": {},
   "source": [
    "This looks like a mess. We can infer that `\\n` is code for 'new line'. This would probably look better if we split the data into a list of lines. There is a built-in function to split a string into a list, given a marker. "
   ]
  },
  {
   "cell_type": "code",
   "execution_count": 10,
   "metadata": {},
   "outputs": [
    {
     "data": {
      "text/plain": [
       "['# Source: https://www.climate.gov/news-features/understanding-climate/climate-change-global-temperature',\n",
       " '# Data source: https://www.ncdc.noaa.gov/cag/global/time-series/globe/land_ocean/ytd/12/1880-2016.csv',\n",
       " '# Global Land and Ocean Temperature Anomalies, January-December',\n",
       " '# Units: Degrees Celsius',\n",
       " '# Base Period: 1901-2000',\n",
       " '# Missing: -999',\n",
       " '# Year,Value',\n",
       " '1880,-0.12',\n",
       " '1881,-0.07',\n",
       " '1882,-0.07',\n",
       " '1883,-0.15',\n",
       " '1884,-0.21',\n",
       " '1885,-0.22',\n",
       " '1886,-0.21',\n",
       " '1887,-0.25',\n",
       " '1888,-0.15',\n",
       " '1889,-0.10',\n",
       " '1890,-0.33',\n",
       " '1891,-0.25',\n",
       " '1892,-0.30']"
      ]
     },
     "execution_count": 10,
     "metadata": {},
     "output_type": "execute_result"
    }
   ],
   "source": [
    "data_as_lines = data_as_string.split('\\n')\n",
    "# file_name.split(marker) turns the string into a list, \n",
    "# where marker tells us when to start a new entry in the list\n",
    "\n",
    "data_as_lines[:20]"
   ]
  },
  {
   "cell_type": "markdown",
   "metadata": {},
   "source": [
    "This already looks better! The data records the discrepancy between the average temperature over a given year and the average temperature over the time period 1901-2000 (called  temperature anomalies).\n",
    "\n",
    "Typically, raw data files come with a bunch of 'metadata' giving some description of the data. This is necessary for context, but not useful for the actual data analysis. We shoud 'clean' the data by removing the metadata at the top. \n",
    "\n",
    "The structure of this particular data file is simple. If we look at the full data set, we see that it is already pretty clean after the header. Then we can just count how many lines the metadata takes up and remove them."
   ]
  },
  {
   "cell_type": "code",
   "execution_count": 11,
   "metadata": {},
   "outputs": [
    {
     "data": {
      "text/plain": [
       "['# Source: https://www.climate.gov/news-features/understanding-climate/climate-change-global-temperature',\n",
       " '# Data source: https://www.ncdc.noaa.gov/cag/global/time-series/globe/land_ocean/ytd/12/1880-2016.csv',\n",
       " '# Global Land and Ocean Temperature Anomalies, January-December',\n",
       " '# Units: Degrees Celsius',\n",
       " '# Base Period: 1901-2000',\n",
       " '# Missing: -999',\n",
       " '# Year,Value',\n",
       " '1880,-0.12',\n",
       " '1881,-0.07',\n",
       " '1882,-0.07',\n",
       " '1883,-0.15',\n",
       " '1884,-0.21',\n",
       " '1885,-0.22',\n",
       " '1886,-0.21',\n",
       " '1887,-0.25',\n",
       " '1888,-0.15',\n",
       " '1889,-0.10',\n",
       " '1890,-0.33',\n",
       " '1891,-0.25',\n",
       " '1892,-0.30',\n",
       " '1893,-0.31',\n",
       " '1894,-0.28',\n",
       " '1895,-0.22',\n",
       " '1896,-0.09',\n",
       " '1897,-0.12',\n",
       " '1898,-0.26',\n",
       " '1899,-0.12',\n",
       " '1900,-0.07',\n",
       " '1901,-0.14',\n",
       " '1902,-0.25',\n",
       " '1903,-0.34',\n",
       " '1904,-0.42',\n",
       " '1905,-0.29',\n",
       " '1906,-0.22',\n",
       " '1907,-0.37',\n",
       " '1908,-0.44',\n",
       " '1909,-0.43',\n",
       " '1910,-0.38',\n",
       " '1911,-0.43',\n",
       " '1912,-0.33',\n",
       " '1913,-0.31',\n",
       " '1914,-0.14',\n",
       " '1915,-0.07',\n",
       " '1916,-0.29',\n",
       " '1917,-0.31',\n",
       " '1918,-0.20',\n",
       " '1919,-0.20',\n",
       " '1920,-0.21',\n",
       " '1921,-0.14',\n",
       " '1922,-0.22',\n",
       " '1923,-0.21',\n",
       " '1924,-0.24',\n",
       " '1925,-0.14',\n",
       " '1926,-0.06',\n",
       " '1927,-0.14',\n",
       " '1928,-0.17',\n",
       " '1929,-0.29',\n",
       " '1930,-0.09',\n",
       " '1931,-0.07',\n",
       " '1932,-0.11',\n",
       " '1933,-0.24',\n",
       " '1934,-0.10',\n",
       " '1935,-0.14',\n",
       " '1936,-0.11',\n",
       " '1937,-0.01',\n",
       " '1938,-0.02',\n",
       " '1939,-0.01',\n",
       " '1940,0.10',\n",
       " '1941,0.19',\n",
       " '1942,0.15',\n",
       " '1943,0.16',\n",
       " '1944,0.29',\n",
       " '1945,0.17',\n",
       " '1946,-0.01',\n",
       " '1947,-0.05',\n",
       " '1948,-0.06',\n",
       " '1949,-0.06',\n",
       " '1950,-0.17',\n",
       " '1951,-0.01',\n",
       " '1952,0.02',\n",
       " '1953,0.09',\n",
       " '1954,-0.12',\n",
       " '1955,-0.14',\n",
       " '1956,-0.20',\n",
       " '1957,0.05',\n",
       " '1958,0.11',\n",
       " '1959,0.06',\n",
       " '1960,0.02',\n",
       " '1961,0.08',\n",
       " '1962,0.09',\n",
       " '1963,0.11',\n",
       " '1964,-0.15',\n",
       " '1965,-0.08',\n",
       " '1966,-0.02',\n",
       " '1967,-0.01',\n",
       " '1968,-0.03',\n",
       " '1969,0.09',\n",
       " '1970,0.04',\n",
       " '1971,-0.08',\n",
       " '1972,0.03',\n",
       " '1973,0.16',\n",
       " '1974,-0.07',\n",
       " '1975,0.00',\n",
       " '1976,-0.08',\n",
       " '1977,0.19',\n",
       " '1978,0.11',\n",
       " '1979,0.22',\n",
       " '1980,0.26',\n",
       " '1981,0.30',\n",
       " '1982,0.18',\n",
       " '1983,0.34',\n",
       " '1984,0.15',\n",
       " '1985,0.13',\n",
       " '1986,0.23',\n",
       " '1987,0.37',\n",
       " '1988,0.37',\n",
       " '1989,0.29',\n",
       " '1990,0.43',\n",
       " '1991,0.40',\n",
       " '1992,0.25',\n",
       " '1993,0.28',\n",
       " '1994,0.34',\n",
       " '1995,0.45',\n",
       " '1996,0.32',\n",
       " '1997,0.52',\n",
       " '1998,0.63',\n",
       " '1999,0.44',\n",
       " '2000,0.43',\n",
       " '2001,0.55',\n",
       " '2002,0.60',\n",
       " '2003,0.61',\n",
       " '2004,0.58',\n",
       " '2005,0.66',\n",
       " '2006,0.61',\n",
       " '2007,0.61',\n",
       " '2008,0.54',\n",
       " '2009,0.64',\n",
       " '2010,0.70',\n",
       " '2011,0.58',\n",
       " '2012,0.62',\n",
       " '2013,0.67',\n",
       " '2014,0.74',\n",
       " '2015,0.91',\n",
       " '2016,0.95',\n",
       " '']"
      ]
     },
     "execution_count": 11,
     "metadata": {},
     "output_type": "execute_result"
    }
   ],
   "source": [
    "data_as_lines"
   ]
  },
  {
   "cell_type": "markdown",
   "metadata": {},
   "source": [
    "Looks like trimming the first 7 lines off would almost do the trick. If the dataset was messier (or if there was just more metadata), then we wouldn't want to eyeball it. For the sake of flexibility, let's write a function to help us explore data."
   ]
  },
  {
   "cell_type": "code",
   "execution_count": 12,
   "metadata": {},
   "outputs": [
    {
     "name": "stdout",
     "output_type": "stream",
     "text": [
      "0 # Source: https://www.climate.gov/news-features/understanding-climate/climate-change-global-temperature\n",
      "1 # Data source: https://www.ncdc.noaa.gov/cag/global/time-series/globe/land_ocean/ytd/12/1880-2016.csv\n",
      "2 # Global Land and Ocean Temperature Anomalies, January-December\n",
      "3 # Units: Degrees Celsius\n",
      "4 # Base Period: 1901-2000\n",
      "5 # Missing: -999\n",
      "6 # Year,Value\n",
      "7 1880,-0.12\n",
      "8 1881,-0.07\n",
      "9 1882,-0.07\n",
      "10 1883,-0.15\n",
      "11 1884,-0.21\n",
      "12 1885,-0.22\n",
      "13 1886,-0.21\n",
      "14 1887,-0.25\n",
      "15 1888,-0.15\n",
      "16 1889,-0.10\n",
      "17 1890,-0.33\n",
      "18 1891,-0.25\n",
      "19 1892,-0.30\n",
      "20 1893,-0.31\n",
      "21 1894,-0.28\n",
      "22 1895,-0.22\n",
      "23 1896,-0.09\n",
      "24 1897,-0.12\n",
      "25 1898,-0.26\n",
      "26 1899,-0.12\n",
      "27 1900,-0.07\n",
      "28 1901,-0.14\n",
      "29 1902,-0.25\n",
      "30 1903,-0.34\n",
      "31 1904,-0.42\n",
      "32 1905,-0.29\n",
      "33 1906,-0.22\n",
      "34 1907,-0.37\n",
      "35 1908,-0.44\n",
      "36 1909,-0.43\n",
      "37 1910,-0.38\n",
      "38 1911,-0.43\n",
      "39 1912,-0.33\n",
      "40 1913,-0.31\n",
      "41 1914,-0.14\n",
      "42 1915,-0.07\n",
      "43 1916,-0.29\n",
      "44 1917,-0.31\n",
      "45 1918,-0.20\n",
      "46 1919,-0.20\n",
      "47 1920,-0.21\n",
      "48 1921,-0.14\n",
      "49 1922,-0.22\n",
      "50 1923,-0.21\n",
      "51 1924,-0.24\n",
      "52 1925,-0.14\n",
      "53 1926,-0.06\n",
      "54 1927,-0.14\n",
      "55 1928,-0.17\n",
      "56 1929,-0.29\n",
      "57 1930,-0.09\n",
      "58 1931,-0.07\n",
      "59 1932,-0.11\n",
      "60 1933,-0.24\n",
      "61 1934,-0.10\n",
      "62 1935,-0.14\n",
      "63 1936,-0.11\n",
      "64 1937,-0.01\n",
      "65 1938,-0.02\n",
      "66 1939,-0.01\n",
      "67 1940,0.10\n",
      "68 1941,0.19\n",
      "69 1942,0.15\n",
      "70 1943,0.16\n",
      "71 1944,0.29\n",
      "72 1945,0.17\n",
      "73 1946,-0.01\n",
      "74 1947,-0.05\n",
      "75 1948,-0.06\n",
      "76 1949,-0.06\n",
      "77 1950,-0.17\n",
      "78 1951,-0.01\n",
      "79 1952,0.02\n",
      "80 1953,0.09\n",
      "81 1954,-0.12\n",
      "82 1955,-0.14\n",
      "83 1956,-0.20\n",
      "84 1957,0.05\n",
      "85 1958,0.11\n",
      "86 1959,0.06\n",
      "87 1960,0.02\n",
      "88 1961,0.08\n",
      "89 1962,0.09\n",
      "90 1963,0.11\n",
      "91 1964,-0.15\n",
      "92 1965,-0.08\n",
      "93 1966,-0.02\n",
      "94 1967,-0.01\n",
      "95 1968,-0.03\n",
      "96 1969,0.09\n",
      "97 1970,0.04\n",
      "98 1971,-0.08\n",
      "99 1972,0.03\n",
      "100 1973,0.16\n",
      "101 1974,-0.07\n",
      "102 1975,0.00\n",
      "103 1976,-0.08\n",
      "104 1977,0.19\n",
      "105 1978,0.11\n",
      "106 1979,0.22\n",
      "107 1980,0.26\n",
      "108 1981,0.30\n",
      "109 1982,0.18\n",
      "110 1983,0.34\n",
      "111 1984,0.15\n",
      "112 1985,0.13\n",
      "113 1986,0.23\n",
      "114 1987,0.37\n",
      "115 1988,0.37\n",
      "116 1989,0.29\n",
      "117 1990,0.43\n",
      "118 1991,0.40\n",
      "119 1992,0.25\n",
      "120 1993,0.28\n",
      "121 1994,0.34\n",
      "122 1995,0.45\n",
      "123 1996,0.32\n",
      "124 1997,0.52\n",
      "125 1998,0.63\n",
      "126 1999,0.44\n",
      "127 2000,0.43\n",
      "128 2001,0.55\n",
      "129 2002,0.60\n",
      "130 2003,0.61\n",
      "131 2004,0.58\n",
      "132 2005,0.66\n",
      "133 2006,0.61\n",
      "134 2007,0.61\n",
      "135 2008,0.54\n",
      "136 2009,0.64\n",
      "137 2010,0.70\n",
      "138 2011,0.58\n",
      "139 2012,0.62\n",
      "140 2013,0.67\n",
      "141 2014,0.74\n",
      "142 2015,0.91\n",
      "143 2016,0.95\n",
      "144 \n"
     ]
    }
   ],
   "source": [
    "# This function prints a list with a line number in front of it.\n",
    "def print_list(list):\n",
    "    i = 0\n",
    "    for item in list:\n",
    "        print(i, item)\n",
    "        i = i + 1\n",
    "    return\n",
    "\n",
    "# Let's run it on our data right away\n",
    "print_list(data_as_lines)"
   ]
  },
  {
   "cell_type": "markdown",
   "metadata": {},
   "source": [
    "Indeed, we want to trim off the first 7 lines. There is also a blank line at the end that we want to get rid of."
   ]
  },
  {
   "cell_type": "code",
   "execution_count": 13,
   "metadata": {
    "scrolled": true
   },
   "outputs": [
    {
     "data": {
      "text/plain": [
       "['1880,-0.12',\n",
       " '1881,-0.07',\n",
       " '1882,-0.07',\n",
       " '1883,-0.15',\n",
       " '1884,-0.21',\n",
       " '1885,-0.22',\n",
       " '1886,-0.21',\n",
       " '1887,-0.25',\n",
       " '1888,-0.15',\n",
       " '1889,-0.10',\n",
       " '1890,-0.33',\n",
       " '1891,-0.25',\n",
       " '1892,-0.30',\n",
       " '1893,-0.31',\n",
       " '1894,-0.28',\n",
       " '1895,-0.22',\n",
       " '1896,-0.09',\n",
       " '1897,-0.12',\n",
       " '1898,-0.26',\n",
       " '1899,-0.12',\n",
       " '1900,-0.07',\n",
       " '1901,-0.14',\n",
       " '1902,-0.25',\n",
       " '1903,-0.34',\n",
       " '1904,-0.42',\n",
       " '1905,-0.29',\n",
       " '1906,-0.22',\n",
       " '1907,-0.37',\n",
       " '1908,-0.44',\n",
       " '1909,-0.43',\n",
       " '1910,-0.38',\n",
       " '1911,-0.43',\n",
       " '1912,-0.33',\n",
       " '1913,-0.31',\n",
       " '1914,-0.14',\n",
       " '1915,-0.07',\n",
       " '1916,-0.29',\n",
       " '1917,-0.31',\n",
       " '1918,-0.20',\n",
       " '1919,-0.20',\n",
       " '1920,-0.21',\n",
       " '1921,-0.14',\n",
       " '1922,-0.22',\n",
       " '1923,-0.21',\n",
       " '1924,-0.24',\n",
       " '1925,-0.14',\n",
       " '1926,-0.06',\n",
       " '1927,-0.14',\n",
       " '1928,-0.17',\n",
       " '1929,-0.29',\n",
       " '1930,-0.09',\n",
       " '1931,-0.07',\n",
       " '1932,-0.11',\n",
       " '1933,-0.24',\n",
       " '1934,-0.10',\n",
       " '1935,-0.14',\n",
       " '1936,-0.11',\n",
       " '1937,-0.01',\n",
       " '1938,-0.02',\n",
       " '1939,-0.01',\n",
       " '1940,0.10',\n",
       " '1941,0.19',\n",
       " '1942,0.15',\n",
       " '1943,0.16',\n",
       " '1944,0.29',\n",
       " '1945,0.17',\n",
       " '1946,-0.01',\n",
       " '1947,-0.05',\n",
       " '1948,-0.06',\n",
       " '1949,-0.06',\n",
       " '1950,-0.17',\n",
       " '1951,-0.01',\n",
       " '1952,0.02',\n",
       " '1953,0.09',\n",
       " '1954,-0.12',\n",
       " '1955,-0.14',\n",
       " '1956,-0.20',\n",
       " '1957,0.05',\n",
       " '1958,0.11',\n",
       " '1959,0.06',\n",
       " '1960,0.02',\n",
       " '1961,0.08',\n",
       " '1962,0.09',\n",
       " '1963,0.11',\n",
       " '1964,-0.15',\n",
       " '1965,-0.08',\n",
       " '1966,-0.02',\n",
       " '1967,-0.01',\n",
       " '1968,-0.03',\n",
       " '1969,0.09',\n",
       " '1970,0.04',\n",
       " '1971,-0.08',\n",
       " '1972,0.03',\n",
       " '1973,0.16',\n",
       " '1974,-0.07',\n",
       " '1975,0.00',\n",
       " '1976,-0.08',\n",
       " '1977,0.19',\n",
       " '1978,0.11',\n",
       " '1979,0.22',\n",
       " '1980,0.26',\n",
       " '1981,0.30',\n",
       " '1982,0.18',\n",
       " '1983,0.34',\n",
       " '1984,0.15',\n",
       " '1985,0.13',\n",
       " '1986,0.23',\n",
       " '1987,0.37',\n",
       " '1988,0.37',\n",
       " '1989,0.29',\n",
       " '1990,0.43',\n",
       " '1991,0.40',\n",
       " '1992,0.25',\n",
       " '1993,0.28',\n",
       " '1994,0.34',\n",
       " '1995,0.45',\n",
       " '1996,0.32',\n",
       " '1997,0.52',\n",
       " '1998,0.63',\n",
       " '1999,0.44',\n",
       " '2000,0.43',\n",
       " '2001,0.55',\n",
       " '2002,0.60',\n",
       " '2003,0.61',\n",
       " '2004,0.58',\n",
       " '2005,0.66',\n",
       " '2006,0.61',\n",
       " '2007,0.61',\n",
       " '2008,0.54',\n",
       " '2009,0.64',\n",
       " '2010,0.70',\n",
       " '2011,0.58',\n",
       " '2012,0.62',\n",
       " '2013,0.67',\n",
       " '2014,0.74',\n",
       " '2015,0.91',\n",
       " '2016,0.95']"
      ]
     },
     "execution_count": 13,
     "metadata": {},
     "output_type": "execute_result"
    }
   ],
   "source": [
    "good_lines = data_as_lines[7:-1]  \n",
    "# The '-1' says we slice up to the second-to-last entry\n",
    "\n",
    "good_lines"
   ]
  },
  {
   "cell_type": "markdown",
   "metadata": {},
   "source": [
    "Our data is starting to look pretty clean. Now each entry in the list is of the form `'year,temperature_anomaly'`. It would be more useful to split each of these into its own list `[year, temperature_anomaly]`."
   ]
  },
  {
   "cell_type": "markdown",
   "metadata": {},
   "source": [
    "### Exercise\n",
    "\n",
    "Create a list called `data`. Each entry in `data` should be a list of the form `[year, temperature_anomaly]`."
   ]
  },
  {
   "cell_type": "code",
   "execution_count": 15,
   "metadata": {},
   "outputs": [
    {
     "data": {
      "text/plain": [
       "[['1880', '-0.12'], ['1881', '-0.07'], ['1882', '-0.07'], ['1883', '-0.15']]"
      ]
     },
     "execution_count": 15,
     "metadata": {},
     "output_type": "execute_result"
    }
   ],
   "source": [
    "# Create the list below.\n",
    "data = [x.split(',') for x in good_lines]\n",
    "\n",
    "# Let's look at a slice of the clean data.\n",
    "data[:4]"
   ]
  },
  {
   "cell_type": "markdown",
   "metadata": {},
   "source": [
    "### Exercise\n",
    "\n",
    "Split the data into two lists: `years` is a list of all of the years and `anomalies` is a list of all anomalies. This can be done using `for` loops, `lambda` functions or list comprhension. Try to do it using list comphrehension!\n",
    "\n",
    "<b>Important: </b> The data is currently stored as strings. We want to store all numbers in both lists as floating point numbers in order to analyze it!"
   ]
  },
  {
   "cell_type": "code",
   "execution_count": 16,
   "metadata": {},
   "outputs": [],
   "source": [
    "years = [float(x[0]) for x in data]\n",
    "anomalies = [float(x[1]) for x in data]"
   ]
  },
  {
   "cell_type": "markdown",
   "metadata": {},
   "source": [
    "Now that we have completely clean data, we can visualize it. Let's plot the temperature anomalies against the years."
   ]
  },
  {
   "cell_type": "code",
   "execution_count": 18,
   "metadata": {
    "scrolled": true
   },
   "outputs": [
    {
     "data": {
      "image/png": "[encoded data removed]",
      "text/plain": [
       "<Figure size 432x288 with 1 Axes>"
      ]
     },
     "metadata": {
      "needs_background": "light"
     },
     "output_type": "display_data"
    }
   ],
   "source": [
    "from matplotlib import pyplot as plt\n",
    "\n",
    "plt.plot(years, anomalies)\n",
    "plt.title(\"Temperature Anomalies\")\n",
    "plt.ylabel(\"Degrees C\")\n",
    "plt.xlabel(\"Year\")\n",
    "\n",
    "plt.show()"
   ]
  },
  {
   "cell_type": "markdown",
   "metadata": {},
   "source": [
    "# Trends in the Data"
   ]
  },
  {
   "cell_type": "markdown",
   "metadata": {},
   "source": [
    "We see a clear upward trend in the anomaly data. We now explore some techniques to visualize these trends more effectively. "
   ]
  },
  {
   "cell_type": "markdown",
   "metadata": {},
   "source": [
    "## Smoothing the Data\n",
    "\n",
    "The data is rather noisy: there is lots of short-term variation which may obscure the long-term trend. One approach to removing some of the short-term variation from the picture is to 'smooth' the data.\n",
    "\n",
    "Now we smooth the data using a 'sliding window' approach. Think of the data as a list of ordered pairs $(x,f(x))$ with $x$ a year and $f(x)$ the temperature anomaly for that year. Pick a window length $W$. We construct a new function $F$ defined for each point $x$ in the domain by setting $F(x)$ to be the average value of $f$ over the set $\\{x,x+1,\\ldots,x+W\\}$."
   ]
  },
  {
   "cell_type": "code",
   "execution_count": 19,
   "metadata": {},
   "outputs": [],
   "source": [
    "def smooth(data, window):\n",
    "    output = [] # Initialize with an empty list. We will fill in the values with a for loop.\n",
    "    n = len(data)\n",
    "    for k in range(n - window + 1): \n",
    "        # For values of k which are too large, the data won't be defined on the whole window!\n",
    "        segment = data[k:(k + window)] # Pick out the slice of the data in the window.\n",
    "        value = sum(segment)/window # Average value over the slice\n",
    "        output.append(value)\n",
    "    return output\n",
    "\n",
    "# Note: I used a for loop in this function because (to me) it is more readable than \n",
    "# list comprehension and it allowed me to add comments.\n",
    "\n",
    "# The following function returns the original data, restricted to the domain of the smooth data.\n",
    "def drop_window(data, window):\n",
    "    return data[:-(window-1)]"
   ]
  },
  {
   "cell_type": "markdown",
   "metadata": {},
   "source": [
    "Now let's plot the data and the smoothed data."
   ]
  },
  {
   "cell_type": "code",
   "execution_count": 20,
   "metadata": {},
   "outputs": [
    {
     "name": "stdout",
     "output_type": "stream",
     "text": [
      "128 128 128\n"
     ]
    },
    {
     "data": {
      "image/png": "[encoded data removed]",
      "text/plain": [
       "<Figure size 432x288 with 1 Axes>"
      ]
     },
     "metadata": {
      "needs_background": "light"
     },
     "output_type": "display_data"
    }
   ],
   "source": [
    "window = 10 # Play with this parameter to see the effect of changing the window size\n",
    "years2 = drop_window(years, window)\n",
    "anomalies1 = drop_window(anomalies, window)\n",
    "anomalies2 = smooth(anomalies,window)\n",
    "\n",
    "print (len(years2), len(anomalies1), len(anomalies2))\n",
    "\n",
    "plt.plot( years2, anomalies1, color='red', linestyle='solid')\n",
    "plt.plot( years2, anomalies2, color='blue', linestyle='solid')\n",
    "plt.title(\"Temperature Anomalies\")\n",
    "plt.ylabel(\"Degrees C\")\n",
    "\n",
    "plt.show()\n",
    "\n",
    "# If you want to save your figure, uncomment the next line:\n",
    "# plt.savefig('smoothed_anomalies.png')"
   ]
  },
  {
   "cell_type": "markdown",
   "metadata": {},
   "source": [
    "## Fitting the Data\n",
    "\n",
    "Another common approach to understanding trends in the data would be to approximate it as well as possible by a simpler function. The most obvious class of functions to use would be polynomials. \n",
    "\n",
    "Once again, consider our data as a collection of pairs $(x,f(x))$ (in our example, $x$ is the year and $f(x)$ is the corresponding anomaly), with $x \\in \\{x_1,\\ldots,x_N\\}$. Fix a degree $d$. The goal is to find a degree-$d$ polynomial\n",
    "$$\n",
    "p(x) = c_0 + c_1 x + c_2 x^2 + \\cdots + c_d x^d\n",
    "$$\n",
    "such that $p$ minimizes the total squared error:\n",
    "$$\n",
    "\\sum_{i=1}^N (f(x_i) - p(x_i))^2.\n",
    "$$\n",
    "\n",
    "The numpy package has a built-in function to find the best-fitting polynomial. Let's use it on our anomaly data to find the best-fitting degree-$1$ polynomial."
   ]
  },
  {
   "cell_type": "code",
   "execution_count": 21,
   "metadata": {},
   "outputs": [],
   "source": [
    "import numpy as np\n",
    "\n",
    "m, b = np.polyfit(years, anomalies, 1)\n",
    "# The input of polyfit is a list of x values, a list of values f(x), and a degree\n",
    "# The output is the coefficients of the best-fitting polynomial. \n",
    "# Since we are using degree-1, the output is a slope and an intercept.\n",
    "# In general, the output is of the form c_d, c_{d-1}, ... , c_1, c_0 (using the notation above).\n",
    "\n",
    "# The degree-1 polynomial of best fit is given by:\n",
    "p = lambda x:m*x+b"
   ]
  },
  {
   "cell_type": "markdown",
   "metadata": {},
   "source": [
    "Now that we have our best-fitting degree-1 polynomial, we can graph it together with the graph of the true data to visualize how well it really fits."
   ]
  },
  {
   "cell_type": "code",
   "execution_count": 22,
   "metadata": {},
   "outputs": [
    {
     "data": {
      "image/png": "[encoded data removed]",
      "text/plain": [
       "<Figure size 432x288 with 1 Axes>"
      ]
     },
     "metadata": {
      "needs_background": "light"
     },
     "output_type": "display_data"
    }
   ],
   "source": [
    "# Make a list by applying p(x) to the years in the data set\n",
    "linfit = [p(x) for x in years]\n",
    "\n",
    "# Draw the data and the line\n",
    "\n",
    "plt.plot(years, anomalies, color='red', linestyle='solid')\n",
    "plt.plot( years, linfit, color='green', linestyle='solid')\n",
    "plt.title(\"Temperature Anomalies\")\n",
    "plt.ylabel(\"Degrees C\")\n",
    "\n",
    "plt.show()"
   ]
  },
  {
   "cell_type": "markdown",
   "metadata": {},
   "source": [
    "We can use our linear function to make a prediction about the temperature anomaly in the future. This is called (linear) regression."
   ]
  },
  {
   "cell_type": "code",
   "execution_count": 23,
   "metadata": {},
   "outputs": [
    {
     "name": "stdout",
     "output_type": "stream",
     "text": [
      "Predicted Temperature Anomaly in year 2040:  0.6754358093602448\n"
     ]
    }
   ],
   "source": [
    "prediction = p(2040)\n",
    "print(\"Predicted Temperature Anomaly in year 2040: \", prediction)"
   ]
  },
  {
   "cell_type": "markdown",
   "metadata": {},
   "source": [
    "### Exercise\n",
    "\n",
    "Does this prediction seem accurate? (The answer is 'no'.)\n",
    "\n",
    "Improve the prediction by using different parameters in polyfit. Justify your claim that your prediction is better by producing a convincing plot. How do we determine what is really the 'correct' fit?\n",
    "\n",
    "Adjusting the parameters in polyfit too much will 'overfit' the polynomial to the data. Produce a plot to illustrate this phenomenon.\n",
    "\n",
    "You could speed up your experiments by writing a function which finds the best-fitting degree-$d$ function in a single step.\n",
    "\n",
    "Use various prediction models to predict when the temperature anomaly will exceed 2 degrees Celsius."
   ]
  },
  {
   "cell_type": "code",
   "execution_count": 26,
   "metadata": {},
   "outputs": [
    {
     "name": "stdout",
     "output_type": "stream",
     "text": [
      "Predicted temperature anomaly in 2040: 1.209735377005586\n"
     ]
    },
    {
     "data": {
      "image/png": "[encoded data removed]",
      "text/plain": [
       "<Figure size 432x288 with 1 Axes>"
      ]
     },
     "metadata": {
      "needs_background": "light"
     },
     "output_type": "display_data"
    }
   ],
   "source": [
    "d = 2 # Degree parameter can be changed\n",
    "\n",
    "coeffs = np.polyfit(years, anomalies, d)\n",
    "\n",
    "def p(x):\n",
    "    result = 0\n",
    "    for j in range(0,d+1):\n",
    "        result = result + coeffs[j]*x**(d-j)\n",
    "    return result\n",
    "\n",
    "prediction = p(2040)\n",
    "print(\"Predicted temperature anomaly in 2040:\", prediction)\n",
    "\n",
    "# Make a list by applying p(x) to the years in the data set\n",
    "bestfit = list(map(lambda x: p(x), years))\n",
    "\n",
    "# Draw the data and the line\n",
    "\n",
    "plt.plot(years, anomalies, color='red', linestyle='solid')\n",
    "plt.plot( years, bestfit, color='green', linestyle='solid')\n",
    "plt.title(\"Temperature Anomalies\")\n",
    "plt.ylabel(\"Degrees C\")\n",
    "\n",
    "plt.show()"
   ]
  },
  {
   "cell_type": "code",
   "execution_count": 27,
   "metadata": {},
   "outputs": [
    {
     "name": "stdout",
     "output_type": "stream",
     "text": [
      "2074\n"
     ]
    }
   ],
   "source": [
    "year = 2020\n",
    "\n",
    "while p(year) < 2:\n",
    "    year = year+1\n",
    "    \n",
    "print(year)"
   ]
  },
  {
   "cell_type": "markdown",
   "metadata": {},
   "source": [
    "### Homework\n",
    "\n",
    "In the 'data' folder, you will also find data on the sea level since 1993. Using similar methods to what was used here, analyze this sea level data. In particular, try to predict the sea level in 2040. Use the \"smoothed (60-day Gaussian type filter) GMSL (GIA applied) variation (mm); annual and semi-annual signal removed )  with respect to 20-year mean\". This dataset will take a lot more work to explore and clean!"
   ]
  },
  {
   "cell_type": "code",
   "execution_count": null,
   "metadata": {},
   "outputs": [],
   "source": []
  }
 ],
 "metadata": {
  "kernelspec": {
   "display_name": "Python 3",
   "language": "python",
   "name": "python3"
  },
  "language_info": {
   "codemirror_mode": {
    "name": "ipython",
    "version": 3
   },
   "file_extension": ".py",
   "mimetype": "text/x-python",
   "name": "python",
   "nbconvert_exporter": "python",
   "pygments_lexer": "ipython3",
   "version": "3.7.3"
  }
 },
 "nbformat": 4,
 "nbformat_minor": 2
}
