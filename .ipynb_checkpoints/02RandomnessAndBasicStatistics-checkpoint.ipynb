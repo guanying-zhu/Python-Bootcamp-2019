{
 "cells": [
  {
   "cell_type": "markdown",
   "metadata": {},
   "source": [
    "# Section 1: Simulating Coin Tosses"
   ]
  },
  {
   "cell_type": "markdown",
   "metadata": {},
   "source": [
    "## Creating the Simulation\n",
    "\n",
    "Let's generate some data to analyze by running some random simulations. First we will define a function which gives the result of a fair coin toss. This uses the package 'random'."
   ]
  },
  {
   "cell_type": "code",
   "execution_count": 1,
   "metadata": {},
   "outputs": [
    {
     "data": {
      "text/plain": [
       "0.36622068410030395"
      ]
     },
     "execution_count": 1,
     "metadata": {},
     "output_type": "execute_result"
    }
   ],
   "source": [
    "import random as r # Import the package 'random' with an abbreviation.\n",
    "\n",
    "# The package contains a function called 'random'. Let's see what it does.\n",
    "r.random()"
   ]
  },
  {
   "cell_type": "markdown",
   "metadata": {},
   "source": [
    "The function seems to generate a random real number. Let's experiment to see if we can pin down exactly what it does."
   ]
  },
  {
   "cell_type": "code",
   "execution_count": 2,
   "metadata": {},
   "outputs": [
    {
     "name": "stdout",
     "output_type": "stream",
     "text": [
      "0.5067005460817179\n",
      "0.8840649369770176\n",
      "0.409980109598556\n",
      "0.8953771361109271\n",
      "0.37905723575585704\n",
      "0.8221879649746779\n",
      "0.13175512114815258\n",
      "0.6503287362628148\n",
      "0.6057291637658704\n",
      "0.9185481511338395\n",
      "0.8624680139908355\n",
      "0.9925809735418081\n",
      "0.7246398656949219\n",
      "0.6078045717102275\n",
      "0.9378720160654429\n",
      "0.8167558320466625\n",
      "0.6438492540068489\n",
      "0.6313094853803305\n",
      "0.7781367209450284\n",
      "0.49559483750199684\n"
     ]
    }
   ],
   "source": [
    "for j in range(20): # Use range(20) to run over all j in the list [0,1,...,19]\n",
    "    print(r.random())"
   ]
  },
  {
   "cell_type": "markdown",
   "metadata": {},
   "source": [
    "Apparently it generates a random number between 0 and 1. Indeed, this is the case, as we can check in the documentation here: https://docs.python.org/2/library/random.html#module-random\n",
    "\n",
    "Now let's use this function to define a new 'coin toss' function."
   ]
  },
  {
   "cell_type": "code",
   "execution_count": 3,
   "metadata": {},
   "outputs": [
    {
     "name": "stdout",
     "output_type": "stream",
     "text": [
      "H T T T H T T H T T "
     ]
    }
   ],
   "source": [
    "# Define our 'coin toss' function.\n",
    "def coin():\n",
    "    u = r.random()\n",
    "    if u < 0.5:\n",
    "        return \"H\"\n",
    "    else:\n",
    "        return \"T\"\n",
    "\n",
    "# Toss the coin 10 times and look at the result.\n",
    "for i in range(0, 10):\n",
    "    print(coin(), end =\" \") # To print the output on the same line, we include an option in the print function."
   ]
  },
  {
   "cell_type": "markdown",
   "metadata": {},
   "source": [
    "Since we wish to experiment with randomness, it would be good to have a function which runs the coin toss experiment several times. The input of our function will be a positive integer and the output will be a string of H's and T's."
   ]
  },
  {
   "cell_type": "code",
   "execution_count": 4,
   "metadata": {},
   "outputs": [
    {
     "data": {
      "text/plain": [
       "'THHHHTHTHTTTTTHHHTTH'"
      ]
     },
     "execution_count": 4,
     "metadata": {},
     "output_type": "execute_result"
    }
   ],
   "source": [
    "def run_coin(n):\n",
    "    result = \"\" # Initialize the output of the function as an empty string\n",
    "    for k in range(n):\n",
    "        result = result + coin() # Loop over the range of n and add the coin toss result to the output each iteration\n",
    "    return result\n",
    "\n",
    "run_coin(20)"
   ]
  },
  {
   "cell_type": "markdown",
   "metadata": {},
   "source": [
    "### Exercise \n",
    "\n",
    "Write a function 'count_heads' whose input is a result of the run_coin(n) function and whose output is the number of H's in the string."
   ]
  },
  {
   "cell_type": "code",
   "execution_count": 5,
   "metadata": {},
   "outputs": [],
   "source": []
  },
  {
   "cell_type": "markdown",
   "metadata": {},
   "source": [
    "Suppose that we would like to determine whether the coin we are tossing is fair. We could toss it, say, 20 times then count the number of heads. Of course, we don't expect to get 10 heads every time we do this, but if we ran this experiment several times then we should expect the average over all experiments to converge to 10.\n",
    "\n",
    "Let's try it."
   ]
  },
  {
   "cell_type": "code",
   "execution_count": 6,
   "metadata": {},
   "outputs": [
    {
     "name": "stdout",
     "output_type": "stream",
     "text": [
      "9 11 8 12 9 11 8 9 13 8 "
     ]
    }
   ],
   "source": [
    "for j in range(10):\n",
    "    print(count_heads(run_coin(20)),end = \" \")"
   ]
  },
  {
   "cell_type": "markdown",
   "metadata": {},
   "source": [
    "## Statistics of the Experiment\n",
    "\n",
    "Looks reasonable, but it's hard to eyeball whether this is actually a good result. Let's write some functions to:\n",
    "\n",
    "1) automate our experiment\n",
    "\n",
    "2) analyze it quantitatively\n"
   ]
  },
  {
   "cell_type": "code",
   "execution_count": 7,
   "metadata": {},
   "outputs": [
    {
     "data": {
      "text/plain": [
       "[13, 11, 9, 8, 16, 12, 11, 10, 10, 11]"
      ]
     },
     "execution_count": 7,
     "metadata": {},
     "output_type": "execute_result"
    }
   ],
   "source": [
    "# First we write a function to carry out the experiment. \n",
    "# We want to toss the coin 'num_tosses' times, then repeat this 'num_repeats' times.\n",
    "# We should store our results in a list.\n",
    "\n",
    "def coin_experiment(num_tosses,num_repeats):\n",
    "    results = []\n",
    "    for j in range(num_repeats):\n",
    "        results.append(count_heads(run_coin(num_tosses)))\n",
    "    return results\n",
    "\n",
    "coin_experiment(20,10)"
   ]
  },
  {
   "cell_type": "code",
   "execution_count": 8,
   "metadata": {},
   "outputs": [
    {
     "data": {
      "text/plain": [
       "10.5"
      ]
     },
     "execution_count": 8,
     "metadata": {},
     "output_type": "execute_result"
    }
   ],
   "source": [
    "# Now let's define a function to take the mean of a list.\n",
    "# Certainly such a function already exists in some package, but let's just create it our ourselves.\n",
    "\n",
    "def mean(L):\n",
    "    return sum(L)/len(L)\n",
    "\n",
    "# Try computing the mean of an experiment:\n",
    "mean(coin_experiment(20,10))"
   ]
  },
  {
   "cell_type": "markdown",
   "metadata": {},
   "source": [
    "How do you expect the mean of the experiment to behave if we fix the number of tosses and increase the number of repeats? Vice-versa? We could play around with parameters to get an idea for it."
   ]
  },
  {
   "cell_type": "code",
   "execution_count": 87,
   "metadata": {},
   "outputs": [
    {
     "data": {
      "text/plain": [
       "[0.9333333333333333,\n",
       " 1.2133333333333334,\n",
       " 0.9955555555555556,\n",
       " 0.9666666666666667,\n",
       " 0.9279999999999999,\n",
       " 0.9333333333333333,\n",
       " 0.9333333333333333,\n",
       " 1.0,\n",
       " 0.9896296296296297,\n",
       " 0.9893333333333334,\n",
       " 0.972121212121212,\n",
       " 1.0133333333333334,\n",
       " 1.083076923076923,\n",
       " 0.9885714285714285,\n",
       " 1.0364444444444445,\n",
       " 0.9916666666666667,\n",
       " 1.0462745098039214,\n",
       " 0.9674074074074074,\n",
       " 1.0371929824561403,\n",
       " 0.9893333333333334,\n",
       " 0.9523809523809524,\n",
       " 0.9854545454545455,\n",
       " 1.011014492753623,\n",
       " 1.0466666666666666]"
      ]
     },
     "execution_count": 87,
     "metadata": {},
     "output_type": "execute_result"
    }
   ],
   "source": [
    "def mean_list(num_tosses,max_repeats):\n",
    "    L = [] # Start with an empty list\n",
    "    for j in range(1,max_repeats):\n",
    "        L.append(mean(coin_experiment(k,j))/(k/2)) # Append mean value of the experiment for each value of j\n",
    "        # We suspect the answer tends toward k/2 as j increases. \n",
    "        # This normalization will make the behavior more apparent.\n",
    "    return L\n",
    "\n",
    "L = mean_list(5,25)\n",
    "L"
   ]
  },
  {
   "cell_type": "markdown",
   "metadata": {},
   "source": [
    "It's not so clear what's going on here. An important part of data analysis is visualization. Let's look at a plot of this data. A standard package for generating plots is called matplotlib."
   ]
  },
  {
   "cell_type": "code",
   "execution_count": 32,
   "metadata": {},
   "outputs": [
    {
     "data": {
      "text/plain": [
       "[<matplotlib.lines.Line2D at 0x113fa86a0>]"
      ]
     },
     "execution_count": 32,
     "metadata": {},
     "output_type": "execute_result"
    },
    {
     "data": {
      "image/png": "[encoded data removed]",
      "text/plain": [
       "<Figure size 432x288 with 1 Axes>"
      ]
     },
     "metadata": {
      "needs_background": "light"
     },
     "output_type": "display_data"
    }
   ],
   "source": [
    "import matplotlib.pyplot as plt \n",
    "# plt is a common abbreviation for matplotlib. \n",
    "# Here we are only importing a specific module from matplotlib\n",
    "import numpy as np # We'll also use a function from numpy\n",
    "\n",
    "trend = np.ones(len(L)) \n",
    "# We suspect that the mean_list tends toward 1 as the number of repeats increases.\n",
    "# Let's plot the trend line to improve the visualization.\n",
    "\n",
    "plt.plot(L)\n",
    "\n",
    "plt.plot(trend, color='black', linewidth=1.0 )"
   ]
  },
  {
   "cell_type": "markdown",
   "metadata": {},
   "source": [
    "This doesn't illustrate a long-term trend as well as we might hope. Let's run the experiment again and let the max number of repeats go out farther."
   ]
  },
  {
   "cell_type": "code",
   "execution_count": 69,
   "metadata": {},
   "outputs": [
    {
     "data": {
      "image/png": "[encoded data removed]",
      "text/plain": [
       "<Figure size 432x288 with 1 Axes>"
      ]
     },
     "metadata": {
      "needs_background": "light"
     },
     "output_type": "display_data"
    }
   ],
   "source": [
    "L = mean_list(25,100)\n",
    "trend = np.ones(len(L)) \n",
    "\n",
    "plt.plot(L); # Semicolons supress [<matplotlib.lines.Line2D at 0x113fa86a0>] from the output\n",
    "plt.plot(trend, color='black', linewidth=1.0 );\n",
    "\n",
    "# We also add labels to the axes\n",
    "plt.xlabel('Number of Repeats');\n",
    "plt.ylabel('Normalized Mean Over Repeats');"
   ]
  },
  {
   "cell_type": "markdown",
   "metadata": {},
   "source": [
    "This shows a more clear trend. There were actually two parameters we were interested in playing with. There are various ways we could visualize data across both parameters. One option would be to plot several curves for varying numbers of flips."
   ]
  },
  {
   "cell_type": "code",
   "execution_count": 75,
   "metadata": {},
   "outputs": [
    {
     "data": {
      "image/png": "[encoded data removed]",
      "text/plain": [
       "<Figure size 432x288 with 1 Axes>"
      ]
     },
     "metadata": {
      "needs_background": "light"
     },
     "output_type": "display_data"
    }
   ],
   "source": [
    "max_repeats = 100\n",
    "\n",
    "trend = np.ones(max_repeats) \n",
    "\n",
    "for k in range(25,100,25): # range(25,100,25) creates the list [25,50,75]\n",
    "    L = mean_list(k,max_repeats)\n",
    "    plt.plot(L);\n",
    "\n",
    "plt.plot(trend, color='black', linewidth=1.0 );\n",
    "plt.xlabel('Number of Repeats');\n",
    "plt.ylabel('Normalized Mean Over Repeats');"
   ]
  },
  {
   "cell_type": "markdown",
   "metadata": {},
   "source": [
    "Another way to visualize this would be to plot the mean across both parameters as a function with two inputs and one output."
   ]
  },
  {
   "cell_type": "code",
   "execution_count": 71,
   "metadata": {},
   "outputs": [
    {
     "name": "stdout",
     "output_type": "stream",
     "text": [
      "25\n",
      "50\n",
      "75\n"
     ]
    }
   ],
   "source": [
    "for k in range(25,100,25):\n",
    "    print(k)"
   ]
  },
  {
   "cell_type": "code",
   "execution_count": null,
   "metadata": {},
   "outputs": [],
   "source": [
    "fig = plt.figure()\n",
    "ax = fig.gca(projection='3d')\n",
    "\n",
    "# Make data.\n",
    "x = np.arange(5,50,5)\n",
    "y = np.arange(55,100,5)\n",
    "X, Y = np.meshgrid(X, Y)\n",
    "Z = np.sqrt(X**2 + Y**2)\n",
    "Z = np.sin(R)"
   ]
  },
  {
   "cell_type": "code",
   "execution_count": 93,
   "metadata": {},
   "outputs": [],
   "source": [
    "x = np.arange(5,50,5)\n",
    "y = np.arange(55,100,5)"
   ]
  },
  {
   "cell_type": "code",
   "execution_count": 77,
   "metadata": {},
   "outputs": [
    {
     "data": {
      "text/plain": [
       "array([ 5, 10, 15, 20, 25, 30, 35, 40, 45])"
      ]
     },
     "execution_count": 77,
     "metadata": {},
     "output_type": "execute_result"
    }
   ],
   "source": [
    "x"
   ]
  },
  {
   "cell_type": "code",
   "execution_count": 80,
   "metadata": {},
   "outputs": [],
   "source": [
    "x, y = np.meshgrid(x, y)"
   ]
  },
  {
   "cell_type": "code",
   "execution_count": 82,
   "metadata": {},
   "outputs": [
    {
     "data": {
      "text/plain": [
       "array([[55, 55, 55, 55, 55, 55, 55, 55, 55],\n",
       "       [60, 60, 60, 60, 60, 60, 60, 60, 60],\n",
       "       [65, 65, 65, 65, 65, 65, 65, 65, 65],\n",
       "       [70, 70, 70, 70, 70, 70, 70, 70, 70],\n",
       "       [75, 75, 75, 75, 75, 75, 75, 75, 75],\n",
       "       [80, 80, 80, 80, 80, 80, 80, 80, 80],\n",
       "       [85, 85, 85, 85, 85, 85, 85, 85, 85],\n",
       "       [90, 90, 90, 90, 90, 90, 90, 90, 90],\n",
       "       [95, 95, 95, 95, 95, 95, 95, 95, 95]])"
      ]
     },
     "execution_count": 82,
     "metadata": {},
     "output_type": "execute_result"
    }
   ],
   "source": [
    "y"
   ]
  },
  {
   "cell_type": "code",
   "execution_count": 83,
   "metadata": {},
   "outputs": [
    {
     "ename": "TypeError",
     "evalue": "only integer scalar arrays can be converted to a scalar index",
     "output_type": "error",
     "traceback": [
      "\u001b[0;31m---------------------------------------------------------------------------\u001b[0m",
      "\u001b[0;31mTypeError\u001b[0m                                 Traceback (most recent call last)",
      "\u001b[0;32m<ipython-input-83-e083d7f8a75e>\u001b[0m in \u001b[0;36m<module>\u001b[0;34m\u001b[0m\n\u001b[0;32m----> 1\u001b[0;31m \u001b[0mmean_list\u001b[0m\u001b[0;34m(\u001b[0m\u001b[0mx\u001b[0m\u001b[0;34m,\u001b[0m\u001b[0my\u001b[0m\u001b[0;34m)\u001b[0m\u001b[0;34m\u001b[0m\u001b[0;34m\u001b[0m\u001b[0m\n\u001b[0m",
      "\u001b[0;32m<ipython-input-31-49dfd18adcb7>\u001b[0m in \u001b[0;36mmean_list\u001b[0;34m(num_tosses, max_repeats)\u001b[0m\n\u001b[1;32m      1\u001b[0m \u001b[0;32mdef\u001b[0m \u001b[0mmean_list\u001b[0m\u001b[0;34m(\u001b[0m\u001b[0mnum_tosses\u001b[0m\u001b[0;34m,\u001b[0m\u001b[0mmax_repeats\u001b[0m\u001b[0;34m)\u001b[0m\u001b[0;34m:\u001b[0m\u001b[0;34m\u001b[0m\u001b[0;34m\u001b[0m\u001b[0m\n\u001b[1;32m      2\u001b[0m     \u001b[0mL\u001b[0m \u001b[0;34m=\u001b[0m \u001b[0;34m[\u001b[0m\u001b[0;34m]\u001b[0m \u001b[0;31m# Start with an empty list\u001b[0m\u001b[0;34m\u001b[0m\u001b[0;34m\u001b[0m\u001b[0m\n\u001b[0;32m----> 3\u001b[0;31m     \u001b[0;32mfor\u001b[0m \u001b[0mj\u001b[0m \u001b[0;32min\u001b[0m \u001b[0mrange\u001b[0m\u001b[0;34m(\u001b[0m\u001b[0;36m1\u001b[0m\u001b[0;34m,\u001b[0m\u001b[0mmax_repeats\u001b[0m\u001b[0;34m)\u001b[0m\u001b[0;34m:\u001b[0m\u001b[0;34m\u001b[0m\u001b[0;34m\u001b[0m\u001b[0m\n\u001b[0m\u001b[1;32m      4\u001b[0m         \u001b[0mL\u001b[0m\u001b[0;34m.\u001b[0m\u001b[0mappend\u001b[0m\u001b[0;34m(\u001b[0m\u001b[0mmean\u001b[0m\u001b[0;34m(\u001b[0m\u001b[0mcoin_experiment\u001b[0m\u001b[0;34m(\u001b[0m\u001b[0mk\u001b[0m\u001b[0;34m,\u001b[0m\u001b[0mj\u001b[0m\u001b[0;34m)\u001b[0m\u001b[0;34m)\u001b[0m\u001b[0;34m/\u001b[0m\u001b[0;34m(\u001b[0m\u001b[0mk\u001b[0m\u001b[0;34m/\u001b[0m\u001b[0;36m2\u001b[0m\u001b[0;34m)\u001b[0m\u001b[0;34m)\u001b[0m \u001b[0;31m# Append mean value of the experiment for each value of j\u001b[0m\u001b[0;34m\u001b[0m\u001b[0;34m\u001b[0m\u001b[0m\n\u001b[1;32m      5\u001b[0m         \u001b[0;31m# We suspect the answer tends toward k/2 as j increases.\u001b[0m\u001b[0;34m\u001b[0m\u001b[0;34m\u001b[0m\u001b[0;34m\u001b[0m\u001b[0m\n",
      "\u001b[0;31mTypeError\u001b[0m: only integer scalar arrays can be converted to a scalar index"
     ]
    }
   ],
   "source": [
    "mean_list(x,y)"
   ]
  },
  {
   "cell_type": "code",
   "execution_count": 84,
   "metadata": {},
   "outputs": [],
   "source": [
    "N = [[1,5],[2,5]]"
   ]
  },
  {
   "cell_type": "code",
   "execution_count": 88,
   "metadata": {},
   "outputs": [
    {
     "ename": "TypeError",
     "evalue": "mean_list() missing 1 required positional argument: 'max_repeats'",
     "output_type": "error",
     "traceback": [
      "\u001b[0;31m---------------------------------------------------------------------------\u001b[0m",
      "\u001b[0;31mTypeError\u001b[0m                                 Traceback (most recent call last)",
      "\u001b[0;32m<ipython-input-88-aa6bafc8183d>\u001b[0m in \u001b[0;36m<module>\u001b[0;34m\u001b[0m\n\u001b[0;32m----> 1\u001b[0;31m \u001b[0mmean_list\u001b[0m\u001b[0;34m(\u001b[0m\u001b[0mN\u001b[0m\u001b[0;34m[\u001b[0m\u001b[0;36m0\u001b[0m\u001b[0;34m]\u001b[0m\u001b[0;34m)\u001b[0m\u001b[0;34m\u001b[0m\u001b[0;34m\u001b[0m\u001b[0m\n\u001b[0m",
      "\u001b[0;31mTypeError\u001b[0m: mean_list() missing 1 required positional argument: 'max_repeats'"
     ]
    }
   ],
   "source": [
    "mean_list(N[0])"
   ]
  },
  {
   "cell_type": "code",
   "execution_count": 90,
   "metadata": {},
   "outputs": [
    {
     "data": {
      "text/plain": [
       "1.0"
      ]
     },
     "execution_count": 90,
     "metadata": {},
     "output_type": "execute_result"
    }
   ],
   "source": [
    "mean(coin_experiment(1,2))"
   ]
  },
  {
   "cell_type": "code",
   "execution_count": 92,
   "metadata": {},
   "outputs": [
    {
     "ename": "TypeError",
     "evalue": "coin_experiment() missing 1 required positional argument: 'num_repeats'",
     "output_type": "error",
     "traceback": [
      "\u001b[0;31m---------------------------------------------------------------------------\u001b[0m",
      "\u001b[0;31mTypeError\u001b[0m                                 Traceback (most recent call last)",
      "\u001b[0;32m<ipython-input-92-576212acdb13>\u001b[0m in \u001b[0;36m<module>\u001b[0;34m\u001b[0m\n\u001b[0;32m----> 1\u001b[0;31m \u001b[0mmean\u001b[0m\u001b[0;34m(\u001b[0m\u001b[0mcoin_experiment\u001b[0m\u001b[0;34m(\u001b[0m\u001b[0mN\u001b[0m\u001b[0;34m)\u001b[0m\u001b[0;34m)\u001b[0m\u001b[0;34m\u001b[0m\u001b[0;34m\u001b[0m\u001b[0m\n\u001b[0m",
      "\u001b[0;31mTypeError\u001b[0m: coin_experiment() missing 1 required positional argument: 'num_repeats'"
     ]
    }
   ],
   "source": [
    "mean(coin_experiment(N))"
   ]
  },
  {
   "cell_type": "markdown",
   "metadata": {},
   "source": [
    "## More Statistics and Lambda Functions"
   ]
  },
  {
   "cell_type": "code",
   "execution_count": null,
   "metadata": {},
   "outputs": [],
   "source": []
  }
 ],
 "metadata": {
  "kernelspec": {
   "display_name": "Python 3",
   "language": "python",
   "name": "python3"
  },
  "language_info": {
   "codemirror_mode": {
    "name": "ipython",
    "version": 3
   },
   "file_extension": ".py",
   "mimetype": "text/x-python",
   "name": "python",
   "nbconvert_exporter": "python",
   "pygments_lexer": "ipython3",
   "version": "3.7.3"
  }
 },
 "nbformat": 4,
 "nbformat_minor": 2
}
