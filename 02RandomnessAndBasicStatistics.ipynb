{
 "cells": [
  {
   "cell_type": "markdown",
   "metadata": {},
   "source": [
    "# Simulating Coin Tosses"
   ]
  },
  {
   "cell_type": "markdown",
   "metadata": {},
   "source": [
    "## Creating the Simulation\n",
    "\n",
    "Let's generate some data to analyze by running some random simulations. First we will define a function which gives the result of a fair coin toss. This uses the package `random`."
   ]
  },
  {
   "cell_type": "code",
   "execution_count": 1,
   "metadata": {},
   "outputs": [],
   "source": [
    "import random as r # Import the package 'random' with an abbreviation.\n",
    "import numpy as np # We'll use this later, so let's import now."
   ]
  },
  {
   "cell_type": "code",
   "execution_count": 2,
   "metadata": {},
   "outputs": [
    {
     "data": {
      "text/plain": [
       "0.7795098072017261"
      ]
     },
     "execution_count": 2,
     "metadata": {},
     "output_type": "execute_result"
    }
   ],
   "source": [
    "# The package random contains a function called 'random'. Let's see what it does.\n",
    "r.random()"
   ]
  },
  {
   "cell_type": "markdown",
   "metadata": {},
   "source": [
    "The function seems to generate a random real number. Let's experiment to see if we can pin down exactly what it does."
   ]
  },
  {
   "cell_type": "code",
   "execution_count": 3,
   "metadata": {},
   "outputs": [
    {
     "name": "stdout",
     "output_type": "stream",
     "text": [
      "0.8868663847734695\n",
      "0.6455326051816865\n",
      "0.3728270161921724\n",
      "0.6270722898401047\n",
      "0.6120283271025072\n",
      "0.42520258899484054\n",
      "0.2510403311252709\n",
      "0.6553683344487169\n",
      "0.8746548637480469\n",
      "0.7088632764770644\n",
      "0.1556812454997316\n",
      "0.5053512664203377\n",
      "0.49292640235718277\n",
      "0.4280677175105779\n",
      "0.5184267530315798\n",
      "0.6912227361895042\n",
      "0.4169593068983656\n",
      "0.38203179864598136\n",
      "0.907514242828279\n",
      "0.5822929337702606\n"
     ]
    }
   ],
   "source": [
    "for j in range(20): # Use range(20) to run over all j in the list [0,1,...,19]\n",
    "    print(r.random())"
   ]
  },
  {
   "cell_type": "markdown",
   "metadata": {},
   "source": [
    "Apparently it generates a random number between 0 and 1. Indeed, this is the case, as we can check in the documentation here: https://docs.python.org/2/library/random.html#module-random\n",
    "\n",
    "Now let's use this function to define a new `coin toss` function."
   ]
  },
  {
   "cell_type": "code",
   "execution_count": 4,
   "metadata": {},
   "outputs": [
    {
     "name": "stdout",
     "output_type": "stream",
     "text": [
      "T T H T T T H H H T "
     ]
    }
   ],
   "source": [
    "# Define our 'coin toss' function.\n",
    "def coin():\n",
    "    u = r.random()\n",
    "    if u < 0.5:\n",
    "        return \"H\"\n",
    "    else:\n",
    "        return \"T\"\n",
    "\n",
    "# Toss the coin 10 times and look at the result.\n",
    "for i in range(0, 10):\n",
    "    print(coin(), end =\" \") # To print the output on the same line, we include an option in the print function."
   ]
  },
  {
   "cell_type": "markdown",
   "metadata": {},
   "source": [
    "Since we wish to experiment with randomness, it would be good to have a function which runs the coin toss experiment several times. The input of our function will be a positive integer and the output will be a string of H's and T's."
   ]
  },
  {
   "cell_type": "code",
   "execution_count": 5,
   "metadata": {},
   "outputs": [
    {
     "data": {
      "text/plain": [
       "'THTHTTHTTHHTHTTTHTTT'"
      ]
     },
     "execution_count": 5,
     "metadata": {},
     "output_type": "execute_result"
    }
   ],
   "source": [
    "def run_coin(n):\n",
    "    result = \"\" # Initialize the output of the function as an empty string\n",
    "    for k in range(n):\n",
    "        result = result + coin() # Loop over the range of n and add the coin toss result to the output each iteration\n",
    "    return result\n",
    "\n",
    "run_coin(20)"
   ]
  },
  {
   "cell_type": "markdown",
   "metadata": {},
   "source": [
    "### Exercise \n",
    "\n",
    "Write a function `count_heads` whose input is a result of the `run_coin(n)` function and whose output is the number of H's in the string."
   ]
  },
  {
   "cell_type": "code",
   "execution_count": null,
   "metadata": {},
   "outputs": [],
   "source": []
  },
  {
   "cell_type": "code",
   "execution_count": 10,
   "metadata": {},
   "outputs": [
    {
     "name": "stdout",
     "output_type": "stream",
     "text": [
      "HTTTHTTHHHTHTHHTTTTH 9\n"
     ]
    }
   ],
   "source": [
    "# Test your function \n",
    "result = run_coin(20)\n",
    "print(result, count_heads(result))"
   ]
  },
  {
   "cell_type": "markdown",
   "metadata": {},
   "source": [
    "Suppose that we would like to determine whether the coin we are tossing is fair. We could toss it, say, 20 times then count the number of heads. Of course, we don't expect to get 10 heads every time we do this, but if we ran this experiment several times then we should expect the average over all experiments to converge to 10.\n",
    "\n",
    "Let's try it."
   ]
  },
  {
   "cell_type": "code",
   "execution_count": 11,
   "metadata": {},
   "outputs": [
    {
     "name": "stdout",
     "output_type": "stream",
     "text": [
      "12 8 13 9 10 7 13 8 12 11 "
     ]
    }
   ],
   "source": [
    "for j in range(10):\n",
    "    print(count_heads(run_coin(20)),end = \" \")"
   ]
  },
  {
   "cell_type": "markdown",
   "metadata": {},
   "source": [
    "## Statistics of the Experiment\n",
    "\n",
    "Looks reasonable, but it's hard to eyeball whether this is actually a good result. Let's write some functions to:\n",
    "\n",
    "1) automate our experiment\n",
    "\n",
    "2) analyze it quantitatively\n"
   ]
  },
  {
   "cell_type": "code",
   "execution_count": 12,
   "metadata": {},
   "outputs": [
    {
     "data": {
      "text/plain": [
       "[9, 5, 8, 10, 12, 12, 6, 11, 10, 10]"
      ]
     },
     "execution_count": 12,
     "metadata": {},
     "output_type": "execute_result"
    }
   ],
   "source": [
    "# First we write a function to carry out the experiment. \n",
    "# We want to toss the coin 'num_tosses' times, then repeat this 'num_repeats' times.\n",
    "# We should store our results in a list.\n",
    "\n",
    "def coin_experiment(num_tosses,num_repeats):\n",
    "    results = []\n",
    "    for j in range(num_repeats):\n",
    "        results.append(count_heads(run_coin(num_tosses)))\n",
    "    return results\n",
    "\n",
    "coin_experiment(20,10)"
   ]
  },
  {
   "cell_type": "code",
   "execution_count": 13,
   "metadata": {},
   "outputs": [
    {
     "data": {
      "text/plain": [
       "10.5"
      ]
     },
     "execution_count": 13,
     "metadata": {},
     "output_type": "execute_result"
    }
   ],
   "source": [
    "# Now let's define a function to take the mean of a list.\n",
    "# Certainly such a function already exists in some package, but let's just create it our ourselves.\n",
    "\n",
    "def mean(L):\n",
    "    return sum(L)/len(L)\n",
    "\n",
    "# Try computing the mean of an experiment:\n",
    "mean(coin_experiment(20,10))"
   ]
  },
  {
   "cell_type": "markdown",
   "metadata": {},
   "source": [
    "How do you expect the mean of the experiment to behave if we fix the number of tosses and increase the number of repeats? Vice-versa? We could play around with parameters to get an idea for it.\n",
    "\n",
    "An important part of exploratory data analysis is visualization. Let's look at a plot of this data. A standard package for generating plots is called matplotlib."
   ]
  },
  {
   "cell_type": "code",
   "execution_count": 15,
   "metadata": {},
   "outputs": [
    {
     "data": {
      "image/png": "[encoded data removed]",
      "text/plain": [
       "<Figure size 432x288 with 1 Axes>"
      ]
     },
     "metadata": {
      "needs_background": "light"
     },
     "output_type": "display_data"
    }
   ],
   "source": [
    "import matplotlib.pyplot as plt \n",
    "# plt is a common abbreviation for matplotlib. \n",
    "# Here we are only importing a specific module from matplotlib\n",
    "\n",
    "# Let's first fix the number of tosses at k.\n",
    "k = 10\n",
    "\n",
    "# Then let's look at what happens if we run the experiment 1 through M times.\n",
    "M = 100\n",
    "\n",
    "# We will fill a list with results of the coin experiment for k flips and t trials\n",
    "L = []\n",
    "for t in range(1,M+1):\n",
    "    L.append(mean(coin_experiment(k,t)))\n",
    "\n",
    "# Now we plot\n",
    "plt.plot(list(range(1,M+1)),L); # Semicolon supresses some unnecessary output\n",
    "# Add axis labels:\n",
    "plt.ylabel('Mean')\n",
    "plt.xlabel('Number of trials')\n",
    "\n",
    "plt.show() # Display the plot"
   ]
  },
  {
   "cell_type": "markdown",
   "metadata": {},
   "source": [
    "### Exercise\n",
    "\n",
    "Write code to see what happens when the number of trials is fixed (say at 10), but the number of flips per trial runs between (say) 1 and 100.\n",
    "\n",
    "The plot should look quite different than what we got in the last plot. How can your output be normalized so that we get more comparable graphs?"
   ]
  },
  {
   "cell_type": "code",
   "execution_count": null,
   "metadata": {},
   "outputs": [],
   "source": []
  },
  {
   "cell_type": "markdown",
   "metadata": {},
   "source": [
    "# More Statistics and Lambda Functions"
   ]
  },
  {
   "cell_type": "markdown",
   "metadata": {},
   "source": [
    "## Lambda Functions\n",
    "\n",
    "Next we want to compute some more statistics about our experiment, which involves defining more functions. Let's take the opportunity to detour a bit into a new way to define functions: Lambda Functions. \n",
    "\n",
    "Basically, we can use lambda notation to define functions in a single line without storing them under a name. This leads to cleaner code, and is extremely useful for defining functions whose input and/or output is a function (think, e.g., linear operators in functional analysis).\n",
    "\n",
    "The syntax is different from what we have done before. Let's use lambda notation to define a function which takes a real number $x$ and outputs its square $x^2$. We will evaluate our function immediately on $x=3$."
   ]
  },
  {
   "cell_type": "code",
   "execution_count": 16,
   "metadata": {},
   "outputs": [
    {
     "data": {
      "text/plain": [
       "9"
      ]
     },
     "execution_count": 16,
     "metadata": {},
     "output_type": "execute_result"
    }
   ],
   "source": [
    "(lambda x: x*x)(3)\n",
    "# The first parenthesis defines a function \"x mapsto x*x\". \n",
    "# We then evaluate it on x=3 with the second parentheses."
   ]
  },
  {
   "cell_type": "markdown",
   "metadata": {},
   "source": [
    "What if we want to apply our function to a range of values with one command? The `map` function takes as input a function and an iterable (like a list) and outputs the function values on each element of the iterable. \n",
    "\n",
    "The output of `map` is a 'map object', which we transform into a list using the function `list`."
   ]
  },
  {
   "cell_type": "code",
   "execution_count": 17,
   "metadata": {},
   "outputs": [
    {
     "data": {
      "text/plain": [
       "[0, 1, 4, 9, 16, 25, 36, 49, 64, 81]"
      ]
     },
     "execution_count": 17,
     "metadata": {},
     "output_type": "execute_result"
    }
   ],
   "source": [
    "list(map(lambda x: x**2, range(10)))\n",
    "# Applies the function $x \\mapsto x^2$ to the list [0,1,...,9]"
   ]
  },
  {
   "cell_type": "markdown",
   "metadata": {},
   "source": [
    "The `map` function is also very useful; it not only produces cleaner code, but can also have a big effect on performance. This is because the `map` is lazily evaluated, meaning that the list doesn't need to be generated and stored in memory before applying the function.\n",
    "\n",
    "For example, we can run the following code very easily. On the other hand, we could not actually create a list with $10^100$ entries (we'd run out of memory!)."
   ]
  },
  {
   "cell_type": "code",
   "execution_count": 18,
   "metadata": {},
   "outputs": [
    {
     "name": "stdout",
     "output_type": "stream",
     "text": [
      "0\n",
      "1\n",
      "4\n",
      "9\n",
      "16\n"
     ]
    }
   ],
   "source": [
    "for s in map(lambda x: x**2, range(10**100)):\n",
    "    print(s)\n",
    "    if s > 10:\n",
    "        break"
   ]
  },
  {
   "cell_type": "markdown",
   "metadata": {},
   "source": [
    "To see an example of how these lambda functions might be useful, let's define a function which takes a function as one of its inputs. The `integral` function has inputs: a function $f$, a lower bound $a$, an upper bound $b$ and a positive real number $h$. The output is the numerical approximation integral of $f$ over $[a,b]$ using subdivisions of size $h$. in particular, we are using rectangular approximations to compute the integral."
   ]
  },
  {
   "cell_type": "code",
   "execution_count": 19,
   "metadata": {},
   "outputs": [],
   "source": [
    "def integral(f, a, b, h):\n",
    "    sum = 0\n",
    "    x = a\n",
    "    while x < b:\n",
    "        sum = sum + f(x)*h\n",
    "        x = x + h\n",
    "    return sum"
   ]
  },
  {
   "cell_type": "markdown",
   "metadata": {},
   "source": [
    "Now we can test our function. We don't need to define and store a function $f$ to evaluate `integral` on: we can use a lambda function as the input!"
   ]
  },
  {
   "cell_type": "code",
   "execution_count": 20,
   "metadata": {},
   "outputs": [
    {
     "data": {
      "text/plain": [
       "(1.0999999999999999, 1.0000000000000007)"
      ]
     },
     "execution_count": 20,
     "metadata": {},
     "output_type": "execute_result"
    }
   ],
   "source": [
    "integral(lambda x:1, 0, 1, 0.1), integral(lambda x:1, 0, 1, 0.01)"
   ]
  },
  {
   "cell_type": "code",
   "execution_count": 21,
   "metadata": {},
   "outputs": [
    {
     "data": {
      "text/plain": [
       "(0.55, 0.4950000000000004, 0.4995000000000005)"
      ]
     },
     "execution_count": 21,
     "metadata": {},
     "output_type": "execute_result"
    }
   ],
   "source": [
    "integral(lambda x: x, 0, 1, 0.1), integral(lambda x: x, 0, 1, 0.01), integral(lambda x:x, 0, 1, 0.001)"
   ]
  },
  {
   "cell_type": "code",
   "execution_count": 22,
   "metadata": {},
   "outputs": [],
   "source": [
    "# Test the integral function on some other functions for which you know the correct answer.\n",
    "# numpy has trig functions, called as np.sin() etc...\n"
   ]
  },
  {
   "cell_type": "markdown",
   "metadata": {},
   "source": [
    "Finally let's use lambda functions to create a function whose input includes a function and whose output is a function. In particular, we will numerically compute the antiderivative of a function."
   ]
  },
  {
   "cell_type": "code",
   "execution_count": 23,
   "metadata": {},
   "outputs": [],
   "source": [
    "# f is a function, a is an initial condition, h is a 'step-size' parameter\n",
    "def indefinite_integral(f,a,h): \n",
    "    return lambda x: integral(f, a, x, h) \n",
    "# By the fundamental theorem of calculus, this is an antiderivative!"
   ]
  },
  {
   "cell_type": "markdown",
   "metadata": {},
   "source": [
    "Let's test the fuction by computing an antiderivative, then plotting it together with the original function."
   ]
  },
  {
   "cell_type": "code",
   "execution_count": 24,
   "metadata": {},
   "outputs": [
    {
     "data": {
      "image/png": "[encoded data removed]",
      "text/plain": [
       "<Figure size 432x288 with 1 Axes>"
      ]
     },
     "metadata": {
      "needs_background": "light"
     },
     "output_type": "display_data"
    }
   ],
   "source": [
    "ff = indefinite_integral(lambda x:x*x, -3, 0.01)\n",
    "\n",
    "t = np.arange(-3, 4, 0.01) # Sample a domain to plot the functions over\n",
    "\n",
    "plt.plot(t,list(map(lambda x:x*x, t)));\n",
    "# 'map' applies the lambda function to everything in the list\n",
    "plt.plot(t,list(map(ff, t)));\n",
    "\n",
    "# We could also plot the antiderivative that we compute 'by hand'. Try it! \n",
    "# (You should see that it is indistinguishable from the plot of the numerical version)"
   ]
  },
  {
   "cell_type": "markdown",
   "metadata": {},
   "source": [
    "### Exercise\n",
    "\n",
    "Let $f$ and $g$ be functions on the real line, and suppose that $f$ is supported on $[a,b]$ (i.e., $f(x) = 0$ for $x \\not \\in [a,b]$). The convolution function $f \\ast g$ is defined by\n",
    "$$\n",
    "f\\ast g (t) = \\int_{a}^b f(\\tau) g(t - \\tau) \\; \\mathrm{d}\\tau.\n",
    "$$\n",
    "\n",
    "Define a function 'convolution' which takes as input two functions $f$ and $g$, lower and upper bounds $a$ and $b$ and a real number $h$ (subdivision width for numerical integration) and which outputs the convolution of $f$ and $g$. "
   ]
  },
  {
   "cell_type": "code",
   "execution_count": null,
   "metadata": {},
   "outputs": [],
   "source": []
  },
  {
   "cell_type": "markdown",
   "metadata": {},
   "source": [
    "The code below will test your convolution function on the 'pulse function' (as defined below). Does the plot make sense?"
   ]
  },
  {
   "cell_type": "code",
   "execution_count": 25,
   "metadata": {},
   "outputs": [
    {
     "ename": "NameError",
     "evalue": "name 'convolution' is not defined",
     "output_type": "error",
     "traceback": [
      "\u001b[0;31m---------------------------------------------------------------------------\u001b[0m",
      "\u001b[0;31mNameError\u001b[0m                                 Traceback (most recent call last)",
      "\u001b[0;32m<ipython-input-25-0321f3222381>\u001b[0m in \u001b[0;36m<module>\u001b[0;34m\u001b[0m\n\u001b[1;32m      7\u001b[0m         \u001b[0;32mreturn\u001b[0m \u001b[0;36m0\u001b[0m\u001b[0;34m\u001b[0m\u001b[0;34m\u001b[0m\u001b[0m\n\u001b[1;32m      8\u001b[0m \u001b[0;34m\u001b[0m\u001b[0m\n\u001b[0;32m----> 9\u001b[0;31m \u001b[0mff\u001b[0m \u001b[0;34m=\u001b[0m \u001b[0mconvolution\u001b[0m\u001b[0;34m(\u001b[0m\u001b[0mpulse\u001b[0m\u001b[0;34m,\u001b[0m \u001b[0mpulse\u001b[0m\u001b[0;34m,\u001b[0m \u001b[0;34m-\u001b[0m\u001b[0;36m4\u001b[0m\u001b[0;34m,\u001b[0m \u001b[0;36m4\u001b[0m\u001b[0;34m,\u001b[0m \u001b[0;36m0.01\u001b[0m\u001b[0;34m)\u001b[0m \u001b[0;31m# ff is the convolution of pulse with itself\u001b[0m\u001b[0;34m\u001b[0m\u001b[0;34m\u001b[0m\u001b[0m\n\u001b[0m\u001b[1;32m     10\u001b[0m \u001b[0;34m\u001b[0m\u001b[0m\n\u001b[1;32m     11\u001b[0m \u001b[0;31m# Plot pulse and the convolution\u001b[0m\u001b[0;34m\u001b[0m\u001b[0;34m\u001b[0m\u001b[0;34m\u001b[0m\u001b[0m\n",
      "\u001b[0;31mNameError\u001b[0m: name 'convolution' is not defined"
     ]
    }
   ],
   "source": [
    "def pulse(x): # Define the 'pulse function'\n",
    "    if x < 0:\n",
    "        return 0\n",
    "    elif x < 1:\n",
    "        return 1\n",
    "    else:\n",
    "        return 0\n",
    "\n",
    "ff = convolution(pulse, pulse, -4, 4, 0.01) # ff is the convolution of pulse with itself\n",
    "\n",
    "# Plot pulse and the convolution\n",
    "x_vals = np.linspace(-3,5,100)\n",
    "y1 = list(map(ff, x_vals))\n",
    "y2 = list(map(pulse,x_vals))\n",
    "plt.plot(x_vals, y1)\n",
    "plt.plot(x_vals,y2)"
   ]
  },
  {
   "cell_type": "markdown",
   "metadata": {},
   "source": [
    "## Back to Statistics"
   ]
  },
  {
   "cell_type": "markdown",
   "metadata": {},
   "source": [
    "Let's write a function to compute the standard deviation of a dataset. Certainly this can be found in some package, but let's write it from scratch for the practice. Recall that the standard deviation $\\sigma = \\sigma(X)$ of a dataset $X = \\{x_i\\}_{i=1}^N$ is given by\n",
    "$$\n",
    "\\sigma = \\left(\\frac{1}{N} \\sum_{i=1}^N \\left(x_i - \\mu \\right)^2 \\right)^{1/2},\n",
    "$$\n",
    "where $\\mu = \\mu(X)$ is the mean of $X$. (\n",
    "\n",
    "We will write our function by defining intermediate functions, then combining them to get $\\sigma$. This \\emph{modular} style of programming is good practice. This is because the intermediate functions might be interesting or useful in their own right. "
   ]
  },
  {
   "cell_type": "code",
   "execution_count": null,
   "metadata": {},
   "outputs": [],
   "source": [
    "# First define a function which centers the data on a fixed value.\n",
    "# This takes each data point and subtracts off the chosen center.\n",
    "\n",
    "def delta(data, center):\n",
    "    return map(lambda x: x - center, data)\n",
    "   \n",
    "# Test\n",
    "X = [1,2,3,4]\n",
    "c = 5\n",
    "\n",
    "list(delta(X,c)) \n",
    "# Note: The output of delta is a 'map object'. This is passed to a list by the above command.\n",
    "# A map object can also be converted to a set by the command set(). \n",
    "# Set is another data structure that we haven't work with yet."
   ]
  },
  {
   "cell_type": "code",
   "execution_count": null,
   "metadata": {},
   "outputs": [],
   "source": [
    "# Here is a function to compute deviations from the mean:\n",
    "\n",
    "def deviation(data):\n",
    "    return delta(data, mean(data))\n",
    "\n",
    "list(deviation(X))"
   ]
  },
  {
   "cell_type": "code",
   "execution_count": null,
   "metadata": {},
   "outputs": [],
   "source": [
    "# To compute the variance, we square the deviations, add, \n",
    "# and divide by the number of data points\n",
    "\n",
    "def variance(data):\n",
    "    squares = map(lambda x: x*x, deviation(data))\n",
    "    return sum(squares)/len(data)\n",
    "\n",
    "variance(X)"
   ]
  },
  {
   "cell_type": "code",
   "execution_count": null,
   "metadata": {},
   "outputs": [],
   "source": [
    "import math\n",
    "\n",
    "# Finally, the standard deviation is the square root of the variance:\n",
    "def stdev(data):\n",
    "    return math.sqrt(variance(data))\n",
    "    \n",
    "stdev(X)"
   ]
  },
  {
   "cell_type": "code",
   "execution_count": null,
   "metadata": {},
   "outputs": [],
   "source": [
    "# Let's return to the statistica of our experiments:\n",
    "data = coin_experiment(100, 10)\n",
    "print(\"mean\", mean(data))\n",
    "print(\"variance\", variance(data))\n",
    "print(\"stdev\", stdev(data))\n",
    "print(\"relstdev\",stdev(data)/mean(data)) # 'Relative standard deviation'"
   ]
  },
  {
   "cell_type": "markdown",
   "metadata": {},
   "source": [
    "### Exercise\n",
    "\n",
    "Play with the 'number of tosses' and 'number of trials' parameters to determine the qualitative behavior of the relative standard deviation across parameters. Create a plot to illustrate your findings."
   ]
  },
  {
   "cell_type": "code",
   "execution_count": null,
   "metadata": {},
   "outputs": [],
   "source": []
  },
  {
   "cell_type": "markdown",
   "metadata": {},
   "source": [
    "# Homework: Random Walks\n",
    "\n",
    "1) Create a new function `biased_coin(p)` which takes a probability $p \\in (0,1)$ that the coin flips to 'H'. Run through all of the experiments that we did above using your biased coin with several choices of $p$.\n",
    "\n",
    "2) Use the biased_coin function to define a 1-dimensional random walk. That is, at each time step, the walker decides by the biased coin flip whether to walk 'up' or 'down' one step along the y-axes. Plot several random walks over long spans of time (say, 1000 steps? Or 10,000?) for various values of $p$. What qualitative behavior do you observe?"
   ]
  },
  {
   "cell_type": "code",
   "execution_count": null,
   "metadata": {},
   "outputs": [],
   "source": []
  }
 ],
 "metadata": {
  "kernelspec": {
   "display_name": "Python 3",
   "language": "python",
   "name": "python3"
  },
  "language_info": {
   "codemirror_mode": {
    "name": "ipython",
    "version": 3
   },
   "file_extension": ".py",
   "mimetype": "text/x-python",
   "name": "python",
   "nbconvert_exporter": "python",
   "pygments_lexer": "ipython3",
   "version": "3.7.3"
  }
 },
 "nbformat": 4,
 "nbformat_minor": 2
}
